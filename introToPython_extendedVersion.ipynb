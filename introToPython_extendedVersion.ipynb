{
 "metadata": {
  "name": "",
  "signature": "sha256:1079b5fc83f4bf4bb26989584cb63b1441c7ad31a0a2b92ecb0f1da22e921fcb"
 },
 "nbformat": 3,
 "nbformat_minor": 0,
 "worksheets": [
  {
   "cells": [
    {
     "cell_type": "markdown",
     "metadata": {
      "slideshow": {
       "slide_type": "slide"
      }
     },
     "source": [
      "Introduction to Python for ArcGIS 10.x\n",
      "============================\n",
      "----------------------------\n",
      "##Instructors:\n",
      ">Aaron Ruesch, water quality modeler,<br/>\n",
      ">WDNR Water Quality Bureau<br/>\n",
      "><Aaron.Ruesch@wi.gov><br/>\n",
      "\n",
      ">Alison Mynsberge, GIS specialist<br/>\n",
      ">USDA Natural Resources Conservation Service (NRCS)<br/>\n",
      "><Alison.Mynsberg@wi.gov><br/>\n",
      "\n",
      ">David Evans, water resources management specialist<br/>\n",
      ">WDNR Water Quality Bureau<br/>\n",
      "><DavidM.Evans@wi.gov><br/>"
     ]
    },
    {
     "cell_type": "markdown",
     "metadata": {},
     "source": [
      "![](http://2.bp.blogspot.com/-C5yU0U56ZpI/TWM4xczoLPI/AAAAAAAAAMM/0adig1lZsa0/s1600/python.jpg)"
     ]
    },
    {
     "cell_type": "markdown",
     "metadata": {},
     "source": [
      "##Syllabus\n",
      "\n",
      "###Introduction to Python (~2hrs)\n",
      "1. [The Basics](#the_basics)\n",
      "    1. [Variables, statements, types, functions, and variable assignment]()\n",
      "    1. [String Manipulation](#string_manipulation)\n",
      "    1. [Collections: lists, tuples, and dictionaries]()\n",
      "1. [Python background](#Python_background)\n",
      "1. [Python 101](#Python_101)\n",
      "1. [Functional syntax and basic geoprocessing (*45 min.*)](#Functional_syntax_and_basic_geoprocessing)\n",
      "    1. [Looping](#Looping)\n",
      "    1. [Manipulation of strings](#Manipulation_of_strings)\n",
      "    1. [Manipulation of paths](#Manipulation_of_paths)\n",
      "    1. [Looping through paths to automate a task](#Looping_through_paths_to_automate_a_task)\n",
      "    1. [Exercise](#Exercise_4E)\n",
      "\n",
      "###Geoprocessing with ArcPy (~2hrs)\n",
      "\n",
      "###Arcpy.Mapping Module (~2hrs)\n",
      "\n",
      "1. [Exploring arcpy \"objects\" (*45 min.*)](#Exploring_arcpy_objects)\n",
      "    1. [The `arcpy.Describe` object](#The_arcpy_Describe_object)\n",
      "    1. [Using the `arcpy.Describe` object to inform geoprocessing](#Using_the_arcpy_Describe_object_to_inform_geoprocessing)\n",
      "    1. [Exercise](#Exercise_5C)\n",
      "1. [Cursors (*45 min.*)](#Cursors)\n",
      "    1. [Search cursors](#Search_cursors)\n",
      "    1. [Update cursors](#Update_cursors)\n",
      "    1. [Insert cursors](#Insert_cursors)\n",
      "    1. [Exercise](#Exercise_6D)\n",
      "\n",
      "####Given available time...\n",
      "\n",
      "1. [Creating custom geoprocessing tools (*15 min.*)](#Creating_custom_geoprocessing_tools)\n",
      "    1. [Exercise](#Exercise_7A)\n",
      "1. [Automated mapping and graphics: examples (*10 min.*)](#Automated_mapping_and_graphics_examples)\n",
      "    1. [Using the `arcpy.mapping` module](#Using_the_arcpy_mapping_module)\n",
      "    1. [The `arcpy.mapping` module in context](#The_arcpy_mapping_module_in_context)\n",
      "    1. [Exercise](#Exercise_8C)\n",
      "    1. [Automated analytical graphics](#Automated_analytical_graphics)\n",
      "1. [Conclusion](#Conclusion)\n",
      "1. [Resources](#Resources)"
     ]
    },
    {
     "cell_type": "heading",
     "level": 1,
     "metadata": {},
     "source": [
      "<a name=\"the_basics\">The Basics</a>"
     ]
    },
    {
     "cell_type": "markdown",
     "metadata": {},
     "source": [
      "#### A Note Before Beginning\n",
      "\n",
      "Coding can (and probably will) be really frustrating.\n",
      "\n",
      "In the words of Douglas Adams:\n",
      "> ** Don't Panic.** \n",
      "\n",
      "This is a normal part of learning and especially coding. Know that there are many people out there in the same place and who have been through what you're going through. Resources and references:\n",
      "* Python Documentation (<https://www.python.org/>): sometimes a little to in-depth for basic problems, but often very helpful\n",
      "* Think Python (<http://www.greenteapress.com/thinkpython/>): a very helpful reference for programming in Python\n",
      "* Codecademy (<http://www.codecademy.com/>) or other free, online tutorial: there are some really great free tutorials online that walk you through the basics of Python. I learned the basics of Python at Codecademy and highly recommend it. \n",
      "* Have you Googled your issue or problem? (<http://stackoverflow.com/questions/tagged/python>): Python has millions (okay, I have no idea how many, but certainly many thousands) of users many of them very helpful and generous with their time, see message boards,  and forums.\n",
      "\n",
      "* I find the words of Allen Downey in *Think Python* comforting:\n",
      "\n",
      "*\"Programming, and especially debugging, sometimes brings out strong emotions. If you\n",
      "are struggling with a difficult bug, you might feel angry, despondent or embarrassed. Preparing for these reactions might help you deal with them. One approach is to think of the computer as an employee with certain strengths, like speed and precision, and particular\n",
      "weaknesses, like lack of empathy and inability to grasp the big picture. Your job is to be a good manager: find ways to take advantage of the strengths and mitigate the weaknesses.\"*\n",
      "\n",
      "<!-- <https://wiki.python.org/moin/OrganizationsUsingPython>-->"
     ]
    },
    {
     "cell_type": "markdown",
     "metadata": {},
     "source": [
      "\n",
      "#### IDLE\n",
      "* For this section we'll be using IDLE. IDLE is an Integrated Development Environment (IDE) (this just means that its an environment for writing and running a programming language) for Python. It is simple to use and comes with the basic distribution of Python. This is where we'll be entering code and scripts. There are many other, arguably better, IDEs for Python, but for simplicity we'll be using IDLE. (Note that IDLE is a play on the Monty Python actor Eric Idle's name and IDE. )\n",
      "\n",
      "* Note, later in this class we will be using the Python Windown within ArcGIS or ArcCatalog, this also an IDE.\n",
      "\n",
      "* To open IDLE, move to your Start button and type IDLE and it should automatically pop open.\n",
      "\n",
      "* This is where we'll begin typing our code and running scripts."
     ]
    },
    {
     "cell_type": "markdown",
     "metadata": {},
     "source": [
      "#### Values, Types, Statements, and Functions\n",
      "Beginning with some specialized terms to help us understand programming. We'll touch on a number of things and then move on to some hands on exercises to better understand these ideas.\n",
      "\n",
      "*Statements*: units of code that can be run in Python. A program or code is composed of statements. (Note here that the `In [number]` and `Out [same number]` indicate lines of Python code being run.)\n",
      "\n",
      "*Values*: one of the basic items that a progam works with.\n",
      "\n",
      "*Types*: each value belongs to different class, called types. (Also, note here that words with `this kind of font` denotes Python words, things that will be typed into the IDE.)\n",
      "Examples:\n",
      "\n",
      "| Value              | Type    | \n",
      "|--------------------|---------|\n",
      "| `\"Potato\"`           | String  |\n",
      "| `4`                  | Integer |\n",
      "| `\"Four\"`               | String  |\n",
      "| `[\"four\", \"potato\"]`   | List    |\n",
      "| `4.4`                | Float   |\n",
      "\n",
      "Every value belongs to a certain type. Certain types can be composed of other types, for example the list `[four, potato]` is composed of two string-type values (more on lists in a bit). Integers and floats are numeric types in Python, these can be used in math functions. String types can be thought of as a type consisting of letters or other characters that will be printed out to read by a human. The difference between `4` and `\"4\"` is the quotes, the quotes tell Python that we are going to be treating this four more like a letter than a number. (We can (try to) switch types with certain functions, but more on that later.)"
     ]
    },
    {
     "cell_type": "markdown",
     "metadata": {},
     "source": [
      "*Functions*: the things that do stuff. I find it helpful to compare it to spoken languages: values are to nouns as functions are to verbs. A common function is the `print` function, which prints statements and values. Another very useful function is the `type` function, which will tell you what type a certain value belongs to.\n",
      "There are also specialized functions that convert between types, `str()`, `int()`, `float()`, or `list()`. Mathematical and logical symbols are technically known as operators, symbols that represent computations, either math or logical evaluations, but can be thought of as functions from the standpoint that it does something to a value or variable. Other operators are equally as obvious:\n",
      "\n",
      "| Name of Operation  | Operator Symbol    | \n",
      "|--------------------|---------|\n",
      "| Modulo | `%`|\n",
      "| Exponent           | `**`  |\n",
      "| Multiplication             | `*` |\n",
      "| Division (float)         | `/`  |\n",
      "| Division (floor division)   | `//`    |\n",
      "| Addition                | `=`   |\n",
      "| Subtraction | `-` |\n",
      "| Less than (less than equal to) |  `<` (`<=`) |\n",
      "| Greater than  (greater than equal to)  | `>` (`>=`)  |\n",
      "| Equal to    |  `==` |\n",
      "| Not | `!` |\n",
      "| Or | <code>&#124;</code>|\n",
      "\n",
      "When doing math in Python, the order of operations, PEMDAS (parenthesis, exponents, multiplication, division, addition, and subbtraction) apply."
     ]
    },
    {
     "cell_type": "markdown",
     "metadata": {},
     "source": [
      "Look at the statements below and try some out on your own computer. What are the functions? What are the values and what types of values are there?"
     ]
    },
    {
     "cell_type": "code",
     "collapsed": false,
     "input": [
      "4 + 5"
     ],
     "language": "python",
     "metadata": {},
     "outputs": [
      {
       "metadata": {},
       "output_type": "pyout",
       "prompt_number": 1,
       "text": [
        "9"
       ]
      }
     ],
     "prompt_number": 1
    },
    {
     "cell_type": "code",
     "collapsed": false,
     "input": [
      "'potato salad'"
     ],
     "language": "python",
     "metadata": {},
     "outputs": [
      {
       "metadata": {},
       "output_type": "pyout",
       "prompt_number": 2,
       "text": [
        "'potato salad'"
       ]
      }
     ],
     "prompt_number": 2
    },
    {
     "cell_type": "code",
     "collapsed": false,
     "input": [
      "print 'I love potato salad'\n",
      "print 4 * 5\n",
      "print [4,5,'mayonnaise']"
     ],
     "language": "python",
     "metadata": {},
     "outputs": [
      {
       "output_type": "stream",
       "stream": "stdout",
       "text": [
        "I love potato salad\n",
        "20\n",
        "[4, 5, 'mayonnaise']\n"
       ]
      }
     ],
     "prompt_number": 3
    },
    {
     "cell_type": "code",
     "collapsed": false,
     "input": [
      "type(\"I love mayo\")"
     ],
     "language": "python",
     "metadata": {},
     "outputs": [
      {
       "metadata": {},
       "output_type": "pyout",
       "prompt_number": 4,
       "text": [
        "str"
       ]
      }
     ],
     "prompt_number": 4
    },
    {
     "cell_type": "code",
     "collapsed": false,
     "input": [
      "type([\"What's the type of this value?\"])"
     ],
     "language": "python",
     "metadata": {},
     "outputs": [
      {
       "metadata": {},
       "output_type": "pyout",
       "prompt_number": 5,
       "text": [
        "list"
       ]
      }
     ],
     "prompt_number": 5
    },
    {
     "cell_type": "code",
     "collapsed": false,
     "input": [
      "\"a string\" + \" another\" * 3"
     ],
     "language": "python",
     "metadata": {},
     "outputs": [
      {
       "metadata": {},
       "output_type": "pyout",
       "prompt_number": 8,
       "text": [
        "'a string another another another'"
       ]
      }
     ],
     "prompt_number": 8
    },
    {
     "cell_type": "code",
     "collapsed": false,
     "input": [
      "another"
     ],
     "language": "python",
     "metadata": {},
     "outputs": [
      {
       "ename": "NameError",
       "evalue": "name 'another' is not defined",
       "output_type": "pyerr",
       "traceback": [
        "\u001b[1;31m---------------------------------------------------------------------------\u001b[0m\n\u001b[1;31mNameError\u001b[0m                                 Traceback (most recent call last)",
        "\u001b[1;32m<ipython-input-9-3740570a423f>\u001b[0m in \u001b[0;36m<module>\u001b[1;34m()\u001b[0m\n\u001b[1;32m----> 1\u001b[1;33m \u001b[0manother\u001b[0m\u001b[1;33m\u001b[0m\u001b[0m\n\u001b[0m",
        "\u001b[1;31mNameError\u001b[0m: name 'another' is not defined"
       ]
      }
     ],
     "prompt_number": 9
    },
    {
     "cell_type": "markdown",
     "metadata": {},
     "source": [
      "What did the `type()` function return? `str` is Python for string, meaning a character value and denoted with quotes, either single or double. Notice the \"`NameError`\" we got when typing a string without quotes, what happened here? Try using `type()` on some other values. Note the differences between `type(4)` and `type(4.0)` and `type(\"4.0\")`. \n"
     ]
    },
    {
     "cell_type": "markdown",
     "metadata": {},
     "source": [
      "#### Variable assignment\n",
      "\n",
      "One of the most important and useful aspects of Python is variable assignment. A variable is term for an object that holds a value. This is accomplished with the equals sign, `=`. Think of it as a container for a value. This allows us to save the output of functions for later use. \n",
      "\n",
      "As an example:"
     ]
    },
    {
     "cell_type": "code",
     "collapsed": false,
     "input": [
      "a_new_variable = 'some text right here'\n",
      "a_number_variable = 42\n",
      "print a_new_variable\n",
      "print a_number_variable"
     ],
     "language": "python",
     "metadata": {},
     "outputs": [
      {
       "output_type": "stream",
       "stream": "stdout",
       "text": [
        "some text right here\n",
        "42\n"
       ]
      }
     ],
     "prompt_number": 2
    },
    {
     "cell_type": "code",
     "collapsed": false,
     "input": [
      "type(a_new_variable)"
     ],
     "language": "python",
     "metadata": {},
     "outputs": [
      {
       "metadata": {},
       "output_type": "pyout",
       "prompt_number": 3,
       "text": [
        "str"
       ]
      }
     ],
     "prompt_number": 3
    },
    {
     "cell_type": "code",
     "collapsed": false,
     "input": [
      "type(a_number_variable)"
     ],
     "language": "python",
     "metadata": {},
     "outputs": [
      {
       "metadata": {},
       "output_type": "pyout",
       "prompt_number": 4,
       "text": [
        "int"
       ]
      }
     ],
     "prompt_number": 4
    },
    {
     "cell_type": "code",
     "collapsed": false,
     "input": [
      "(a_number_variable + 6)"
     ],
     "language": "python",
     "metadata": {},
     "outputs": [
      {
       "metadata": {},
       "output_type": "pyout",
       "prompt_number": 6,
       "text": [
        "48"
       ]
      }
     ],
     "prompt_number": 6
    },
    {
     "cell_type": "markdown",
     "metadata": {},
     "source": [
      "Variables hold on to the value they are given. It sounds obvious, but it's good practice to name your variables in a way that is representative of what value(s) they hold."
     ]
    },
    {
     "cell_type": "markdown",
     "metadata": {},
     "source": [
      "#### Brief Exercise\n",
      "Try some basic variable assignment and manipulate them with the math operators. \n",
      "\n"
     ]
    },
    {
     "cell_type": "markdown",
     "metadata": {},
     "source": [
      "#### Values, Types, Statements, Functions, and Assignments\n",
      "\n",
      "This is to get you familiar with IDLE and get aquainted with these basics. Open IDLE if you haven't yet.\n",
      "Try doing some basic math, printing some strings, assigning values to objects. Go ahead and get some errors and make mistakes. \n",
      "What happens when you type the following? Why? What are the types? What are the variables? What are the variable's values?\n",
      "\n",
      "* `a_number = 2`\n",
      "* `print a_number`\n",
      "* `type(a_number)`\n",
      "* `a_number * 2`\n",
      "* `a_number` \n",
      "\n",
      "* `two = \"2\" #note the quotes here`\n",
      "* `type(two)`\n",
      "* `two * 10`\n",
      "* `two + \"one\"`\n",
      "\n",
      "* `a_number + two`\n",
      "\n",
      "Find anything odd? This is a good introduction to what is called string manipulation and is an important part of programming.\n",
      "The first lines create a variable called `a_number` with a value of 2 and of an integer type (shown as `<type 'int'>`). When we multiply this by another `2` we get the predictable result `4`. \n",
      "\n",
      "What about the second block of code? We create a variable called `two`, a string type variable, with a value of `\"2\"`. What happens when we multiply a string by 10? We get that string repeated 10 times.  How about when we add the string `\"one\"` to the `two` variable? We end up with a string, a string that is the results of mashing this two strings together, `2one`. \n",
      "\n",
      "And what happened with we tried to add our two variables together? We can mash two strings together (technically known as 'concatenating' strings), but we can't mash a string and an integer type together. We can do this, but we need to first convert that integer to a string or vice versa; we need to specifically tell Python what we want it to do, which depends on our goals:"
     ]
    },
    {
     "cell_type": "code",
     "collapsed": false,
     "input": [
      "a_number = 2\n",
      "two = \"2\"\n",
      "print a_number + int(two)\n",
      "# or \n",
      "print str(a_number) + two\n"
     ],
     "language": "python",
     "metadata": {},
     "outputs": [
      {
       "output_type": "stream",
       "stream": "stdout",
       "text": [
        "4\n",
        "22\n"
       ]
      }
     ],
     "prompt_number": 13
    },
    {
     "cell_type": "markdown",
     "metadata": {},
     "source": [
      "Note that we're using the `print` function here to make sure that Python will print out those values. If we were only running code line by line, we wouldn't necessarily need the `print` function, but it's good practice to be as specific as possible when telling Python what we want done."
     ]
    },
    {
     "cell_type": "heading",
     "level": 1,
     "metadata": {},
     "source": [
      "<a name=\"string_manipulation\">String Manipulation</a>"
     ]
    },
    {
     "cell_type": "markdown",
     "metadata": {},
     "source": [
      "Strings have been mentioned a bit already but we need to go into more depth. The reason for this depth is because when we want to work with files on our computer, whether than means repojecting a shapefile or deleting a text file, we will be working with file paths which are strings. \n",
      "\n",
      "Strings are can be thought of as a sequence of characters stored together. We've mentioned strings are a type of value and we've seen that they are created with putting quotes around letters or numbers or with a call to the `str()` function. As an example, we'll taken a theoretical name of a vector file of Dane county, called `wisc_cnty_dane`. We'll assign it to a variable for ease."
     ]
    },
    {
     "cell_type": "code",
     "collapsed": false,
     "input": [
      "file_county = \"wisc_cnty_dane\"\n",
      "print file_county\n",
      "print type(file_county)"
     ],
     "language": "python",
     "metadata": {},
     "outputs": [
      {
       "output_type": "stream",
       "stream": "stdout",
       "text": [
        "wisc_cnty_dane\n",
        "<type 'str'>\n"
       ]
      }
     ],
     "prompt_number": 18
    },
    {
     "cell_type": "markdown",
     "metadata": {},
     "source": [
      "String variables can be changed, altered, and merged. For example, if we want to reference this file in a function, we might need the entire path of that file, that is where it is stored; think of the full file path as the full name of the file. We'll assume that our file is stored in a directory (folder) of other county files on our C drive, which we can find by copy pasteing the full path in the top of the Windows explorer window, for example \"C:\\\\gis_data\\\\county_files\". To create the full file path, we'll try to concatenate or merge the two strings together: "
     ]
    },
    {
     "cell_type": "code",
     "collapsed": false,
     "input": [
      "\"C:\\gis_data\\county_files\" + file_county"
     ],
     "language": "python",
     "metadata": {},
     "outputs": [
      {
       "metadata": {},
       "output_type": "pyout",
       "prompt_number": 19,
       "text": [
        "'C:\\\\gis_data\\\\county_fileswisc_cnty_dane'"
       ]
      }
     ],
     "prompt_number": 19
    },
    {
     "cell_type": "markdown",
     "metadata": {},
     "source": [
      "Hmmm. what happened? It looks like Python put an extra backslash in our path and there should be a slash showing that our Dane county file is in the `county_files` folder. \n",
      "\n",
      "The extra"
     ]
    },
    {
     "cell_type": "markdown",
     "metadata": {},
     "source": [
      "## Collection Objects\n",
      "\n",
      "We've seen how variables can hold on to values. This allows outputs of functions, whether they're strings or numbers to be used later. A different kind of object allows *collections* of objects to held in just one variable. These can be objects can be strings, integers, floats, and other lists.\n",
      "\n",
      "A *list* is created using square brackets to mark the beginning `[` and the end `]` of the list, with commas separating the items in the list. It can also be created with a call to function `list()`."
     ]
    },
    {
     "cell_type": "code",
     "collapsed": false,
     "input": [
      "a_list = [\"Adams\", \"Juneau\", \"Waushara\", \"Clark\", \"Pepin\", \"Dane\"]\n",
      "print a_list"
     ],
     "language": "python",
     "metadata": {},
     "outputs": [
      {
       "output_type": "stream",
       "stream": "stdout",
       "text": [
        "['Adams', 'Juneau', 'Waushara', 'Clark', 'Pepin', 'Dane']\n"
       ]
      }
     ],
     "prompt_number": 16
    },
    {
     "cell_type": "markdown",
     "metadata": {},
     "source": [
      "This is an example of a list with six integers, two strings. \n",
      "\n",
      "(There are other collection objects, these are dictionaries and tuples. A tuple is like a list, but it cannot be changed, and is created with parentheses instead of brackets. A dictionary stores objects for easy reference and can be useful when certain information needs to be called from a collection. For this class we will only work with lists.)\n",
      "\n",
      "List type objects can be assigned to objects, just like other values, and then they can be used again, either as a list or by referencing the variables or values stored within the list."
     ]
    },
    {
     "cell_type": "code",
     "collapsed": false,
     "input": [
      "a_list"
     ],
     "language": "python",
     "metadata": {},
     "outputs": [
      {
       "metadata": {},
       "output_type": "pyout",
       "prompt_number": 15,
       "text": [
        "[1, 2, 3, 4, 5, 'six', 'seven', 8]"
       ]
      }
     ],
     "prompt_number": 15
    },
    {
     "cell_type": "markdown",
     "metadata": {},
     "source": [
      "## Other items to discuss\n",
      "\n",
      "### Collections \n",
      "Mention'em all, but in detail lists\n",
      "\n",
      "### String Manipulation\n",
      "\n",
      "### Logic\n",
      "if/else\n",
      "\n",
      "### For loops"
     ]
    },
    {
     "cell_type": "markdown",
     "metadata": {},
     "source": [
      "###<a name=\"Workshop_goals_and_setup\">1. Workshop goals and setup</a>\n",
      "\n",
      "* To introduce Python programming concepts and syntax.\n",
      "* To provide practical, hands-on experience with Python tools and applications in ArcGIS 10.\n",
      "* To help you get started with using Python on the job.\n",
      "\n",
      "####<a name=\"Main_Topics\">1.A. Main Topics</a>\n",
      "\n",
      "* Python 101:  Basic syntax and `arcpy` module\n",
      "* Functional syntax and basic geoprocessing\n",
      "* `arcpy` \"objects\"\n",
      "* Cursors\n",
      "* Automated mapping and graphics\n",
      "\n",
      "####<a name=\"Setup\">1.B. Setup</a>\n",
      "\n",
      "Open a Python window and copy the following code:"
     ]
    },
    {
     "cell_type": "code",
     "collapsed": false,
     "input": [
      "import os, urllib, sys\n",
      "url = 'https://raw.github.com/asruesch/pythonGisWorkshop/master/workshopEnv.py'\n",
      "home = os.path.expanduser('~')\n",
      "wd = home + '/pythonWorkshopWLIA2014'\n",
      "if not os.path.exists(wd):\n",
      "    os.makedirs(wd)\n",
      "urllib.urlretrieve(url, wd + '/workshopEnv.py')\n",
      "sys.path.append(wd)\n",
      "import workshopEnv\n",
      "from workshopEnv import *"
     ],
     "language": "python",
     "metadata": {},
     "outputs": [],
     "prompt_number": 1
    },
    {
     "cell_type": "markdown",
     "metadata": {},
     "source": [
      "The above script automatically downloads a dataset that we'll be using for the rest of the class and unzips it into your home directory (e.g., `C:/Users/username`). If at anytime you want to start from scratch, execute the following commands:"
     ]
    },
    {
     "cell_type": "code",
     "collapsed": false,
     "input": [
      "# This will clone the original copy of the data\n",
      "reload(workshopEnv)\n",
      "# This will redefine all variables\n",
      "from workshopEnv import *"
     ],
     "language": "python",
     "metadata": {},
     "outputs": [],
     "prompt_number": 2
    },
    {
     "cell_type": "markdown",
     "metadata": {},
     "source": [
      ">**Note:** Instructors will also have the class data available on a memory stick if the above script doesn't work for you."
     ]
    },
    {
     "cell_type": "markdown",
     "metadata": {},
     "source": [
      "###<a name=\"Python_background\">2. Python background</a>\n",
      "\n",
      "####<a name=\"Python_characteristics\">2.A. Python characteristics</a>\n",
      "\n",
      "* Free and Open source software\n",
      "* Has simple and readable syntax \n",
      "* Cross platform compatible (Windows, Mac, Linux)\n",
      "* Does not need to be compiled\n",
      "* In the top 10 of most popular programming languages\n",
      "* Named after Monty Python\u2019s Flying Circus.\n",
      "\n",
      "####<a name=\"Applications_of_Python_in_ArcGIS\">2.B. Applications of Python in ArcGIS</a>\n",
      "\n",
      "* Automation of repeated processes to improve efficiency and quality.\n",
      "* Extend and customize ArcGIS methods.\n",
      "* Other reasons to use Python?\n",
      "\n",
      "####<a name=\"Using_Python_in_ArcGIS\">2.C. Using Python in ArcGIS</a>\n",
      "\n",
      "* ArcGIS 10 uses Python 2.7.  \n",
      "* Python 3.3 is available, but it is not compatible with ArcGIS.\n",
      "* Python may be used in ArcGIS from the Python window.  It is a good tool for testing and experimenting with code.\n",
      " \n",
      "> **Note:** We will also take a look at Python IDEs (Integrated Development Environments).  IDEs are useful form for more complex coding and debugging.  Many free IDEs exists such as PythonWin, PyScripter, Aptana Studio, and Notepad++.\n",
      "\n",
      "###<a name=\"Python_101\">3. Python 101</a>\n",
      "\n",
      "####<a name=\"Objectives\">3.A. Objectives:</a>\n",
      "You will learn Python syntax for:\n",
      "\n",
      "* Variables\n",
      "* Logic testing\n",
      "* Importing modules\n",
      "* `for` loops\n",
      "\n",
      "####<a name=\"Python_syntax_tips\">3.B. Python syntax tips:</a>\n",
      "\n",
      "* Python is case sensitive\n",
      "* Indentation determines program flow\n",
      "* For path names, use forward-slash separator (e.g., `C:/temp/parcels.shp`)\n",
      "\n",
      "####<a name=\"Variables_name_that_refers_to_a_value\">3.C. Variables&mdash;name that refers to a value</a>\n",
      "\n",
      "Examples:\n",
      "\n",
      "```python\n",
      "x = 'Jack Dangermond is God'\n",
      "bufferDistance = 50\n",
      "input_data = 'C:/temp/parcels'\n",
      "```\n",
      "\n",
      "####<a name=\"Logic_testing_with_if_else_statements\">3.D.  Logic testing with `if`, `else` statements</a>\n",
      "\n",
      "* Use a colon at the end of each condition\n",
      "* `==` tests equality\n",
      "\n",
      "Example:\n",
      "\n",
      "```python\n",
      "lunch = 'Tacos'\n",
      "if lunch == 'Tacos':\n",
      "    # comment execute indented lines\n",
      "    print 'We will have a taco bar for lunch'\n",
      "else:\n",
      "\tprint 'Sorry, no tacos for lunch'\n",
      "```\n",
      "\n",
      "####<a name=\"Modules\">3.E. Modules</a>\n",
      "\n",
      "* Similar idea to ArcGIS extensions\n",
      "* Usually declared on top of the program.\n",
      "* Import `arcpy` statement to enable the ArcGIS module\n",
      "* 100s of modules exist to support a wide variety of Python applications."
     ]
    },
    {
     "cell_type": "markdown",
     "metadata": {},
     "source": [
      "###<a name=\"Functional_syntax_and_basic_geoprocessing\">4. Functional syntax and basic geoprocessing</a>\n",
      "\n",
      "####<a name=\"Looping\">4.A. Looping</a>\n",
      "\n",
      "There are multiple ways to loop in Python, however we are going to focus on the `for` loop, which is the most common, and arguably most useful. `for` loops use \"iterators.\" A `for` loop will iterate through each item of the iterator, one-by-one. Iterators can be a variety of data types."
     ]
    },
    {
     "cell_type": "code",
     "collapsed": false,
     "input": [
      "# A loop.\n",
      "list_iterator = [1,2,3] # Brackets denote a list.\n",
      "\n",
      "for i in list_iterator:\n",
      "    print i"
     ],
     "language": "python",
     "metadata": {},
     "outputs": [
      {
       "output_type": "stream",
       "stream": "stdout",
       "text": [
        "1\n",
        "2\n",
        "3\n"
       ]
      }
     ],
     "prompt_number": 5
    },
    {
     "cell_type": "code",
     "collapsed": false,
     "input": [
      "tuple_iterator = (1,2,3) # Parentheses denote a tuple.\n",
      "\n",
      "for i in tuple_iterator:\n",
      "    print i"
     ],
     "language": "python",
     "metadata": {},
     "outputs": [
      {
       "output_type": "stream",
       "stream": "stdout",
       "text": [
        "1\n",
        "2\n",
        "3\n"
       ]
      }
     ],
     "prompt_number": 6
    },
    {
     "cell_type": "code",
     "collapsed": false,
     "input": [
      "dictionary_iterator = {'a':1, 'b':2, 'c':3} # Curly brackets denote a dictionary.\n",
      "\n",
      "print(\"Iterate through dictionary *keys*\")\n",
      "for i in dictionary_iterator:\n",
      "    print i\n",
      "\n",
      "print(\"Iterate through dictionary *values*\")\n",
      "for i in dictionary_iterator.itervalues():\n",
      "    print i"
     ],
     "language": "python",
     "metadata": {},
     "outputs": [
      {
       "output_type": "stream",
       "stream": "stdout",
       "text": [
        "Iterate through dictionary *keys*\n",
        "a\n",
        "c\n",
        "b\n",
        "Iterate through dictionary *values*\n",
        "1\n",
        "3\n",
        "2\n"
       ]
      }
     ],
     "prompt_number": 7
    },
    {
     "cell_type": "markdown",
     "metadata": {},
     "source": [
      "####<a name=\"Manipulation_of_strings\">4.B. Manipulation of strings</a>"
     ]
    },
    {
     "cell_type": "markdown",
     "metadata": {},
     "source": [
      "Use the '+' operator to concatenate strings."
     ]
    },
    {
     "cell_type": "code",
     "collapsed": false,
     "input": [
      "for i in dictionary_iterator:\n",
      "    print i + ' is the string being used in this iteration'"
     ],
     "language": "python",
     "metadata": {},
     "outputs": [
      {
       "output_type": "stream",
       "stream": "stdout",
       "text": [
        "a is the string being used in this iteration\n",
        "c is the string being used in this iteration\n",
        "b is the string being used in this iteration\n"
       ]
      }
     ],
     "prompt_number": 8
    },
    {
     "cell_type": "markdown",
     "metadata": {},
     "source": [
      "That looks a little funny grammatically. Maybe we want to put the iterator value in quotes for emphasis. However, in order to do that, we will need to use quotes within quotes."
     ]
    },
    {
     "cell_type": "code",
     "collapsed": false,
     "input": [
      "print \"\"a\" is a letter of the alphabet\""
     ],
     "language": "python",
     "metadata": {},
     "outputs": [
      {
       "ename": "SyntaxError",
       "evalue": "invalid syntax (<ipython-input-9-1285cea3a568>, line 1)",
       "output_type": "pyerr",
       "traceback": [
        "\u001b[1;36m  File \u001b[1;32m\"<ipython-input-9-1285cea3a568>\"\u001b[1;36m, line \u001b[1;32m1\u001b[0m\n\u001b[1;33m    print \"\"a\" is a letter of the alphabet\"\u001b[0m\n\u001b[1;37m            ^\u001b[0m\n\u001b[1;31mSyntaxError\u001b[0m\u001b[1;31m:\u001b[0m invalid syntax\n"
       ]
      }
     ],
     "prompt_number": 9
    },
    {
     "cell_type": "markdown",
     "metadata": {},
     "source": [
      "That will not work because Python reads this as an empty string followed by the **object**, `a`, followed by the trailing string. We can better communicate this to Python by using both single and double quotes."
     ]
    },
    {
     "cell_type": "code",
     "collapsed": false,
     "input": [
      "print '\"a\" is a letter of the alphabet'"
     ],
     "language": "python",
     "metadata": {},
     "outputs": [
      {
       "output_type": "stream",
       "stream": "stdout",
       "text": [
        "\"a\" is a letter of the alphabet\n"
       ]
      }
     ],
     "prompt_number": 10
    },
    {
     "cell_type": "markdown",
     "metadata": {},
     "source": [
      "Alternatively, we can use the backslash as an escape character to communicate to Python that the quotes should be treated as literal. This in fact will allow us to use both single and double quotes within a string, which will become important as you'll see later in this module."
     ]
    },
    {
     "cell_type": "code",
     "collapsed": false,
     "input": [
      "print '\"a\" is a \\'letter\\' of the alphabet'"
     ],
     "language": "python",
     "metadata": {},
     "outputs": [
      {
       "output_type": "stream",
       "stream": "stdout",
       "text": [
        "\"a\" is a 'letter' of the alphabet\n"
       ]
      }
     ],
     "prompt_number": 11
    },
    {
     "cell_type": "markdown",
     "metadata": {},
     "source": [
      "Also important to note is that only like types can use the '+' operator, otherwise you will get a \"type error.\""
     ]
    },
    {
     "cell_type": "code",
     "collapsed": false,
     "input": [
      "for i in dictionary_iterator.itervalues():\n",
      "    print '\"' + i + '\" is the string being used in this iteration'"
     ],
     "language": "python",
     "metadata": {},
     "outputs": [
      {
       "ename": "TypeError",
       "evalue": "cannot concatenate 'str' and 'int' objects",
       "output_type": "pyerr",
       "traceback": [
        "\u001b[1;31m---------------------------------------------------------------------------\u001b[0m\n\u001b[1;31mTypeError\u001b[0m                                 Traceback (most recent call last)",
        "\u001b[1;32m<ipython-input-13-988632d80ea1>\u001b[0m in \u001b[0;36m<module>\u001b[1;34m()\u001b[0m\n\u001b[0;32m      1\u001b[0m \u001b[1;32mfor\u001b[0m \u001b[0mi\u001b[0m \u001b[1;32min\u001b[0m \u001b[0mdictionary_iterator\u001b[0m\u001b[1;33m.\u001b[0m\u001b[0mitervalues\u001b[0m\u001b[1;33m(\u001b[0m\u001b[1;33m)\u001b[0m\u001b[1;33m:\u001b[0m\u001b[1;33m\u001b[0m\u001b[0m\n\u001b[1;32m----> 2\u001b[1;33m     \u001b[1;32mprint\u001b[0m \u001b[1;34m'\"'\u001b[0m \u001b[1;33m+\u001b[0m \u001b[0mi\u001b[0m \u001b[1;33m+\u001b[0m \u001b[1;34m'\" is the string being used in this iteration'\u001b[0m\u001b[1;33m\u001b[0m\u001b[0m\n\u001b[0m",
        "\u001b[1;31mTypeError\u001b[0m: cannot concatenate 'str' and 'int' objects"
       ]
      }
     ],
     "prompt_number": 13
    },
    {
     "cell_type": "markdown",
     "metadata": {},
     "source": [
      "However, if we first convert the integer to a string, we are good!"
     ]
    },
    {
     "cell_type": "code",
     "collapsed": false,
     "input": [
      "for i in dictionary_iterator.itervalues():\n",
      "    print '\"' + str(i) + '\" is the string being used in this iteration'"
     ],
     "language": "python",
     "metadata": {},
     "outputs": [
      {
       "output_type": "stream",
       "stream": "stdout",
       "text": [
        "\"1\" is the string being used in this iteration\n",
        "\"3\" is the string being used in this iteration\n",
        "\"2\" is the string being used in this iteration\n"
       ]
      }
     ],
     "prompt_number": 14
    },
    {
     "cell_type": "markdown",
     "metadata": {},
     "source": [
      "####<a name=\"Manipulation_of_paths\">4.C. Manipulation of paths</a>\n",
      "\n",
      "Concatenation of strings becomes extremely important when defining **file paths**."
     ]
    },
    {
     "cell_type": "code",
     "collapsed": false,
     "input": [
      "home = os.path.expanduser(\"~\")\n",
      "print home\n",
      "docs = home + '/Documents'\n",
      "print docs"
     ],
     "language": "python",
     "metadata": {},
     "outputs": [
      {
       "output_type": "stream",
       "stream": "stdout",
       "text": [
        "C:\\Users\\ruesca\n",
        "C:\\Users\\ruesca/Documents\n"
       ]
      }
     ],
     "prompt_number": 15
    },
    {
     "cell_type": "markdown",
     "metadata": {},
     "source": [
      ">**Note:** There is an important distinction between forward and backslashes. Windows is the only system that uses backslashes in path definition. Most everything else (e.g., Mac, *nix) use forward slashes according to POSIX standard. Because Python was originally written to be POSIX-compliant, it uses forward slashes natively. To use a backslash in a string, use two backslashes."
     ]
    },
    {
     "cell_type": "code",
     "collapsed": false,
     "input": [
      "windowsPath = 'C:\\\\Users\\\\ruesca'\n",
      "print windowsPath"
     ],
     "language": "python",
     "metadata": {},
     "outputs": [
      {
       "output_type": "stream",
       "stream": "stdout",
       "text": [
        "C:\\Users\\ruesca\n"
       ]
      }
     ],
     "prompt_number": 16
    },
    {
     "cell_type": "markdown",
     "metadata": {},
     "source": [
      "Or, you can create a \"raw\" string that treats every character as literal. Many ArcGIS users (ergo Windows users) make this a habit when dealing with file paths."
     ]
    },
    {
     "cell_type": "code",
     "collapsed": false,
     "input": [
      "windowsPath = r'C:\\Users\\ruesca'\n",
      "print windowsPath"
     ],
     "language": "python",
     "metadata": {},
     "outputs": [
      {
       "output_type": "stream",
       "stream": "stdout",
       "text": [
        "C:\\Users\\ruesca\n"
       ]
      }
     ],
     "prompt_number": 17
    },
    {
     "cell_type": "markdown",
     "metadata": {},
     "source": [
      "If the `r` is not placed in front of the string, Python will interpret your string in very strange ways."
     ]
    },
    {
     "cell_type": "code",
     "collapsed": false,
     "input": [
      "# Notice that the backslashes are only printed once.\n",
      "# The first one is considered by the Python interpreter to be an 'escape' character.\n",
      "# An escape character tells the interpreter to consider the next character to be literal.\n",
      "\n",
      "windowsPath = 'C:\\Users\\ruesca'\n",
      "print windowsPath\n",
      "\n",
      "# Hmmm, that's not right.\n",
      "# Python interprets '\\U' and '\\r' as single characters with special meaning.\n",
      "# I have no idea what those meanings are..."
     ],
     "language": "python",
     "metadata": {},
     "outputs": [
      {
       "output_type": "stream",
       "stream": "stdout",
       "text": [
        "C:\\Users\r",
        "uesca\n"
       ]
      }
     ],
     "prompt_number": 18
    },
    {
     "cell_type": "markdown",
     "metadata": {},
     "source": [
      "To fix the backslashes, use the `replace()` method. A **method** is a **function** embedded within an **object** that can only be executed on that object or an object defined in the same way. For example, any object defined as a string data type has the same set of methods. To view methods for an object, you can type the object into a Python interpreter followed by a dot, then hit the tab button. Give it a try..."
     ]
    },
    {
     "cell_type": "code",
     "collapsed": false,
     "input": [
      "# Let's replace the backslashes with forward slashes using the replace() method\n",
      "# You can redefine a variable instead of creating a new one\n",
      "\n",
      "print home\n",
      "home = home.replace('\\\\', '/')\n",
      "print home"
     ],
     "language": "python",
     "metadata": {},
     "outputs": [
      {
       "output_type": "stream",
       "stream": "stdout",
       "text": [
        "C:\\Users\\ruesca\n",
        "C:/Users/ruesca\n"
       ]
      }
     ],
     "prompt_number": 19
    },
    {
     "cell_type": "markdown",
     "metadata": {},
     "source": [
      "The [`os.path`](http://docs.python.org/2/library/os.path.html) module is the primary utility for manipulating paths. Try typing `os.path.` and hit the tab button. You should see a long list of embedded objects including the `expanduser()` function that we used earlier. Most of these embedded objects are **function** types, which means they will **do** something given a set of **arguments** contained in parentheses following the function name."
     ]
    },
    {
     "cell_type": "code",
     "collapsed": false,
     "input": [
      "print 'home: ' + home\n",
      "print 'basename: ' + os.path.basename(home)\n",
      "print 'dirname: ' + os.path.dirname(home)\n",
      "print 'split: ' + str(os.path.split(home))\n",
      "print 'exists: ' + str(os.path.exists(home))"
     ],
     "language": "python",
     "metadata": {},
     "outputs": [
      {
       "output_type": "stream",
       "stream": "stdout",
       "text": [
        "home: C:/Users/ruesca\n",
        "basename: ruesca\n",
        "dirname: C:/Users\n",
        "split: ('C:/Users', 'ruesca')\n",
        "exists: True\n"
       ]
      }
     ],
     "prompt_number": 20
    },
    {
     "cell_type": "markdown",
     "metadata": {},
     "source": [
      "####<a name=\"Looping_through_paths_to_automate_a_task\">4.D. Looping through paths to automate a task</a>"
     ]
    },
    {
     "cell_type": "markdown",
     "metadata": {},
     "source": [
      "First, let's try using the `env` module, which is a sub-module of `arcpy`. The `env` module contains all functionality that you would normally find in the 'Environment settings' of a geoprocessing tool, and then some.<a name=\"loopingExample\"></a>"
     ]
    },
    {
     "cell_type": "code",
     "collapsed": false,
     "input": [
      "import arcpy\n",
      "# To use the env module, we can use dot notation to access embedded objects\n",
      "print arcpy.env.workspace\n",
      "\n",
      "# Or, to make the code more readable, we can import the whole module\n",
      "from arcpy import env\n",
      "print env.workspace"
     ],
     "language": "python",
     "metadata": {},
     "outputs": [
      {
       "output_type": "stream",
       "stream": "stdout",
       "text": [
        "C:\\Users\\ruesca/pythonWorkshopWLIA2014/WLIA_pythonclass_data.gdb\n",
        "C:\\Users\\ruesca/pythonWorkshopWLIA2014/WLIA_pythonclass_data.gdb\n"
       ]
      }
     ],
     "prompt_number": 21
    },
    {
     "cell_type": "code",
     "collapsed": false,
     "input": [
      "# Define a variable called fgdb that points to the geodatabase for the workshop\n",
      "fgdb = wd + '/WLIA_pythonclass_data.gdb'\n",
      "\n",
      "# Set the workspace environment variable to the workshop geodatabase.\n",
      "# This will give us access to its datasets without having to define the full path\n",
      "arcpy.env.workspace = fgdb\n",
      "\n",
      "# List the datasets in the geodatabase\n",
      "feature_classes = arcpy.ListFeatureClasses()\n",
      "print 'Feature classes: ' + str(feature_classes)\n",
      "rasters = arcpy.ListRasters()\n",
      "print 'Rasters: ' + str(rasters)"
     ],
     "language": "python",
     "metadata": {},
     "outputs": [
      {
       "output_type": "stream",
       "stream": "stdout",
       "text": [
        "Feature classes: [u'Roads_Census2k', u'Sections', u'QSections', u'OpenWater', u'MCDs', u'Soils']\n",
        "Rasters: [u'DEM30m']"
       ]
      },
      {
       "output_type": "stream",
       "stream": "stdout",
       "text": [
        "\n"
       ]
      }
     ],
     "prompt_number": 22
    },
    {
     "cell_type": "markdown",
     "metadata": {},
     "source": [
      ">**Note:** the 'u' in front of each string denotes that that string is a [unicode](http://en.wikipedia.org/wiki/Unicode) type string. This just tells the computer to handle the text in a specific way. For most purposes outside of advanced text handling, this definition is unimportant. "
     ]
    },
    {
     "cell_type": "markdown",
     "metadata": {},
     "source": [
      "We can also concatenate lists using the `+` operator. This will append an additional item to a list."
     ]
    },
    {
     "cell_type": "code",
     "collapsed": false,
     "input": [
      "# Let's create a complete list of all our datasets, feature classes and rasters.\n",
      "datasets = feature_classes + rasters\n",
      "print datasets"
     ],
     "language": "python",
     "metadata": {},
     "outputs": [
      {
       "output_type": "stream",
       "stream": "stdout",
       "text": [
        "[u'Roads_Census2k', u'Sections', u'QSections', u'OpenWater', u'MCDs', u'Soils', u'DEM30m']\n"
       ]
      }
     ],
     "prompt_number": 23
    },
    {
     "cell_type": "markdown",
     "metadata": {},
     "source": [
      "Let's try a single geoprocessing task before we get too fancy."
     ]
    },
    {
     "cell_type": "code",
     "collapsed": false,
     "input": [
      "# Pull the 0th (i.e., Pythonic \"first\") element out of the list of feature classes\n",
      "roads = feature_classes[0]\n",
      "# Define an output path in the file geodatabase\n",
      "simplified_roads = fgdb + '/simplified_roads'\n",
      "arcpy.SimplifyLine_cartography(roads, simplified_roads, \"POINT_REMOVE\", 50)"
     ],
     "language": "python",
     "metadata": {},
     "outputs": [
      {
       "metadata": {},
       "output_type": "pyout",
       "prompt_number": 24,
       "text": [
        "<Result 'C:\\\\Users\\\\ruesca\\\\pythonWorkshopWLIA2014\\\\WLIA_pythonclass_data.gdb\\\\simplified_roads'>"
       ]
      }
     ],
     "prompt_number": 24
    },
    {
     "cell_type": "markdown",
     "metadata": {},
     "source": [
      "It works. Let's get fancy now. Let's say we're from Cross Plains. We were given this dataset of the Cross Plains area, but we only care about what goes on within the city limits. Let's clip all the data to the city limits. If we were going to do this in ArcGIS Desktop, we would intersect each dataset with the Cross Plains boundary, but first we would have to either export the Cross Plains feature from the MCDs feature class or simply select it before running the intersection."
     ]
    },
    {
     "cell_type": "code",
     "collapsed": false,
     "input": [
      "# First, select the Cross Plains boundary\n",
      "# To do this, we have to first create a 'layer'\n",
      "# Think of this as though you were \"adding data\" in ArcGIS\n",
      "arcpy.MakeFeatureLayer_management('MCDs', 'MCD_layer')\n",
      "\n",
      "# Then select the Cross Plains feature\n",
      "arcpy.SelectLayerByAttribute_management('MCD_layer', 'NEW_SELECTION', '\"CVT_TYPE\" = \\'V\\'')\n",
      "select_count = int(arcpy.GetCount_management('MCD_layer').getOutput(0))\n",
      "print select_count"
     ],
     "language": "python",
     "metadata": {},
     "outputs": [
      {
       "output_type": "stream",
       "stream": "stdout",
       "text": [
        "1\n"
       ]
      }
     ],
     "prompt_number": 25
    },
    {
     "cell_type": "markdown",
     "metadata": {},
     "source": [
      "Notice the third argument of the selection code. This is the expression that defines the attribute selection. ArcGIS attribute selections within text fields require that the field name is enclosed in double quotes and the value within single quotes."
     ]
    },
    {
     "cell_type": "code",
     "collapsed": false,
     "input": [
      " print '\"CVT_TYPE\" = \\'V\\''"
     ],
     "language": "python",
     "metadata": {},
     "outputs": [
      {
       "output_type": "stream",
       "stream": "stdout",
       "text": [
        "\"CVT_TYPE\" = 'V'\n"
       ]
      }
     ],
     "prompt_number": 26
    },
    {
     "cell_type": "markdown",
     "metadata": {},
     "source": [
      "Now that we have Cross Plains selected, we can start clipping. Let's put everything together to automate all the clipping."
     ]
    },
    {
     "cell_type": "code",
     "collapsed": false,
     "input": [
      "for dataset in datasets:\n",
      "    output = dataset + '_clip'\n",
      "    print output\n",
      "    arcpy.Intersect_analysis(['MCD_layer', dataset], output)"
     ],
     "language": "python",
     "metadata": {},
     "outputs": [
      {
       "output_type": "stream",
       "stream": "stdout",
       "text": [
        "Roads_Census2k_clip\n",
        "Sections_clip"
       ]
      },
      {
       "output_type": "stream",
       "stream": "stdout",
       "text": [
        "\n",
        "QSections_clip"
       ]
      },
      {
       "output_type": "stream",
       "stream": "stdout",
       "text": [
        "\n",
        "OpenWater_clip"
       ]
      },
      {
       "output_type": "stream",
       "stream": "stdout",
       "text": [
        "\n",
        "MCDs_clip"
       ]
      },
      {
       "output_type": "stream",
       "stream": "stdout",
       "text": [
        "\n",
        "Soils_clip"
       ]
      },
      {
       "output_type": "stream",
       "stream": "stdout",
       "text": [
        "\n",
        "DEM30m_clip"
       ]
      },
      {
       "ename": "ExecuteError",
       "evalue": "Failed to execute. Parameters are not valid.\nERROR 000732: Input Features: Dataset MCD_layer #;DEM30m # does not exist or is not supported\nFailed to execute (Intersect).\n",
       "output_type": "pyerr",
       "traceback": [
        "\u001b[1;31m---------------------------------------------------------------------------\u001b[0m\n\u001b[1;31mExecuteError\u001b[0m                              Traceback (most recent call last)",
        "\u001b[1;32m<ipython-input-27-2e0631522a47>\u001b[0m in \u001b[0;36m<module>\u001b[1;34m()\u001b[0m\n\u001b[0;32m      2\u001b[0m     \u001b[0moutput\u001b[0m \u001b[1;33m=\u001b[0m \u001b[0mdataset\u001b[0m \u001b[1;33m+\u001b[0m \u001b[1;34m'_clip'\u001b[0m\u001b[1;33m\u001b[0m\u001b[0m\n\u001b[0;32m      3\u001b[0m     \u001b[1;32mprint\u001b[0m \u001b[0moutput\u001b[0m\u001b[1;33m\u001b[0m\u001b[0m\n\u001b[1;32m----> 4\u001b[1;33m     \u001b[0marcpy\u001b[0m\u001b[1;33m.\u001b[0m\u001b[0mIntersect_analysis\u001b[0m\u001b[1;33m(\u001b[0m\u001b[1;33m[\u001b[0m\u001b[1;34m'MCD_layer'\u001b[0m\u001b[1;33m,\u001b[0m \u001b[0mdataset\u001b[0m\u001b[1;33m]\u001b[0m\u001b[1;33m,\u001b[0m \u001b[0moutput\u001b[0m\u001b[1;33m)\u001b[0m\u001b[1;33m\u001b[0m\u001b[0m\n\u001b[0m",
        "\u001b[1;32mC:\\Program Files (x86)\\ArcGIS\\Desktop10.1\\arcpy\\arcpy\\analysis.py\u001b[0m in \u001b[0;36mIntersect\u001b[1;34m(in_features, out_feature_class, join_attributes, cluster_tolerance, output_type)\u001b[0m\n\u001b[0;32m    310\u001b[0m         \u001b[1;32mreturn\u001b[0m \u001b[0mretval\u001b[0m\u001b[1;33m\u001b[0m\u001b[0m\n\u001b[0;32m    311\u001b[0m     \u001b[1;32mexcept\u001b[0m \u001b[0mException\u001b[0m\u001b[1;33m,\u001b[0m \u001b[0me\u001b[0m\u001b[1;33m:\u001b[0m\u001b[1;33m\u001b[0m\u001b[0m\n\u001b[1;32m--> 312\u001b[1;33m         \u001b[1;32mraise\u001b[0m \u001b[0me\u001b[0m\u001b[1;33m\u001b[0m\u001b[0m\n\u001b[0m\u001b[0;32m    313\u001b[0m \u001b[1;33m\u001b[0m\u001b[0m\n\u001b[0;32m    314\u001b[0m \u001b[1;33m@\u001b[0m\u001b[0mgptooldoc\u001b[0m\u001b[1;33m(\u001b[0m\u001b[1;34m'SpatialJoin_analysis'\u001b[0m\u001b[1;33m,\u001b[0m \u001b[0mNone\u001b[0m\u001b[1;33m)\u001b[0m\u001b[1;33m\u001b[0m\u001b[0m\n",
        "\u001b[1;31mExecuteError\u001b[0m: Failed to execute. Parameters are not valid.\nERROR 000732: Input Features: Dataset MCD_layer #;DEM30m # does not exist or is not supported\nFailed to execute (Intersect).\n"
       ]
      },
      {
       "output_type": "stream",
       "stream": "stdout",
       "text": [
        "\n"
       ]
      }
     ],
     "prompt_number": 27
    },
    {
     "cell_type": "markdown",
     "metadata": {},
     "source": [
      "Oops! We tried to use the intersect tool to clip a raster. Well, it almost worked. You'll find most of the datasets to be clipped properly, except for the raster. One way to fix it so the whole thing runs, raster or feature class, is to run the raster clip tool for rasters and intersect for feature classes. To do this, we'll have to query each dataset's properties, create an `if/else` statement, and run the raster clip tool for the DEM30m dataset, all of which we will cover in the next submodule."
     ]
    },
    {
     "cell_type": "markdown",
     "metadata": {},
     "source": [
      "####<a name=\"Exercise_4E\">4.E. Exercise</a>\n",
      "\n",
      "* The purpose of this exercise will be to convert feature classes in the example file geodatabase to shapefiles. Use [this code](#loopingExample) as a starting point.\n",
      "    * Open ArcMap and create a new map document.  Add all of the layers  in the file geodatabase for this class.\n",
      "    * Open the Python Window \n",
      "    * Set the workspace environment \n",
      "    * Create a list of feature classes\n",
      "    * Write a for loop to iterate through the feature classes\n",
      "    * Use the ArcGIS online help to look up `FeatureClasstoShapefile_conversion`. Save the output in the working directory, variable `wd`:\n",
      "\n",
      "```python\n",
      "for fc in feature_classes:\n",
      "    arcpy.FeatureClassToShapefile_conversion(fc, out_filename)\n",
      "```\n",
      "\n",
      "* Copy shapefiles back into a file geodatabase\n",
      "    * In ArcCatalog, create a new file geodatabase in the working directory.  Name it \"output.gdb\"\n",
      "    * Try out the code below to copy the shapefile created in step 6 back into output.gdb\n",
      "    \n",
      "\n",
      "##### Answer:\n",
      "\n",
      "This script copies all feature classes from a workspace into a file geodatabase. For more info, see <http://resources.arcgis.com/en/help/main/10.1/index.html#//001700000035000000>\n"
     ]
    },
    {
     "cell_type": "code",
     "collapsed": false,
     "input": [
      "import arcpy\n",
      "import os\n",
      "\n",
      "#set the workspace\n",
      "from arcpy import env\n",
      "env.workspace = fgdb\n",
      "\n",
      "# Create a list of feature classes in the current workspace\n",
      "fclist = arcpy.ListFeatureClasses()\n",
      "\n",
      "# Copy each feature class to a file geodatabase \u2013 keep the same name, but use the \n",
      "# basename property to remove any file extensions including .shp\n",
      "for fc in fclist:\n",
      "    fcdesc = arcpy.Describe(fc)\n",
      "    arcpy.CopyFeatures_management(fc, os.path.join(wd + '/output.gdb', fcdesc.basename))"
     ],
     "language": "python",
     "metadata": {},
     "outputs": [],
     "prompt_number": 30
    },
    {
     "cell_type": "markdown",
     "metadata": {},
     "source": [
      "###<a name=\"Exploring_arcpy_objects\">5. Exploring `arcpy` \"objects\"</a>\n",
      "\n",
      "####<a name=\"The_arcpy_Describe_object\">5.A The `arcpy.Describe` object</a>\n",
      "\n",
      "You don't need to fully understand what is meant by \"object-oriented\" programming to use Python effectively. If you're curious please feel free to explode your head be researching this on the internet when you get home. Because this is an intro class, I'm not going to go into the details of what an object *is*, but rather how to use them effectively within the arcpy framework.\n",
      "\n",
      "Think of an object as a generic container for data and functionality. The data and functionality contained within an object can be accessed using dot notation that follows the hierarchy of the embedded content. For example, given a variable `var`, you can access an embedded object using a dot followed by the object name, `var.object`. These hierarchies can have any number of nested objects (e.g., `var.object1.object2.object3`).\n",
      "\n",
      "The best way to do to explore an object is to first assign the object to a variable. To illustrate these concepts, we're going to look at arcpy's `Describe` object (<http://resources.arcgis.com/en/help/main/10.1/index.html#//018v00000066000000>), one of ESRI's more useful implementations of the Python object."
     ]
    },
    {
     "cell_type": "code",
     "collapsed": false,
     "input": [
      "# First, let's set up our environment from scratch\n",
      "reload(workshopEnv)\n",
      "from workshopEnv import *\n",
      "\n",
      "desc = arcpy.Describe(roads)\n",
      "print desc.name\n",
      "print desc.dataType\n",
      "print desc.shapeType"
     ],
     "language": "python",
     "metadata": {},
     "outputs": [
      {
       "output_type": "stream",
       "stream": "stdout",
       "text": [
        "Roads_Census2k\n",
        "FeatureClass\n",
        "Polyline\n"
       ]
      }
     ],
     "prompt_number": 31
    },
    {
     "cell_type": "markdown",
     "metadata": {},
     "source": [
      "Given the second piece of information above, the **dataType**, we can complete our clipping script for Cross Plains."
     ]
    },
    {
     "cell_type": "code",
     "collapsed": false,
     "input": [
      "# Let's take a look at the dataType of each dataset\n",
      "for dataset in datasets:\n",
      "    desc = arcpy.Describe(dataset)\n",
      "    print desc.dataType"
     ],
     "language": "python",
     "metadata": {},
     "outputs": [
      {
       "output_type": "stream",
       "stream": "stdout",
       "text": [
        "FeatureClass\n",
        "FeatureClass"
       ]
      },
      {
       "output_type": "stream",
       "stream": "stdout",
       "text": [
        "\n",
        "FeatureClass"
       ]
      },
      {
       "output_type": "stream",
       "stream": "stdout",
       "text": [
        "\n",
        "FeatureClass"
       ]
      },
      {
       "output_type": "stream",
       "stream": "stdout",
       "text": [
        "\n",
        "FeatureClass"
       ]
      },
      {
       "output_type": "stream",
       "stream": "stdout",
       "text": [
        "\n",
        "FeatureClass"
       ]
      },
      {
       "output_type": "stream",
       "stream": "stdout",
       "text": [
        "\n",
        "RasterDataset"
       ]
      },
      {
       "output_type": "stream",
       "stream": "stdout",
       "text": [
        "\n"
       ]
      }
     ],
     "prompt_number": 32
    },
    {
     "cell_type": "code",
     "collapsed": false,
     "input": [
      "# Let's play with conditional statements\n",
      "for dataset in datasets:\n",
      "    desc = arcpy.Describe(dataset)\n",
      "    if desc.dataType == 'FeatureClass':\n",
      "        print 'Use the Intersect tool'\n",
      "    elif desc.dataType == 'RasterDataset':\n",
      "        print 'Use the raster Clip tool'\n",
      "    else:\n",
      "        print 'Throw hands in air, take a walk, and/or get a cup of coffee'"
     ],
     "language": "python",
     "metadata": {},
     "outputs": [
      {
       "output_type": "stream",
       "stream": "stdout",
       "text": [
        "Use the Intersect tool\n",
        "Use the Intersect tool"
       ]
      },
      {
       "output_type": "stream",
       "stream": "stdout",
       "text": [
        "\n",
        "Use the Intersect tool"
       ]
      },
      {
       "output_type": "stream",
       "stream": "stdout",
       "text": [
        "\n",
        "Use the Intersect tool"
       ]
      },
      {
       "output_type": "stream",
       "stream": "stdout",
       "text": [
        "\n",
        "Use the Intersect tool"
       ]
      },
      {
       "output_type": "stream",
       "stream": "stdout",
       "text": [
        "\n",
        "Use the Intersect tool"
       ]
      },
      {
       "output_type": "stream",
       "stream": "stdout",
       "text": [
        "\n",
        "Use the raster Clip tool"
       ]
      },
      {
       "output_type": "stream",
       "stream": "stdout",
       "text": [
        "\n"
       ]
      }
     ],
     "prompt_number": 33
    },
    {
     "cell_type": "markdown",
     "metadata": {},
     "source": [
      "####<a name=\"Using_the_arcpy_Describe_object_to_inform_geoprocessing\">5.B. Using the `arcpy.Describe` object to inform geoprocessing</a>\n",
      "Let's connect the metaphorical dots by using our new tools for exploring data properties with the tools for automation that we learned in the first submodule."
     ]
    },
    {
     "cell_type": "code",
     "collapsed": false,
     "input": [
      "# First, recreate the MCD layer\n",
      "if not arcpy.Exists('MCD_layer'):\n",
      "    arcpy.MakeFeatureLayer_management('MCDs', 'MCD_layer')\n",
      "# Then, select Cross Plains\n",
      "arcpy.SelectLayerByAttribute_management('MCD_layer', 'NEW_SELECTION', '\"CVT_TYPE\" = \\'V\\'')\n",
      "# Then, loop through each dataset and clip by the Cross Plains boundary.\n",
      "# Make sure to check for data type before clipping.\n",
      "for dataset in datasets:\n",
      "    desc = arcpy.Describe(dataset)\n",
      "    output = dataset + '_clip'\n",
      "    print output\n",
      "    if desc.dataType == 'FeatureClass':\n",
      "        arcpy.Intersect_analysis(['MCD_layer', dataset], output)\n",
      "    elif desc.dataType == 'RasterDataset':\n",
      "        arcpy.Clip_management(dataset, '', output, 'MCD_layer', '', 'ClippingGeometry')\n",
      "    else:\n",
      "        print 'Throw hands in air, take a walk, and/or get a cup of coffee'"
     ],
     "language": "python",
     "metadata": {},
     "outputs": [
      {
       "output_type": "stream",
       "stream": "stdout",
       "text": [
        "Roads_Census2k_clip\n",
        "Sections_clip"
       ]
      },
      {
       "output_type": "stream",
       "stream": "stdout",
       "text": [
        "\n",
        "QSections_clip"
       ]
      },
      {
       "output_type": "stream",
       "stream": "stdout",
       "text": [
        "\n",
        "OpenWater_clip"
       ]
      },
      {
       "output_type": "stream",
       "stream": "stdout",
       "text": [
        "\n",
        "MCDs_clip"
       ]
      },
      {
       "output_type": "stream",
       "stream": "stdout",
       "text": [
        "\n",
        "Soils_clip"
       ]
      },
      {
       "output_type": "stream",
       "stream": "stdout",
       "text": [
        "\n",
        "DEM30m_clip"
       ]
      },
      {
       "output_type": "stream",
       "stream": "stdout",
       "text": [
        "\n"
       ]
      }
     ],
     "prompt_number": 34
    },
    {
     "cell_type": "markdown",
     "metadata": {},
     "source": [
      "In addition to describing general properties about the data (e.g., name, filepath, type, etc.), the `Describe` object also contains useful geographic information for spatial types such as feature classes and rasters."
     ]
    },
    {
     "cell_type": "code",
     "collapsed": false,
     "input": [
      "for dataset in datasets:\n",
      "    desc = arcpy.Describe(dataset)\n",
      "    print dataset\n",
      "    print desc.extent\n",
      "    print desc.spatialReference.name\n",
      "    print ''"
     ],
     "language": "python",
     "metadata": {},
     "outputs": [
      {
       "output_type": "stream",
       "stream": "stdout",
       "text": [
        "Roads_Census2k\n",
        "542762.148030978 284352.690089882 552499.63388826 303750.16221538 NaN NaN NaN NaN\n",
        "NAD_1983_HARN_Wisconsin_TM\n",
        "\n",
        "Sections"
       ]
      },
      {
       "output_type": "stream",
       "stream": "stdout",
       "text": [
        "\n",
        "542757.8026 284338.454 552499.84 303756.402000001 NaN NaN NaN NaN\n",
        "NAD_1983_HARN_Wisconsin_TM\n",
        "\n",
        "QSections"
       ]
      },
      {
       "output_type": "stream",
       "stream": "stdout",
       "text": [
        "\n",
        "542757.8026 284338.454 552499.84 303756.402000001 NaN NaN NaN NaN\n",
        "NAD_1983_HARN_Wisconsin_TM\n",
        "\n",
        "OpenWater"
       ]
      },
      {
       "output_type": "stream",
       "stream": "stdout",
       "text": [
        "\n",
        "542770.7085 284850.314999999 552391.5138 303750.180199999 NaN NaN NaN NaN\n",
        "NAD_1983_HARN_Wisconsin_TM\n",
        "\n",
        "MCDs"
       ]
      },
      {
       "output_type": "stream",
       "stream": "stdout",
       "text": [
        "\n",
        "542757.803 284338.454 552499.84 303756.402000001 NaN NaN NaN NaN\n",
        "NAD_1983_HARN_Wisconsin_TM\n",
        "\n",
        "Soils"
       ]
      },
      {
       "output_type": "stream",
       "stream": "stdout",
       "text": [
        "\n",
        "542757.803 284338.454 552499.84 303756.402000001 NaN NaN NaN NaN\n",
        "NAD_1983_HARN_Wisconsin_TM\n",
        "\n",
        "DEM30m"
       ]
      },
      {
       "output_type": "stream",
       "stream": "stdout",
       "text": [
        "\n",
        "542757.803 284338.454 552507.803 303748.454 NaN NaN NaN NaN\n",
        "NAD_1983_HARN_Wisconsin_TM\n",
        "\n"
       ]
      }
     ],
     "prompt_number": 35
    },
    {
     "cell_type": "markdown",
     "metadata": {},
     "source": [
      "The `Describe` object is dynamically defined, meaning that the structure of the object is different depending on what you're describing, whether that be a dataset, workspace, or geodatabase."
     ]
    },
    {
     "cell_type": "code",
     "collapsed": false,
     "input": [
      "for dataset in datasets:\n",
      "    desc = arcpy.Describe(dataset)\n",
      "    print dataset\n",
      "    print desc.shapeType\n",
      "    print ''"
     ],
     "language": "python",
     "metadata": {},
     "outputs": [
      {
       "output_type": "stream",
       "stream": "stdout",
       "text": [
        "Roads_Census2k\n",
        "Polyline\n",
        "\n",
        "Sections"
       ]
      },
      {
       "output_type": "stream",
       "stream": "stdout",
       "text": [
        "\n",
        "Polygon\n",
        "\n",
        "QSections"
       ]
      },
      {
       "output_type": "stream",
       "stream": "stdout",
       "text": [
        "\n",
        "Polygon\n",
        "\n",
        "OpenWater"
       ]
      },
      {
       "output_type": "stream",
       "stream": "stdout",
       "text": [
        "\n",
        "Polygon\n",
        "\n",
        "MCDs"
       ]
      },
      {
       "output_type": "stream",
       "stream": "stdout",
       "text": [
        "\n",
        "Polygon\n",
        "\n",
        "Soils"
       ]
      },
      {
       "output_type": "stream",
       "stream": "stdout",
       "text": [
        "\n",
        "Polygon\n",
        "\n",
        "DEM30m"
       ]
      },
      {
       "ename": "AttributeError",
       "evalue": "DescribeData: Method shapeType does not exist",
       "output_type": "pyerr",
       "traceback": [
        "\u001b[1;31m---------------------------------------------------------------------------\u001b[0m\n\u001b[1;31mAttributeError\u001b[0m                            Traceback (most recent call last)",
        "\u001b[1;32m<ipython-input-36-85d173cae294>\u001b[0m in \u001b[0;36m<module>\u001b[1;34m()\u001b[0m\n\u001b[0;32m      2\u001b[0m     \u001b[0mdesc\u001b[0m \u001b[1;33m=\u001b[0m \u001b[0marcpy\u001b[0m\u001b[1;33m.\u001b[0m\u001b[0mDescribe\u001b[0m\u001b[1;33m(\u001b[0m\u001b[0mdataset\u001b[0m\u001b[1;33m)\u001b[0m\u001b[1;33m\u001b[0m\u001b[0m\n\u001b[0;32m      3\u001b[0m     \u001b[1;32mprint\u001b[0m \u001b[0mdataset\u001b[0m\u001b[1;33m\u001b[0m\u001b[0m\n\u001b[1;32m----> 4\u001b[1;33m     \u001b[1;32mprint\u001b[0m \u001b[0mdesc\u001b[0m\u001b[1;33m.\u001b[0m\u001b[0mshapeType\u001b[0m\u001b[1;33m\u001b[0m\u001b[0m\n\u001b[0m\u001b[0;32m      5\u001b[0m     \u001b[1;32mprint\u001b[0m \u001b[1;34m''\u001b[0m\u001b[1;33m\u001b[0m\u001b[0m\n",
        "\u001b[1;31mAttributeError\u001b[0m: DescribeData: Method shapeType does not exist"
       ]
      },
      {
       "output_type": "stream",
       "stream": "stdout",
       "text": [
        "\n"
       ]
      }
     ],
     "prompt_number": 36
    },
    {
     "cell_type": "markdown",
     "metadata": {},
     "source": [
      "For obvious reasons, the script failed when we tried to describe the shapeType of the raster dataset. [ESRI has good documentation](http://resources.arcgis.com/en/help/main/10.1/index.html#//018v00000066000000) on what attributes are contained within the different `Describe` objects. The documenation may seem labrynthian at first glance, mainly due to the complexity of the `Describe` object itself, but after going through it a few times, you'll start to understand the structure, and more importantly, the depth of what you can do in terms of automation.\n"
     ]
    },
    {
     "cell_type": "markdown",
     "metadata": {},
     "source": [
      "In addition to embedded data, the `Describe` object also contains \"methods.\" If you remember, methods are functions that operate in a way specific to an object. For instance, the `spatialReference` object contains a method called `exportToString` which could, for example, be used to export .prj files associated with each dataset."
     ]
    },
    {
     "cell_type": "code",
     "collapsed": false,
     "input": [
      "for dataset in datasets:\n",
      "    desc = arcpy.Describe(dataset)\n",
      "    prjFile = wd + '/' + dataset + '.prj'\n",
      "    print prjFile\n",
      "    ###############################\n",
      "    # Write prj string to text file\n",
      "    f = open(prjFile, 'w+')\n",
      "    f.write(desc.spatialReference.exportToString())\n",
      "    f.close()\n",
      "    ###############################"
     ],
     "language": "python",
     "metadata": {},
     "outputs": [
      {
       "output_type": "stream",
       "stream": "stdout",
       "text": [
        "C:\\Users\\ruesca/pythonWorkshopWLIA2014/Roads_Census2k.prj\n",
        "C:\\Users\\ruesca/pythonWorkshopWLIA2014/Sections.prj"
       ]
      },
      {
       "output_type": "stream",
       "stream": "stdout",
       "text": [
        "\n",
        "C:\\Users\\ruesca/pythonWorkshopWLIA2014/QSections.prj"
       ]
      },
      {
       "output_type": "stream",
       "stream": "stdout",
       "text": [
        "\n",
        "C:\\Users\\ruesca/pythonWorkshopWLIA2014/OpenWater.prj"
       ]
      },
      {
       "output_type": "stream",
       "stream": "stdout",
       "text": [
        "\n",
        "C:\\Users\\ruesca/pythonWorkshopWLIA2014/MCDs.prj"
       ]
      },
      {
       "output_type": "stream",
       "stream": "stdout",
       "text": [
        "\n",
        "C:\\Users\\ruesca/pythonWorkshopWLIA2014/Soils.prj"
       ]
      },
      {
       "output_type": "stream",
       "stream": "stdout",
       "text": [
        "\n",
        "C:\\Users\\ruesca/pythonWorkshopWLIA2014/DEM30m.prj"
       ]
      },
      {
       "output_type": "stream",
       "stream": "stdout",
       "text": [
        "\n"
       ]
      }
     ],
     "prompt_number": 37
    },
    {
     "cell_type": "markdown",
     "metadata": {},
     "source": [
      "####<a name=\"Exercise_5C\">5.C. Exercise</a>\n",
      "\n",
      "Use your new skills to generate a report about the workshop geodatabase. Print out useful metadata to a text file using the above code snippet (i.e., `open`, `write`, `close`):\n",
      "\n",
      "1. The name of the file geodatabase and the number of datasets contained within it.\n",
      "1. Iteratively list the name of each dataset with some useful information about it.\n",
      "    1. The name of the dataset\n",
      "    1. The projection name\n",
      "    1. The extent\n",
      "\n",
      "Make sure it looks pretty so that people will enjoy reading it. Label each piece of information using the `+` operator to concatenate strings. To add a new line to your text file, use the special carriage return string, `\\n`. For example:\n"
     ]
    },
    {
     "cell_type": "code",
     "collapsed": false,
     "input": [
      "print '--------------------'\n",
      "print 'Get ready for a carriage return!\\n' + 'Nailed it.'\n",
      "print '--------------------'"
     ],
     "language": "python",
     "metadata": {},
     "outputs": [
      {
       "output_type": "stream",
       "stream": "stdout",
       "text": [
        "--------------------\n",
        "Get ready for a carriage return!\n",
        "Nailed it.\n",
        "--------------------\n"
       ]
      }
     ],
     "prompt_number": 34
    },
    {
     "cell_type": "markdown",
     "metadata": {},
     "source": [
      "###<a name=\"Cursors\">6. Cursors</a>\n",
      "\n",
      "Cursors are used to iterate through records in a table or feature class and can be a serious workhorse for many workflows. Cursors are commonly used to read and update attributes and have three forms: `search`, `insert`, or `update`.  In ArcGIS 10.1, ESRI introduced the \"Data Access\" module which significantly improved the performance from the traditional cursor that was present pre-ArcGIS 10.1.  For this workshop, we will work with cursors within the `arcpy.da` module.\n",
      "\n",
      "Cursors take in a minimum of 2 arguments:\n",
      "\n",
      "* Feature class, layer, table or table view\n",
      "* A list of field names; If it is a single field, you can use a sting instead of a list of strings.\n",
      "\n",
      "####<a name=\"Search_cursors\">6.A. Search cursors</a>\n",
      "\n",
      "The `SearchCursor` establishes read-only access to the records from a table or feature class.  Once established, the cursor will return a tuple of values that you can iterate through.\n",
      "\n",
      "Search cursors can be iterated using a `for` loop.  Search cursors also support the `with` statement which will guarantee proper closure and release of database locks and reset the iteration.\n",
      "\n",
      "A \"data access\" search cursor is denoted as `arcpy.da.SearchCursor` and should not be confused with `arcpy.SearchCursor` as the properties and usage are different.\n",
      "\n",
      "Let\u2019s establish a simple `SearchCursor` to step through the MCDs feature class and print the city type and name.\n"
     ]
    },
    {
     "cell_type": "code",
     "collapsed": false,
     "input": [
      "import arcpy\n",
      "from arcpy import env\n",
      " \n",
      "# Set Workspace environment\n",
      "env.workspace = fgdb\n",
      " \n",
      "# SearchCursor arguments\n",
      "fc = \"MCDs\"\n",
      "fields = [\"CVT_TYPE\",\"CVT_NAME\"]\n",
      " \n",
      "# Establish SearchCursor using a 'with' statement to print type and name\n",
      "with arcpy.da.SearchCursor(fc, fields) as cursor:\n",
      "    for row in cursor:\n",
      "        if row[0] == \"T\":\n",
      "            print \"Town of \" + row[1]\n",
      "        else:\n",
      "            print \"Village of \" + row[1]"
     ],
     "language": "python",
     "metadata": {},
     "outputs": [
      {
       "output_type": "stream",
       "stream": "stdout",
       "text": [
        "Town of BERRY\n",
        "Town of CROSS PLAINS\n",
        "Village of Cross Plains\n"
       ]
      }
     ],
     "prompt_number": 38
    },
    {
     "cell_type": "markdown",
     "metadata": {},
     "source": [
      "Let\u2019s establish a `SearchCursor` using an expression that limits the records to only those that are Towns and not Villages:"
     ]
    },
    {
     "cell_type": "code",
     "collapsed": false,
     "input": [
      "import arcpy\n",
      "from arcpy import env\n",
      " \n",
      "# Set Workspace environment\n",
      "env.workspace = fgdb\n",
      " \n",
      "# SQL expression that will be passed into searchCursor\n",
      "expression = arcpy.AddFieldDelimiters(\"MCDs\", \"CVT_TYPE\") + \" = 'T'\"\n",
      " \n",
      "# Establish SearchCursor using a filter expression\n",
      "with arcpy.da.SearchCursor(\"MCDs\", \"CVT_NAME\", where_clause=expression) as cursor:\n",
      "    for row in cursor:\n",
      "        print \"Town of \" + row[0]"
     ],
     "language": "python",
     "metadata": {},
     "outputs": [
      {
       "output_type": "stream",
       "stream": "stdout",
       "text": [
        "Town of BERRY\n",
        "Town of CROSS PLAINS\n"
       ]
      }
     ],
     "prompt_number": 39
    },
    {
     "cell_type": "markdown",
     "metadata": {},
     "source": [
      "####<a name=\"Update_cursors\">6.B. Update cursors</a>\n",
      "\n",
      "The `UpdateCursor` establishes read-write access to records returned from a table or feature class.  It allows you the ability to delete records or update the attributes of a record.  However, you cannot add new records to the table.  With the exception of deleting records, the Calculate Field tool can provide another approach for updating values.\n",
      "\n",
      "Update cursors can be iterated using a `for` loop and will also support the `with` statement, which will guarantee proper closure and release of database locks and reset the iteration.\n",
      "\n",
      "A data access search cursor is denoted as `arcpy.da.SearchCursor` and should not be confused with `arcpy.SearchCursor` as the properties and usage are different.\n",
      "\n",
      "Let\u2019s add a new field called `Map_Label` to the `MCDs` featureclass and establish an `UpdateCursor` to populate the new field.  The new field will contain the unabbreviated `CVT_TYPE` and the `CVT_NAME`."
     ]
    },
    {
     "cell_type": "code",
     "collapsed": false,
     "input": [
      "# Set Workspace environment\n",
      "env.workspace = fgdb\n",
      " \n",
      "# Variables\n",
      "fc = \"MCDs\"\n",
      "cvtType = \"CVT_TYPE\"\n",
      "cvtName = \"CVT_NAME\"\n",
      "mapLabelField = \"Map_Label\"\n",
      " \n",
      "# If new field doesn't exist add it\n",
      "if not len(arcpy.ListFields(fc,mapLabelField)) > 0:\n",
      "    # determine the length of the 'CVT_NAME' field\n",
      "    for field in arcpy.ListFields(fc,cvtName):\n",
      "        mapLabelLength = field.length \n",
      "    # Add 'Map_Label' field as a TEXT and width identical to 'CVT_NAME'\n",
      "    arcpy.AddField_management(fc,mapLabelField,\"TEXT\", \"#\", \"#\", mapLabelLength)\n",
      "\n",
      "# Establish UpdateCursor to update 'Map_Label' field\n",
      "with arcpy.da.UpdateCursor(fc, (cvtType, cvtName, mapLabelField)) as cursor:\n",
      "    for row in cursor:\n",
      "        if row[0] == \"T\":\n",
      "            row[2] = \"Town of \" + row[1]\n",
      "        else:\n",
      "            row[2] = \"Village of \" + row[1]\n",
      "        cursor.updateRow(row)\n",
      "    del row, cursor"
     ],
     "language": "python",
     "metadata": {},
     "outputs": [],
     "prompt_number": 40
    },
    {
     "cell_type": "markdown",
     "metadata": {},
     "source": [
      "####<a name=\"Insert_cursors\">6.C. Insert cursors</a>\n",
      "\n",
      "The `InsertCursor` establishes write access on a table or feature class so that new records can be added.  Insert cursors, in their simplest form, are best used with independent tables to add records that are not tied to geometry.  When used with feature class tables, geometry information can be accessed using the `SHAPE@` token, which returns information such as a feature\u2019s X,Y or Z coordinates.\n",
      " \n",
      "A data access search cursor is denoted as `arcpy.da.InsertCursor` and should not be confused with `arcpy.InsertCursor` as the properties and usage are different.\n",
      "\n",
      "Let\u2019s populate the `WaterBody_location` table with the centroids of water bodies from the soils feature class.  We will use a `SearchCursor` to iterate through a tuple of water bodies and their centroids.  An `InsertCursor` will then be used to insert this data into the `WaterBody_location` table.\n",
      "\n",
      "The `SHAPE@XY` token will be used to get simple geometry information.  Keep in mind that the `SHAPE@XY` returns a tuple and the `insertRow` method only takes one argument.\n"
     ]
    },
    {
     "cell_type": "code",
     "collapsed": false,
     "input": [
      "import arcpy\n",
      "\n",
      "# Set Workspace environment\n",
      "env.workspace = fgdb\n",
      "\n",
      "# SQL expression to select all \"W\" polygons\n",
      "expression = arcpy.AddFieldDelimiters('Soils', \"MUSYM\") + \" = 'W'\"\n",
      " \n",
      "# create an InsertCursor to add the OID from the soils fc and the X and Y coordinates from its centroid\n",
      "ic = arcpy.da.InsertCursor('WaterBody_location', ('soils_OID', 'X', 'Y'))\n",
      " \n",
      "# use a searchCursor to get OID and centroid coordinates from 'W' polygons from soils fc\n",
      "with arcpy.da.SearchCursor('Soils', ('OID@','SHAPE@XY'), where_clause=expression) as cursor:\n",
      "    for row in cursor: \n",
      "        # insert a new record into the table.\n",
      "        ic.insertRow((row[0], row[1][0], row[1][1]))\n",
      "# Delete the cursor object\n",
      "del ic"
     ],
     "language": "python",
     "metadata": {},
     "outputs": [],
     "prompt_number": 41
    },
    {
     "cell_type": "markdown",
     "metadata": {},
     "source": [
      "####<a name=\"Exercise_6D\">6.D. Exercise</a>\n",
      "\n",
      "Now that we are experts in the subject of Cursors, let\u2019s complete a simple exercise.  In your file geodatabase you will find a table named `Cursor_Exercise`, which represents the output of the spatial analyst tool Tabulate Area.  The Tabulate Area tool calculates cross-tabulated areas between 2 datasets and outputs a table.  In this case, the tool was executed using the Soils layer and a slope raster that was reclassified into 20 slope groups.  In essence, this table represents the slope composition breakdown of a soils mapunit.\n",
      "\n",
      "Given that the results are the sum of the area of the pixels, analyzing these values is not that intuitive.  In this exercise you will help make the results more user-friendly by converting the values into percentages.  Here are some helpful tips to get you started:\n",
      "\n",
      "* Determine what cursor is best suited for this exercise\n",
      "* Keep in mind that the table contains over 20 fields so creating a list of fields to pass to your cursor would be ideal.  Also, the fields that begin with `Value_` are the fields of interest.\n",
      "* In order to calculate percentage values you will first have to tally up the values from the fields in your table.\n",
      "* Be careful with \u201c0\u201d values.  You don\u2019t want to divide those!"
     ]
    },
    {
     "cell_type": "markdown",
     "metadata": {},
     "source": [
      "####<a name=\"Creating_custom_geoprocessing_tools\">7. Creating custom geoprocessing tools</a>\n",
      "Creating a script tool that you can access from ArcToolbox will allow you to turn your own Python scripts and functionality into your own geoprocessing tools.  These tools will look and act like system geoprocessing tools and once created can have many benefits such as:\n",
      "\n",
      "* You can open it from the Search or Catalog window, use it in Model Builder and the Python window or call it from another script.\n",
      "* You can write messages to the Results window and progress dialog box\n",
      "* You can provide documentation about the tool\u2019s functionality and arguments using the built-in documentation tools.\n",
      "* Your tool will have a familiar and easy to use interface which will make your tool easy to transfer\n",
      "\n",
      "The script tool framework was introduced in ArcGIS 9.0 and was geared toward creating custom Python-based tools.  However, this framework is actually segregated into many parts which make it somewhat inefficient.  That is, in the script tool framework:\n",
      "\n",
      "* You create a toolbox made up of parameters using the Add Script wizard.\n",
      "* You can create validation code that lives in the toolbox to implement a certain behavior for your script tool dialog box.\n",
      "* The source python script is created and maintained separately.\n",
      "\n",
      "In ArcGIS 10.1, there are two ways of creating your own geoprocessing tools with Python: script tools in custom toolboxes <img src=\"https://dl.dropboxusercontent.com/u/17521862/etc/arctoolbox.png\"> and script tools in Python toolboxes <img src=\"https://dl.dropboxusercontent.com/u/17521862/etc/arctoolboxScript.png\">.  For this workshop, we will work with custom toolboxes.  For more information on the differences between custom toolboxes and Python toolboxes visit the ArcGIS Resource <http://resources.arcgis.com/en/help/main/10.1/index.html#//00150000002r000000>.\n",
      "\n",
      "You can only create a script tool within a custom toolbox and not a system toolbox.  In order to create a custom toolbox, rt-click in the white-space of your ArcToolbox and click **Add Toolbox**.  Select location to store your new toolbox in the form of a .tbx file and click on the **New Toolbox** icon <img src=\"https://dl.dropboxusercontent.com/u/17521862/etc/arctoolbox.png\"> and give your new toolbox and intuitive name.  Now that you have your new Toolbox you can create a script tool by rt-clicking your new toolbox, and click **Add > Script**.  This will open the Add Script wizard which takes you step by step through the process of creating a script tool.  You can always modify the properties names and data types of this script tool by right-clicking the script tool and choosing **Properties**.\n",
      "\n",
      "####<a name=\"Exercise_7A\">7.A. Exercise</a>\n",
      "\n",
      "In your home directory is a custom tool that needs an interface completed before you can distribute it to your field users.  This tool is designed to buffer feature classes that are within a given workspace at a user-specified distance.  The user can also specify whether to apply a buffer only to feature classes of a given geometry.  Add the CustomBufferTool.py script to your python environment and study the script to determine what types of arguments should be passed to the script."
     ]
    },
    {
     "cell_type": "markdown",
     "metadata": {},
     "source": [
      "###<a name=\"Automated_mapping_and_graphics_examples\">8. Automated mapping and graphics: examples</a>\n",
      "\n",
      "####<a name=\"Using_the_arcpy_mapping_module\">8.A Using the `arcpy.mapping` module</a>\n",
      "\n",
      "`arcpy.mapping` is a Python scripting module that is part of the `arcpy` site-package. You will need to import this module with the statement:  \n",
      "\n",
      "```python\n",
      "import arcpy.mapping\n",
      "```\n",
      "\n",
      "Uses for `arcpy.mapping`:\n",
      "\n",
      "* Automate and customize map production\n",
      "* Extend the capabilities of Data Driven pages\n",
      "* Update symbology across multiple map documents\n",
      "* Set the characteristics of exported PDF documents (and other formats).\n",
      "\n",
      "A few syntax and usage tips for `arcpy.mapping`:\n",
      "\n",
      "* Syntax for identifying the mapdoc. Example:\n",
      "\n",
      "```python\n",
      "mapdoc = arcpy.mapping.MapDocument('C:/temp/wi_parcels.mxd')\n",
      "```\n",
      "\n",
      "* Using an open mapdoc:\n",
      "\n",
      "```python\n",
      "mapdoc = arcpy.mapping.MapDocument('Current')\n",
      "```\n",
      "\n",
      "* Data frames.  Map documents may contain one or more data frames. A data frame object contains properties for map extent, scale, and spatial reference. Example:"
     ]
    },
    {
     "cell_type": "code",
     "collapsed": false,
     "input": [
      "# Set the spatial reference to one layer\n",
      "import arcpy\n",
      "dataset = 'C:/temp/parcels.shp'\n",
      "spatialRef = arcpy.Describe(dataset).spatialReference\n",
      "mapdoc = arcpy.mapping.MapDocument(r'C:\\users\\cutfol\\pythonWorkshopWLIA2014\\Pythonclass.mxd')\n",
      "for df in arcpy.mapping.ListDataFrames(mapdoc):\n",
      "    df.spatialReference = spatialRef\n",
      "    df.scale = 24000\n",
      "del mapdoc"
     ],
     "language": "python",
     "metadata": {},
     "outputs": []
    },
    {
     "cell_type": "markdown",
     "metadata": {},
     "source": [
      "* List layers in a map doc:\n",
      "\n",
      "```python\n",
      "mapLayers = arcpy.mapping.ListLayers(mapdoc)\n",
      "```\n",
      "\n",
      "    * Refer to a specific data frame by list index:\n",
      "\n",
      "```python\n",
      "dflist = arcpy.mapping.ListDataFrames(mapdoc)\n",
      "lyrlist = arcpy.mapping.ListLayers(mapdoc, '', dflist[0])  # first data frame in TOC\n",
      "```\n",
      "\n",
      "* Exporting maps: \n",
      "\n",
      "```python\n",
      "arcpy.mapping.ExportToPDF(mapdoc, r 'C:/Maps/wiParcels.pdf')\n",
      "```\n",
      "\n",
      "* When MapDocument is referenced in a script, the .mxd is locked.  It is good practice to remove the lock in code. For example:\n",
      "\n",
      "```python\n",
      "mapdoc = arcpy.mapping.MapDocument(r'C:\\Users\\cutfol\\pythonWorkshopWLIA2014\\Pythonclass.mxd')\n",
      "mapdoc.save()\n",
      "del mapdoc\n",
      "```\n",
      "\n",
      "* You may need to convert feature classes to layers to access `arcpy.mapping` methods. Use supports to check whether a layer supports a property. For example:\n",
      "\n",
      "```python\n",
      "for lyr in lyrlist:\n",
      "\tif lyr.supports('definitionquery') == True\n",
      "\t\tprint lyr.name\n",
      "del lyrlist\n",
      "```\n",
      "\n",
      "* If you need to create a layer, here is the syntax:\n",
      "\n",
      "```python\n",
      "arcpy.MakeFeatureLayer_management('parcels.shp','parcels_lyr')\n",
      "```\n",
      "\n",
      "* Map elements such as title, north arrow, and scale bar may be defined and updated using Python code. Example:\n",
      "\n",
      "```python\n",
      "title = arcpy.mapping.ListLayoutElements(mapdoc, '', 'Title')[0]\n",
      "title.text = 'Cool map'\n",
      "title.fontSize = 30\n",
      "```\n",
      "\n",
      "* If you want to use Data Driven pages, you will need to enable the extension in your map document first.\n"
     ]
    },
    {
     "cell_type": "markdown",
     "metadata": {},
     "source": [
      "####<a name=\"The_arcpy_mapping_module_in_context\">8.B. The `arcpy.mapping` module in context</a>\n",
      "\n",
      "ESRI provides a module for automating the production of maps. Generally, the module presumes that you have already created an .mxd template and associated layers. We have provided both for this workshop, elevation.mxd and DEM30m.lyr.\n",
      "\n",
      "Say you've be contracted by the Town of Cross Plains to create an atlas of topography in the area. They want a map for each quarter section in the area. There are 337 quarter sections in the area. You sigh, thinking of all the pointing and clicking you'll be doing in the next week, all the while wishing there were a better way. Guess what?! There is!"
     ]
    },
    {
     "cell_type": "code",
     "collapsed": false,
     "input": [
      "from arcpy import mapping as m\n",
      "\n",
      "mxd = arcpy.mapping.MapDocument(wd + '/elevation.mxd')\n",
      "mxd.author = os.environ['USERNAME']\n",
      "df = m.ListDataFrames(mxd, 'Layers')[0]\n",
      "\n",
      "iterator = range(25, 35)\n",
      "for i in iterator:\n",
      "    print i\n",
      "    arcpy.SelectLayerByAttribute_management(m.Layer('QSections'), 'NEW_SELECTION', '\"OBJECTID\" = ' + str(i))\n",
      "    df.extent = q_sections_lyr.getSelectedExtent()\n",
      "    m.ExportToPDF(mxd, wd + '/OBJECTID_' + str(i) + '.pdf')"
     ],
     "language": "python",
     "metadata": {},
     "outputs": [
      {
       "output_type": "stream",
       "stream": "stdout",
       "text": [
        "1\n",
        "2"
       ]
      },
      {
       "output_type": "stream",
       "stream": "stdout",
       "text": [
        "\n",
        "3"
       ]
      },
      {
       "output_type": "stream",
       "stream": "stdout",
       "text": [
        "\n",
        "4"
       ]
      },
      {
       "output_type": "stream",
       "stream": "stdout",
       "text": [
        "\n",
        "5"
       ]
      },
      {
       "output_type": "stream",
       "stream": "stdout",
       "text": [
        "\n",
        "6"
       ]
      },
      {
       "output_type": "stream",
       "stream": "stdout",
       "text": [
        "\n",
        "7"
       ]
      },
      {
       "output_type": "stream",
       "stream": "stdout",
       "text": [
        "\n",
        "8"
       ]
      },
      {
       "output_type": "stream",
       "stream": "stdout",
       "text": [
        "\n",
        "9"
       ]
      },
      {
       "output_type": "stream",
       "stream": "stdout",
       "text": [
        "\n"
       ]
      }
     ],
     "prompt_number": 6
    },
    {
     "cell_type": "markdown",
     "metadata": {},
     "source": [
      "####<a name=\"Exercise_8C\">8.C. Exercise</a>\n",
      "A customer wants a series of quarter section maps in the Cross Plains area in pdf format.  He wants each quarter section map to only show section lines for the selected section (i.e., do not show surrounding section lines).\n",
      "\n",
      "1. What ArcGIS method would you use to select one section at a time?\n",
      "\n",
      "1. Let\u2019s try it out for a subset of quarter sections first by adapting the above code.\n",
      "```python\n",
      "sections = [40807061, 40807052, 40807044, 40807121]\n",
      "```\n",
      "1. Edit the script to iterate through the Qsections list.\n",
      "1. Check which layers support a definition query. \n",
      "1. Take a look at this form about using a definition query: <http://forums.arcgis.com/threads/26421-use-python-to-create-definition-query>"
     ]
    },
    {
     "cell_type": "markdown",
     "metadata": {},
     "source": [
      "#####Answers"
     ]
    },
    {
     "cell_type": "code",
     "collapsed": false,
     "input": [
      "# Answer for items 1-3\n",
      "for i in sections:\n",
      "    print i\n",
      "    arcpy.SelectLayerByAttribute_management(m.Layer('QSections'), 'NEW_SELECTION','\"dtrsq\" = ' + str(i))\n",
      "    df.extent = m.Layer('QSections').getSelectedExtent()\n",
      "    m.ExportToPDF(mapdoc, wd + str(i) + '.pdf')\n",
      "\n",
      "# Answer for item 4\n",
      "lyrlist = arcpy.mapping.ListLayers(mapdoc)\n",
      "for lyr in lyrlist:\n",
      "    if lyr.supports('definitionquery') == True:\n",
      "    print lyr.name\n",
      "\n",
      "# How to add a definition query\n",
      "m.Layer('QSections').definitionQuery = '\"dtrsq\" = '+ str(i)"
     ],
     "language": "python",
     "metadata": {},
     "outputs": []
    },
    {
     "cell_type": "markdown",
     "metadata": {},
     "source": [
      "####<a name=\"Automated_analytical_graphics\">8.D. Automated analytical graphics</a>\n",
      "\n",
      "ESRI is making a very good decision by moving boldly forward with Python. As a data scientist, I have often lamented that ESRI had poor integration with other analytical tools. While ESRI has been building better bindings with Python, Python has been building better analytical tools such as [numpy](http://www.numpy.org/), [scipy](http://www.scipy.org/), [matplotlib](http://matplotlib.org/), and my personal favorite although it's not included in the ArcGIS distribution of Python, [pandas](http://pandas.pydata.org/). Although I don't expect many of you to fully understand the following code completely, I thought I'd add it to the end of the module to give you a simple example of how you can combine ArcGIS with Python's emerging analytical tools."
     ]
    },
    {
     "cell_type": "code",
     "collapsed": false,
     "input": [
      "%matplotlib inline\n",
      "import matplotlib.pyplot as plt\n",
      "from matplotlib.backends.backend_pdf import PdfPages\n",
      "outPdf = wd + '/elevationHistograms.pdf'\n",
      "pp = PdfPages(outPdf)\n",
      "\n",
      "# First, create the Sections layer\n",
      "if not arcpy.Exists('Sections_layer'):\n",
      "    arcpy.MakeFeatureLayer_management('Sections', 'Sections_layer')\n",
      "for i in range(25,28):\n",
      "    # Select a Section\n",
      "    arcpy.SelectLayerByAttribute_management('Sections_layer', 'NEW_SELECTION', '\"OBJECTID\" = ' + str(i))\n",
      "    # Define an output for the clipped raster, then clip\n",
      "    clip_raster = fgdb + '/DEM30m_' + str(i)\n",
      "    arcpy.Clip_management('DEM30m', '', clip_raster, 'Sections_layer', '', 'ClippingGeometry')\n",
      "    # Pull out all data values as an array and clipped raster\n",
      "    raster_vals = arcpy.RasterToNumPyArray(clip_raster).reshape(-1)\n",
      "    arcpy.Delete_management(clip_raster)\n",
      "    # Toss out any NoData values\n",
      "    raster_vals = raster_vals[np.where(raster_vals > 0)]\n",
      "    # Plot a histogram\n",
      "    plt.figure()\n",
      "    plt.hist(raster_vals, color = '#fdbf6f')\n",
      "    plt.xlabel('Elevation (m)')\n",
      "    plt.ylabel('# of pixels')\n",
      "    plt.title('Elevation histogram within OBJECTID = ' + str(i))\n",
      "    plt.savefig(pp, format='pdf')\n",
      "pp.close()"
     ],
     "language": "python",
     "metadata": {},
     "outputs": [
      {
       "metadata": {},
       "output_type": "display_data",
       "png": "[encoded data removed]",
       "text": [
        "<matplotlib.figure.Figure at 0x18ff44b0>"
       ]
      },
      {
       "metadata": {},
       "output_type": "display_data",
       "png": "[encoded data removed]",
       "text": [
        "<matplotlib.figure.Figure at 0x190ed9b0>"
       ]
      },
      {
       "metadata": {},
       "output_type": "display_data",
       "png": "[encoded data removed]",
       "text": [
        "<matplotlib.figure.Figure at 0x14e4b0b0>"
       ]
      },
      {
       "metadata": {},
       "output_type": "display_data",
       "png": "[encoded data removed]",
       "text": [
        "<matplotlib.figure.Figure at 0x18ff8a10>"
       ]
      },
      {
       "metadata": {},
       "output_type": "display_data",
       "png": "[encoded data removed]",
       "text": [
        "<matplotlib.figure.Figure at 0x15038470>"
       ]
      },
      {
       "metadata": {},
       "output_type": "display_data",
       "png": "[encoded data removed]",
       "text": [
        "<matplotlib.figure.Figure at 0x191aa0f0>"
       ]
      },
      {
       "metadata": {},
       "output_type": "display_data",
       "png": "[encoded data removed]",
       "text": [
        "<matplotlib.figure.Figure at 0x14a98ab0>"
       ]
      },
      {
       "metadata": {},
       "output_type": "display_data",
       "png": "[encoded data removed]",
       "text": [
        "<matplotlib.figure.Figure at 0x1900e490>"
       ]
      },
      {
       "metadata": {},
       "output_type": "display_data",
       "png": "[encoded data removed]",
       "text": [
        "<matplotlib.figure.Figure at 0x150aa5f0>"
       ]
      },
      {
       "metadata": {},
       "output_type": "display_data",
       "png": "[encoded data removed]",
       "text": [
        "<matplotlib.figure.Figure at 0x192b8910>"
       ]
      }
     ],
     "prompt_number": 10
    },
    {
     "cell_type": "markdown",
     "metadata": {},
     "source": [
      "###<a name=\"Conclusion\">Conclusion</a>\n",
      "\n",
      "The whole idea with combining Python and ArcGIS is to make you more efficient and expand your GIS capacity. Python is a tool--like any other tool, it only helps you if the tool is appropriate for the job. Sometimes it makes sense to do something by hand, and other times it makes sense to create a script. For instance, if you'll be doing generally the same task many times over the course of your lifetime. Here's a handy graphic from the fantastic comic, [xkcd.com](http://xkcd.com), to remind you of this concept: \n",
      "</br>\n",
      "</br>\n",
      "</br>\n",
      "![](http://imgs.xkcd.com/comics/is_it_worth_the_time.png)"
     ]
    },
    {
     "cell_type": "markdown",
     "metadata": {},
     "source": [
      "###<a name=\"Resources\">Resources</a>\n",
      "\n",
      "####Online:\n",
      "\n",
      "ESRI Python Resources: <http://resources.arcgis.com/en/communities/python/>\n",
      "\n",
      "Python Documentation: <http://python.org>\n",
      "\n",
      "Penn State Class: <https://www.e-education.psu.edu/geog485/book/export>\n",
      "\n",
      "GIS Stack Exchange: <http://gis.stackexchange.com/>\n",
      "\n",
      "Blog: <http://pythongisandstuff.wordpress.com/category/arcgis/arcpy/>\n",
      "\n",
      "####Books:\n",
      "\n",
      "*Recommended:* Zandbergen, Paul A. 2013.  Python Scripting for ArcGIS.  ESRI Press.\n",
      "\n",
      "Pimpler, Eric.  2013. Programming ArcGIS 10.1 with Python Cookbook.  PacktPublishing.\n",
      "\n",
      "Free Book: Think Python.  <http://www.greenteapress.com/thinkpython/>\n"
     ]
    }
   ],
   "metadata": {}
  }
 ]
}