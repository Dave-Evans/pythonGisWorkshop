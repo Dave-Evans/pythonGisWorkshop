{
 "metadata": {
  "name": "",
  "signature": "sha256:182aadf9c891ca2d5cdb078059429163e14ace87b61178fac5d6be1f71bfd645"
 },
 "nbformat": 3,
 "nbformat_minor": 0,
 "worksheets": [
  {
   "cells": [
    {
     "cell_type": "markdown",
     "metadata": {},
     "source": [
      "Introduction to Python for ArcGIS 10.x\n",
      "============================\n",
      "----------------------------\n",
      "##Instructors:\n",
      ">Aaron Ruesch, Water Quality Modeler,<br/>\n",
      ">WDNR Water Quality Bureau<br/>\n",
      "><Aaron.Ruesch@wi.gov><br/>\n",
      "\n",
      ">Alison Mynsberge, GIS Analyst<br/>\n",
      ">Department of Agriculture, Trade, and Consumer Protection<br/>\n",
      "><Alison.Mynsberge@wi.gov><br/>\n",
      "\n",
      ">David Evans, Water Resources Management Specialist<br/>\n",
      ">WDNR Water Quality Bureau<br/>\n",
      "><DavidM.Evans@wi.gov><br/>"
     ]
    },
    {
     "cell_type": "markdown",
     "metadata": {},
     "source": [
      "![](http://2.bp.blogspot.com/-C5yU0U56ZpI/TWM4xczoLPI/AAAAAAAAAMM/0adig1lZsa0/s1600/python.jpg)"
     ]
    },
    {
     "cell_type": "markdown",
     "metadata": {},
     "source": [
      "##Syllabus\n",
      "\n",
      "###Introduction to Python (~2hrs)\n",
      "\n",
      "1. [The Basics](#the_basics)\n",
      "    1. [Variables, statements, types, functions, and variable assignment](#intro_items)\n",
      "    1. [String Manipulation](#string_manipulation)\n",
      "        1. [Introduction to Methods](#intro_to_methods)\n",
      "    1. [Lists](#intro_to_lists)\n",
      "    1. [`for` Loops](#for_loops)\n",
      "\n",
      "###Geoprocessing with ArcPy (~1hrs)\n",
      "\n",
      "1. [Functional syntax and basic geoprocessing (*45 min.*)](#Functional_syntax_and_basic_geoprocessing)\n",
      "    1. [Looping](#Looping)\n",
      "    1. [Manipulation of strings](#Manipulation_of_strings)\n",
      "    1. [Manipulation of paths](#Manipulation_of_paths)\n",
      "    1. [Looping through paths to automate a task](#Looping_through_paths_to_automate_a_task)\n",
      "    1. [Exercise](#Exercise_4E)\n",
      "\n",
      "###Objects\n",
      "1. [Exploring arcpy \"objects\" (*45 min.*)](#Exploring_arcpy_objects)\n",
      "    1. [Using the `arcpy.Describe` object to inform geoprocessing](#Using_the_arcpy_Describe_object_to_inform_geoprocessing)\n",
      "    1. [Exercise](#Exercise_5C)\n",
      "\n",
      "### Arcpy.Mapping Module (~2hrs)\n",
      "1. [Python for mapping and graphics: examples (*45 min.*)](#Python_mapping_and_graphics_examples)\n",
      "    1. [Everyday uses of Python in ArcMap](#Daily_ArcMap_Python)\n",
      "    1. [Using the `arcpy.mapping` module](#Using_the_arcpy_mapping_module)\n",
      "    1. [The `arcpy.mapping` module in context](#The_arcpy_mapping_module_in_context)\n",
      "    1. [Exercise](#Exercise_8C)\n",
      "\n",
      "### [Basic database management (*30 min.*)](#Database_management)\n",
      "\n",
      "#### [Cursors (*45 min.*)](#Cursors)\n",
      "    1. [Search cursors](#Search_cursors)\n",
      "    1. [Update cursors](#Update_cursors)\n",
      "    1. [Insert cursors](#Insert_cursors)\n",
      "    1. [Exercise](#Exercise_6D)\n",
      "\n",
      "#### Given available time...\n",
      "\n",
      "1. [Creating custom geoprocessing tools (*15 min.*)](#Creating_custom_geoprocessing_tools)\n",
      "1. [Automated analytical graphics](#Automated_analytical_graphics)\n",
      "1. [Conclusion](#Conclusion)\n",
      "1. [Resources](#Resources)"
     ]
    },
    {
     "cell_type": "markdown",
     "metadata": {},
     "source": [
      "# Why do we need Python"
     ]
    },
    {
     "cell_type": "heading",
     "level": 1,
     "metadata": {},
     "source": [
      "<a name=\"the_basics\">The Basics</a>"
     ]
    },
    {
     "cell_type": "markdown",
     "metadata": {},
     "source": [
      "#### A Note Before Beginning\n",
      "\n",
      "Coding can (and probably will) be really frustrating.\n",
      "\n",
      "In the words of Douglas Adams:\n",
      "> ** Don't Panic.** \n",
      "\n",
      "This is a normal part of learning and especially coding. Know that there are many people out there in the same place and who have been through what you're going through. Resources and references:\n",
      "* Python Documentation (<https://www.python.org/>): sometimes a little to in-depth for basic problems, but often very helpful\n",
      "* Think Python (<http://www.greenteapress.com/thinkpython/>): a very helpful reference for programming in Python\n",
      "* Codecademy (<http://www.codecademy.com/>) or other free, online tutorial: there are some really great free tutorials online that walk you through the basics of Python. I learned the basics of Python at Codecademy and highly recommend it. \n",
      "* Have you Googled your issue or problem? (<http://stackoverflow.com/questions/tagged/python>): Python has millions (okay, I have no idea how many, but certainly many thousands) of users many of them very helpful and generous with their time, see message boards,  and forums.\n",
      "\n",
      "* I find the words of Allen Downey in *Think Python* comforting:\n",
      "\n",
      "*\"Programming, and especially debugging, sometimes brings out strong emotions. If you\n",
      "are struggling with a difficult bug, you might feel angry, despondent or embarrassed. Preparing for these reactions might help you deal with them. One approach is to think of the computer as an employee with certain strengths, like speed and precision, and particular\n",
      "weaknesses, like lack of empathy and inability to grasp the big picture. Your job is to be a good manager: find ways to take advantage of the strengths and mitigate the weaknesses.\"*\n",
      "\n",
      "<!-- <https://wiki.python.org/moin/OrganizationsUsingPython>-->"
     ]
    },
    {
     "cell_type": "markdown",
     "metadata": {},
     "source": [
      "\n",
      "#### IDLE\n",
      "* For this section we'll be using IDLE. IDLE is an Integrated Development Environment (IDE) (this just means that its an environment for writing and running a programming language) for Python. It is simple to use and comes with the basic distribution of Python. This is where we'll be entering code and scripts. There are many other, arguably better, IDEs for Python, but for simplicity we'll be using IDLE. (Note that IDLE is a play on the Monty Python actor Eric Idle's name and IDE. )\n",
      "\n",
      "* Note, later in this class we will be using the Python Windown within ArcGIS or ArcCatalog, this also an IDE.\n",
      "\n",
      "* To open IDLE, move to your Start button and type IDLE and it should automatically pop open.\n",
      "\n",
      "* This is where we'll begin typing our code and running scripts."
     ]
    },
    {
     "cell_type": "heading",
     "level": 3,
     "metadata": {},
     "source": [
      "<a name=\"intro_items\">Values, Types, Statements, and Functions</a>"
     ]
    },
    {
     "cell_type": "markdown",
     "metadata": {},
     "source": [
      "\n",
      "Beginning with some specialized terms to help us understand programming. We'll touch on a number of things and then move on to some hands on exercises to better understand these ideas.\n",
      "\n",
      "*Statements*: units of code that can be run in Python. A program or code is composed of statements. (Note here that the `In [number]` and `Out [same number]` indicate lines of Python code being run.)\n",
      "\n",
      "*Values*: one of the basic items that a progam works with.\n",
      "\n",
      "*Types*: each value belongs to different class, called types. (Also, note here that words with `this kind of font` denotes Python words, things that will be typed into the IDE.)\n",
      "Examples:\n",
      "\n",
      "| Value              | Type    | \n",
      "|--------------------|---------|\n",
      "| `\"Potato\"`           | String  |\n",
      "| `4`                  | Integer |\n",
      "| `\"Four\"`               | String  |\n",
      "| `[\"four\", \"potato\"]`   | List    |\n",
      "| `4.4`                | Float   |\n",
      "\n",
      "Every value belongs to a certain type. Certain types can be composed of other types, for example the list `[four, potato]` is composed of two string-type values (more on lists in a bit). Integers and floats are numeric types in Python, these can be used in math functions. String types can be thought of as a type consisting of letters or other characters that will be printed out to read by a human. The difference between `4` and `\"4\"` is the quotes, the quotes tell Python that we are going to be treating this four more like a letter than a number. (We can (try to) switch types with certain functions, but more on that later.)"
     ]
    },
    {
     "cell_type": "markdown",
     "metadata": {},
     "source": [
      "*Functions*: the things that do stuff. I find it helpful to compare it to spoken languages: values are to nouns as functions are to verbs. A common function is the `print` function, which prints statements and values. Another very useful function is the `type` function, which will tell you what type a certain value belongs to.\n",
      "\n",
      "There are also specialized functions that convert between types, `str()`, `int()`, `float()`, or `list()`. Mathematical and logical symbols are technically known as operators, symbols that represent computations, either math or logical evaluations, but can be thought of as functions from the standpoint that it does something to a value or variable.\n",
      "\n",
      "| Name of Operation  | Operator Symbol    | \n",
      "|--------------------|---------|\n",
      "| Exponent           | `**`  |\n",
      "| Multiplication             | `*` |\n",
      "| Division (float)         | `/`  |\n",
      "| Division (floor division)   | `//`    |\n",
      "| Addition                | `=`   |\n",
      "| Subtraction | `-` |\n",
      "| Less than (less than equal to) |  `<` (`<=`) |\n",
      "| Greater than  (greater than equal to)  | `>` (`>=`)  |\n",
      "| Equal to (or not equal to)    |  `==` (`!=`) |\n",
      "| Or | <code>&#124;</code>|\n",
      "| Modulo | `%`|\n",
      "\n",
      "When doing math in Python, the order of operations, PEMDAS (parenthesis, exponents, multiplication, division, addition, and subbtraction) apply.\n",
      "\n",
      "Functions often taken an *argument*; functions do things and the arguments tell the function what we want done, to what value or variable, and how we want it done. The functions listed above only take one argument."
     ]
    },
    {
     "cell_type": "markdown",
     "metadata": {},
     "source": [
      "Look at the statements below and try some out on your own computer. What are the functions? What are the values and what types of values are there?"
     ]
    },
    {
     "cell_type": "code",
     "collapsed": false,
     "input": [
      "4 + 5"
     ],
     "language": "python",
     "metadata": {},
     "outputs": []
    },
    {
     "cell_type": "code",
     "collapsed": false,
     "input": [
      "'potato salad'"
     ],
     "language": "python",
     "metadata": {},
     "outputs": []
    },
    {
     "cell_type": "code",
     "collapsed": false,
     "input": [
      "print 'I love potato salad'\n",
      "print 4 * 5\n",
      "print [4,5,'mayonnaise']"
     ],
     "language": "python",
     "metadata": {},
     "outputs": []
    },
    {
     "cell_type": "code",
     "collapsed": false,
     "input": [
      "type(\"I love mayo\")"
     ],
     "language": "python",
     "metadata": {},
     "outputs": []
    },
    {
     "cell_type": "code",
     "collapsed": false,
     "input": [
      "type([\"What's the type of this value?\"])"
     ],
     "language": "python",
     "metadata": {},
     "outputs": []
    },
    {
     "cell_type": "code",
     "collapsed": false,
     "input": [
      "\"a string\" + \" another\" * 3"
     ],
     "language": "python",
     "metadata": {},
     "outputs": []
    },
    {
     "cell_type": "code",
     "collapsed": false,
     "input": [
      "another"
     ],
     "language": "python",
     "metadata": {},
     "outputs": []
    },
    {
     "cell_type": "markdown",
     "metadata": {},
     "source": [
      "What did the `type()` function return? `str` is Python for string, meaning a character value and denoted with quotes, either single or double. Notice the \"`NameError`\" we got when typing a string without quotes, what happened here? Try using `type()` on some other values. Note the differences between `type(4)` and `type(4.0)` and `type(\"4.0\")`. \n"
     ]
    },
    {
     "cell_type": "markdown",
     "metadata": {},
     "source": [
      "#### Variable assignment\n",
      "\n",
      "One of the most important and useful aspects of Python is variable assignment. A variable is term for an object that holds a value. This is accomplished with the equals sign, `=`. Think of it as a container for a value. This allows us to save the output of functions for later use. \n",
      "\n",
      "As an example:"
     ]
    },
    {
     "cell_type": "code",
     "collapsed": false,
     "input": [
      "a_new_variable = 'some text right here'\n",
      "a_number_variable = 42\n",
      "print a_new_variable\n",
      "print a_number_variable"
     ],
     "language": "python",
     "metadata": {},
     "outputs": []
    },
    {
     "cell_type": "code",
     "collapsed": false,
     "input": [
      "type(a_new_variable)"
     ],
     "language": "python",
     "metadata": {},
     "outputs": []
    },
    {
     "cell_type": "code",
     "collapsed": false,
     "input": [
      "type(a_number_variable)"
     ],
     "language": "python",
     "metadata": {},
     "outputs": []
    },
    {
     "cell_type": "code",
     "collapsed": false,
     "input": [
      "(a_number_variable + 6)"
     ],
     "language": "python",
     "metadata": {},
     "outputs": []
    },
    {
     "cell_type": "markdown",
     "metadata": {},
     "source": [
      "Variables hold on to the value they are given. It sounds obvious, but it's good practice to name your variables in a way that is representative of what value(s) they hold."
     ]
    },
    {
     "cell_type": "markdown",
     "metadata": {},
     "source": [
      "#### Brief Exercise Values, Types, Statements, Functions, and Assignments\n",
      "\n",
      "This is to get you familiar with IDLE and get aquainted with these basics. Open IDLE if you haven't yet.\n",
      "Try doing some basic math, printing some strings, assigning values to objects. Go ahead and get some errors and make mistakes. \n",
      "What happens when you type the following? Why? What are the types? What are the variables? What are the variable's values?\n",
      "\n",
      "* `a_number = 2`\n",
      "* `print a_number`\n",
      "* `type(a_number)`\n",
      "* `a_number * 2`\n",
      "* `a_number` \n",
      "* `a_type = type(a_number)`\n",
      "* `two = \"2\" #note the quotes here`\n",
      "* `a_type = type(two)`\n",
      "* `print(a_type)`\n",
      "* `two * 10`\n",
      "* `int(two) * 2`\n",
      "* `two + \"one\"`\n",
      "* `2 = two`\n",
      "* `a_number + two`\n",
      "* `whats_this = 77.7777`\n",
      "* `round(whats_this)\n",
      "* `round(whats_this, 2)`\n",
      "\n",
      "\n",
      "Find anything odd? The first lines create a variable called `a_number` with a value of 2 and of an integer type (shown as `<type 'int'>`). When we multiply this by another `2` we get the predictable result `4`. \n",
      "\n",
      "What about the second block of code? We create a variable called `two`, a string type variable, with a value of `\"2\"`. What happens when we multiply a string by 10? We get that string repeated 10 times.  How about when we add the string `\"one\"` to the `two` variable? We end up with a string, a string that is the results of mashing this two strings together, `2one`. \n",
      "\n"
     ]
    },
    {
     "cell_type": "markdown",
     "metadata": {},
     "source": [
      "What happened with we tried to add our two variables together? We can mash two strings together (technically known as 'concatenating' strings), but we can't mash a string and an integer type together. We can do this, but we need to first convert that integer to a string or vice versa; we need to specifically tell Python what we want it to do, which depends on our goals:"
     ]
    },
    {
     "cell_type": "code",
     "collapsed": false,
     "input": [
      "a_number = 2\n",
      "two = \"2\"\n",
      "print a_number + int(two)\n",
      "# or \n",
      "print str(a_number) + two\n"
     ],
     "language": "python",
     "metadata": {},
     "outputs": []
    },
    {
     "cell_type": "markdown",
     "metadata": {},
     "source": [
      "Note that we're using the `print` function here to make sure that Python will print out those values. If we were only running code line by line, we wouldn't necessarily need the `print` function, but it's good practice to be as specific as possible when telling Python what we want done."
     ]
    },
    {
     "cell_type": "heading",
     "level": 1,
     "metadata": {},
     "source": [
      "<a name=\"string_manipulation\">String Manipulation</a>"
     ]
    },
    {
     "cell_type": "markdown",
     "metadata": {},
     "source": [
      "We've played with strings some, but now for more depth. The reason for this depth is because when we want to work with files on our computer, whether than means reprojecting a shapefile or deleting a text file, we will be working with file paths which are strings. Strings are created with putting quotes around letters or numbers. The quotes can be *either* single or double quotes, but be consistent. General properties of strings include concatenation and slicing:"
     ]
    },
    {
     "cell_type": "code",
     "collapsed": false,
     "input": [
      "a_string = \"Homer Simpson\"\n",
      "a_string"
     ],
     "language": "python",
     "metadata": {},
     "outputs": []
    },
    {
     "cell_type": "code",
     "collapsed": false,
     "input": [
      "mr_and_mrs = \"Marge and \" + a_string\n",
      "mr_and_mrs"
     ],
     "language": "python",
     "metadata": {},
     "outputs": []
    },
    {
     "cell_type": "code",
     "collapsed": false,
     "input": [
      "a_string[0:5]"
     ],
     "language": "python",
     "metadata": {},
     "outputs": []
    },
    {
     "cell_type": "code",
     "collapsed": false,
     "input": [
      "a_string[5:]"
     ],
     "language": "python",
     "metadata": {},
     "outputs": []
    },
    {
     "cell_type": "markdown",
     "metadata": {},
     "source": [
      "Strings are can be thought of as a sequence of characters (either numeric or character) stored together. We can also pull out some of those characters with a technique known as *slicing*. We can reference a character by its index in the string. In Python this indexing starts with zero.\n",
      "\n",
      "|0|1|2|3|4|5|6|7|8|9|10|11|12|\n",
      "|--|--|--|--|--|--|--|--|--|--|--|--|--|--|\n",
      " |H|o|m|e|r| |S|i|m|p|s|o|n|\n",
      " \n",
      " Notice that to index a run of numbers, use the colon (from:to). A useful function for indexing the last element of string sequence is the `len()` function. This function returns the length of the string, it answers how many characters does it contain. So if we want to index the last element of the string sequence, we would use:"
     ]
    },
    {
     "cell_type": "code",
     "collapsed": false,
     "input": [
      "print \"The length equals\", len(a_string)\n",
      "print \"The last character is\"\n",
      "a_string[len(a_string)]"
     ],
     "language": "python",
     "metadata": {},
     "outputs": []
    },
    {
     "cell_type": "markdown",
     "metadata": {},
     "source": [
      "Whoops! Remember, Python starts its indexing at 0 and so we need to subtract one from the total length to get the index of the last element."
     ]
    },
    {
     "cell_type": "code",
     "collapsed": false,
     "input": [
      "print \"The length equals\", len(a_string)\n",
      "print \"The last character is\"\n",
      "a_string[len(a_string)-1]"
     ],
     "language": "python",
     "metadata": {},
     "outputs": []
    },
    {
     "cell_type": "markdown",
     "metadata": {},
     "source": [
      "As said previously, strings are sequences of characters and so are *iterable*, that is we can use them in `for` loops. More on this later, but for now, a quick example using Homer simpson and the `print` statement. This looping is not possible for integers or floats."
     ]
    },
    {
     "cell_type": "code",
     "collapsed": false,
     "input": [
      "for letter in a_string:\n",
      "    print \"This a letter in Homer's name:\", letter"
     ],
     "language": "python",
     "metadata": {},
     "outputs": []
    },
    {
     "cell_type": "markdown",
     "metadata": {},
     "source": [
      " We've mentioned strings are a type of value and we've seen that they are created with putting quotes around letters or numbers or with a call to the `str()` function. As an example, we'll take a theoretical name of a vector file of Dane county, called `wisc_cnty_dane.shp`. We'll assign it to a variable `file_county`."
     ]
    },
    {
     "cell_type": "code",
     "collapsed": false,
     "input": [
      "file_county = \"wisc_cnty_dane.shp\"\n",
      "print file_county\n",
      "print type(file_county)"
     ],
     "language": "python",
     "metadata": {},
     "outputs": []
    },
    {
     "cell_type": "markdown",
     "metadata": {},
     "source": [
      "String variables can be merged and reasssigned. For example, if we want to reference this file in a function, we might need the entire path of that file, that is where it is stored; think of the full file path as the full name of the file. We'll assume that our file is stored in a directory (folder) of other county files on our C drive, which we can find by copy pasting the full path in the top of the Windows Explorer window, for example \"C:\\\\gis_data\\\\county_files\". To create the full file path, we'll try to concatenate or merge the two strings together, first with what we might have copy/pasted from Windows Explorer and then the rest of our file path: "
     ]
    },
    {
     "cell_type": "code",
     "collapsed": false,
     "input": [
      "\"C:\\gis_data\\county_files\" + file_county"
     ],
     "language": "python",
     "metadata": {},
     "outputs": []
    },
    {
     "cell_type": "markdown",
     "metadata": {},
     "source": [
      "Oh shoot, we forgot another slash to tell it that our county file is within the directory. "
     ]
    },
    {
     "cell_type": "code",
     "collapsed": false,
     "input": [
      "\"C:\\gis_data\\county_files\\\" + file_county"
     ],
     "language": "python",
     "metadata": {},
     "outputs": []
    },
    {
     "cell_type": "markdown",
     "metadata": {},
     "source": [
      "Hmmm, what happened?  A `string literal`? What we haven't told you is that Python uses the backslash as an escape character. It looks like Python put an extra backslash in our path and there should be a slash showing that our Dane county file is in the `county_files` folder. Python was constructed to use only forward slashs (`/`) in file paths. The backslash (`\\\\`) is a character that tells Python not to evaluate that character as it normally would, this is referred to as an escape character or escaping certain characters. Suffice it to say that Python wants to see a forward slash in file paths and Windows used backslashs. What Python has done is to automatically add a *second* backslash in the string object, telling itself that it is really a backslash, it is atually *escaping* the backslash. (If we were to use the `print` function on this string value, we would not see the double backslashing because `print` is making a pretty output for us to read, try `\"\\t a tab\"` and then `print \"\\t a tab\"` to see the difference. The `\\t` is a tab, here we are escaping the 't' to mean not a real 't', but a tab.)\n",
      "\n",
      "Back to our example, the double backslashes here mean that Python understands we mean to separate the directories from each other but its interpreting the `\\\"` as if we're saying, don't look at those double quotes as ending or closing our string. Its good practice to take steps to make sure that Python will correctly read these strings as file paths. One could use only forward slashes when working with Python (this could be an issue if you are writing commands to be passed to the Windows command shell) or use an \"`r`\" before the file path, this tells Python to interpret this as a raw strings, e.g., r\"C:\\gis_data\\county_files\". These steps ensure that our file paths are read correctly. \n",
      "\n",
      "Let's take the first option and use only forward slashes. "
     ]
    },
    {
     "cell_type": "code",
     "collapsed": false,
     "input": [
      "\"C:/gis_data/county_files/\" + file_county"
     ],
     "language": "python",
     "metadata": {},
     "outputs": []
    },
    {
     "cell_type": "markdown",
     "metadata": {},
     "source": [
      "Okay, we've got a valid path to our shapefile. If we assign this to a variable, we can hold onto this information for use in a function. \n"
     ]
    },
    {
     "cell_type": "markdown",
     "metadata": {},
     "source": [
      "## <a name=\"intro_to_methods\">Methods as introduced through strings</a>\n",
      "\n",
      "We've discussed functions, the statements that do something to values. Very similar to functions are *methods*, methods are functions embedded within certain values. These functions (methods) are specific to the type of value, for example integers have different methods than strings and lists, and strings and lists don't have all the same methods. Methods are accessed through *dot notation*, for example `\"potato\".capitalize()`. This method takes no arguments and returns a capitilized version a the string. In IDLE, to find a list of available methods, add a dot after the variable or value and hit tab, a list of methods should appear."
     ]
    },
    {
     "cell_type": "code",
     "collapsed": false,
     "input": [
      "print a_string.split(\" \") # takes the character to split by as an argument\n",
      "\n",
      "print a_string.replace(\"Homer\", \"Bart\") # takes as arguments waht you want replaced and the replacement"
     ],
     "language": "python",
     "metadata": {},
     "outputs": []
    },
    {
     "cell_type": "markdown",
     "metadata": {},
     "source": [
      "Notice what these methods returned. The first returned a list and the second returned a string. The type of output returned from functions and methods is important because we'll often want to do something further to those outputs and what we want to do with them is affected by their type. Also, what happened to our `a_string` variable? Is it a list now? Is it now Bart Simpson? No, it hasn't changed, if we wanted to capture the output of these methods (this holds true for a lot of other functions, too) we would have to reassign it to another variable. "
     ]
    },
    {
     "cell_type": "markdown",
     "metadata": {},
     "source": [
      "## <a name=\"#intro_to_lists\">Introduction to Lists</a>\n",
      "\n",
      "We've seen how strings are sequences of characters. A different kind of sequence is a `list`, this allows *collections* of values to be held in just one variable. These can be objects can be strings, integers, floats, and other lists.\n",
      "\n",
      "A *list* is created using square brackets to mark the beginning `[` and the end `]` of the list, with commas separating the items in the list. It can also be created with a call to function `list()`, which takes a variable and converts it to a list"
     ]
    },
    {
     "cell_type": "code",
     "collapsed": false,
     "input": [
      "a_list = [\"Adams\", \"Juneau\", \"Waushara\", \"Clark\", \"Pepin\", \"Dane\"]\n",
      "print a_list"
     ],
     "language": "python",
     "metadata": {},
     "outputs": []
    },
    {
     "cell_type": "code",
     "collapsed": false,
     "input": [
      "b_list = ['fourteen', 15, 'another string', ['meatball', 'albondigas']]\n",
      "print b_list"
     ],
     "language": "python",
     "metadata": {},
     "outputs": []
    },
    {
     "cell_type": "code",
     "collapsed": false,
     "input": [
      "list_from_string = list(a_string)\n",
      "print list_from_string\n",
      "# or as we've seen previously\n",
      "for letter in list_from_string:\n",
      "    print letter"
     ],
     "language": "python",
     "metadata": {},
     "outputs": []
    },
    {
     "cell_type": "markdown",
     "metadata": {},
     "source": [
      "These are a list of county names and an example of a list with six integers, two strings, and an example making a list from a string with a call to `list()`.\n",
      "\n",
      "Try making other kinds of lists, empty lists, lists with numbers and characters, lists within lists, try indexing a list like you would a string.\n",
      "\n",
      "(There are other collection objects, these are dictionaries and tuples. A tuple is like a list, but it cannot be changed, and is created with parentheses instead of brackets. A dictionary stores objects for easy reference and can be useful when certain information needs to be called from a collection. For this class we will only work with lists.)\n",
      "\n",
      "Lists can be assigned to variables, just like other values, and then they can be used again, either as a list or by referencing the variables or values stored within the list."
     ]
    },
    {
     "cell_type": "heading",
     "level": 1,
     "metadata": {},
     "source": [
      "`for` loops"
     ]
    },
    {
     "cell_type": "markdown",
     "metadata": {},
     "source": [
      "Now we'll get into the fun stuff. We've seen a couple examples of `for` loops, but let's go into some detail.\n",
      "`for` loops are used to move through a sequence, element by element. Using our `a_list` as an example, we'll loop through each string (each county) and print it out. "
     ]
    },
    {
     "cell_type": "code",
     "collapsed": false,
     "input": [
      "for i in a_list:\n",
      "    print i"
     ],
     "language": "python",
     "metadata": {},
     "outputs": []
    },
    {
     "cell_type": "markdown",
     "metadata": {},
     "source": [
      "You can see that it starts with `for`, then a generic variable name, this doesn't have to mean anything, but is often named something indicative of what you are looping through. (`i` is often used as a generic variable in `for` loops as well.) It is then followed by `in` and then a sequence variable, in this case a list and then a colon. On the next line, we have the statements for what we want to do to each element of the sequence. **NOTICE** that these statements must be **indented by a tab** or four spaces. Python is picky about these tabs so don't ignore them.\n",
      "\n",
      "When would you use a `for` loop? Think of it as a sophisticated copy/paste. Let's say we wanted to know the surface area of spheres of increasing radii? We'll first create something we can iterate over, and then one by one, calculate the surface area."
     ]
    },
    {
     "cell_type": "code",
     "collapsed": false,
     "input": [
      "radii = [0.1,0.5,1,1.5,2,5]\n",
      "for r in radii:\n",
      "    print 4*(3.14)*(r**2)"
     ],
     "language": "python",
     "metadata": {},
     "outputs": []
    },
    {
     "cell_type": "markdown",
     "metadata": {},
     "source": [
      "Great, but the only record we have of this is what's printed out, lets try assigned the surface area to a list."
     ]
    },
    {
     "cell_type": "code",
     "collapsed": false,
     "input": [
      "sa = [] # instatiating an empty list\n",
      "for r in radii:\n",
      "    surf_area = 4*(3.14)*(r**2) # notice this step\n",
      "    sa.append(surf_area)\n",
      "print sa"
     ],
     "language": "python",
     "metadata": {},
     "outputs": []
    },
    {
     "cell_type": "markdown",
     "metadata": {},
     "source": [
      "Notice our use of the `.append()` method, this modifies the empty list we created and adds the calculated surface area to it."
     ]
    },
    {
     "cell_type": "heading",
     "level": 2,
     "metadata": {},
     "source": [
      "Briefly, some Logic"
     ]
    },
    {
     "cell_type": "markdown",
     "metadata": {},
     "source": [
      "We'll now rip off an example from *Think Python* by Dr. Allen Downey in order to introduce logic in Python. In this example challenges the reader to to print out the name of some ducks in a book. The ducks names are Jack, Kack, Lack, Mack, Ouack, Pack, and Quack. Our task is it print out the names of each duck. We'll start with the string to iterate through, `prefixes = jklmnopq`, from  there its pretty easy to create `for` loop that will cycle through these each prefix and then we can just paste \"ack\" onto it. "
     ]
    },
    {
     "cell_type": "code",
     "collapsed": false,
     "input": [
      "prefixes = \"jklmnopq\"\n",
      "for letter in prefixes:\n",
      "    print letter + \"ack\""
     ],
     "language": "python",
     "metadata": {},
     "outputs": []
    },
    {
     "cell_type": "markdown",
     "metadata": {},
     "source": [
      "Great it worked, except for the \"O\" and the \"Q\", those are supposed to have a \"u\" after them. What should we do about that? We'll use some logic testing with something called an \"`if`\" statement. If statements test whether something is `True` or `False` (notice the first letter is capitalized and all others are not).\n",
      "\n",
      "Before we try this in a loop we'll try an `if` statement on its own."
     ]
    },
    {
     "cell_type": "code",
     "collapsed": false,
     "input": [
      "letter = \"q\"\n",
      "if letter == \"q\":\n",
      "    print \"add a 'u'\""
     ],
     "language": "python",
     "metadata": {},
     "outputs": []
    },
    {
     "cell_type": "markdown",
     "metadata": {},
     "source": [
      "You can see the makings of the `if` statement, it starts with the `if` and then we have our logical statement, a statement that is either `True` or `False`, followed by a colon and then the statement to evaluate if our logic statement is True. Similar to the `for` loops, notice how it must be indented 1 tab or 4 spaces in. Try this logical statement out in our previous for loop. \n",
      "\n",
      "That's all well and good but we also want to add a \"u\" if the letter is \"o\", for \"Ouack\". To do this, we use `in` and a list. Instead of testing whether `letter` is equal to a specific letter, we'll test whether it matches an element of a list."
     ]
    },
    {
     "cell_type": "code",
     "collapsed": false,
     "input": [
      "need_a_u = [\"o\", \"q\"]\n",
      "if letter in need_a_u:\n",
      "    print \"add a u\""
     ],
     "language": "python",
     "metadata": {},
     "outputs": []
    },
    {
     "cell_type": "markdown",
     "metadata": {},
     "source": [
      "An `if` statement is used to evaluate or carry out some statement if a given condition is met. What if its not met? For this case an `else` statement is added."
     ]
    },
    {
     "cell_type": "code",
     "collapsed": false,
     "input": [
      "for letter in prefixes:\n",
      "    if letter in need_a_u:\n",
      "        print \"needs a u\"\n",
      "    else:\n",
      "        print \"doesn't need a 'u'\""
     ],
     "language": "python",
     "metadata": {},
     "outputs": []
    },
    {
     "cell_type": "markdown",
     "metadata": {},
     "source": [
      "Make careful note here of the indentations, Python can be very picky about those indentations so double check that you'll have (another) indentation after each colon. (Its also a good idea for programming in general, it makes it more organized and easier to read.)\n",
      "\n",
      "We've got all we need to make sure those that get 'u's get one, and those that don't, don't. \n",
      "Okay, let's incorporate this change into our script, but also, these are duckling names, so lets capitalize the prefixes before pasting them on the 'ack' or the 'uack'. (Hint, check the string methods.)"
     ]
    },
    {
     "cell_type": "markdown",
     "metadata": {},
     "source": [
      "### Exercise "
     ]
    },
    {
     "cell_type": "markdown",
     "metadata": {},
     "source": [
      "Moving back to the introduction to strings, imagine that we have these county files, each named for the county in the directory mentioned above, \"C:/gis_data/county_files/\". We'll imagine each is unprojected and we want to project them to Wisconsin Transverse Mercator. Our task is to loop through each, create the file path to the county file, create the file path for the output file, and then print these paths out, pretending to feed them into our function. To see why we'd need to do this, see the function for projecting vectors in Arcpy: `Project_management (in_dataset, out_dataset, out_coor_system, {transform_method}, {in_coor_system})`.\n",
      "\n",
      "Before letting you go on this task, to make this easier, we'll do things. \n",
      "\n",
      "* Instead of writing this directly into IDLE, we'll open a script window. This will make debugging and error testing easier. (File >> New file, save as.)\n",
      "* We'll *pseudocode* the script. This is a way to organize your thoughts about what it is we need to get done.\n",
      "\n",
      "Note that in a script window, we'll need to define everything new, it starts with a blank slate."
     ]
    },
    {
     "cell_type": "code",
     "collapsed": false,
     "input": [
      "### In our script\n",
      "### Define our directory and county files\n",
      "dir_data = \"C:/gis_data/county_files/\"\n",
      "cntys = [\"Adams.shp\", \"Juneau.shp\", \"Waushara.shp\", \"Clark.shp\", \"Pepin.shp\", \"Dane.shp\"]\n",
      "\n",
      "### Loop through each county\n",
      "    ### create input file path, (assign to new variable)\n",
      "    ### take off .shp from each county name\n",
      "    ### add \"_wtm.shp\" to each county name\n",
      "    ### create output file path \n",
      "    ### print Input = input file path\n",
      "    ### print Ouput = output file path\n"
     ],
     "language": "python",
     "metadata": {},
     "outputs": []
    },
    {
     "cell_type": "code",
     "collapsed": false,
     "input": [
      "import os, urllib, sys\n",
      "url = 'https://raw.github.com/asruesch/pythonGisWorkshop/master/workshopEnv.py'\n",
      "home = os.path.expanduser('~')\n",
      "wd = home + '/pythonWorkshopWLIA2014'\n",
      "if not os.path.exists(wd):\n",
      "    os.makedirs(wd)\n",
      "urllib.urlretrieve(url, wd + '/workshopEnv.py')\n",
      "sys.path.append(wd)\n",
      "import workshopEnv\n",
      "from workshopEnv import *"
     ],
     "language": "python",
     "metadata": {},
     "outputs": []
    },
    {
     "cell_type": "markdown",
     "metadata": {},
     "source": [
      "The above script automatically downloads a dataset that we'll be using for the rest of the class and unzips it into your home directory (e.g., `C:/Users/username`). If at anytime you want to start from scratch, execute the following commands:"
     ]
    },
    {
     "cell_type": "code",
     "collapsed": false,
     "input": [
      "# This will clone the original copy of the data\n",
      "reload(workshopEnv)\n",
      "# This will redefine all variables\n",
      "from workshopEnv import *"
     ],
     "language": "python",
     "metadata": {},
     "outputs": []
    },
    {
     "cell_type": "markdown",
     "metadata": {},
     "source": [
      ">**Note:** Instructors will also have the class data available on a memory stick if the above script doesn't work for you."
     ]
    },
    {
     "cell_type": "markdown",
     "metadata": {},
     "source": [
      "###<a name=\"Functional_syntax_and_basic_geoprocessing\">4. Functional syntax and basic geoprocessing</a>"
     ]
    },
    {
     "cell_type": "markdown",
     "metadata": {},
     "source": [
      "####<a name=\"Nuance in string manipulation\">4.B. Manipulation of strings</a>\n",
      "\n",
      "We've covered a few basic concepts in Python. Now it's time to put them to use. But first, some important nuances about strings. "
     ]
    },
    {
     "cell_type": "code",
     "collapsed": false,
     "input": [
      "print \"\"a\" is a letter of the alphabet\""
     ],
     "language": "python",
     "metadata": {},
     "outputs": []
    },
    {
     "cell_type": "markdown",
     "metadata": {},
     "source": [
      "That will not work because Python reads this as an empty string followed by the **object**, `a`, followed by the trailing string. We can better communicate this to Python by using both single and double quotes."
     ]
    },
    {
     "cell_type": "code",
     "collapsed": false,
     "input": [
      "print '\"a\" is a letter of the alphabet'"
     ],
     "language": "python",
     "metadata": {},
     "outputs": []
    },
    {
     "cell_type": "markdown",
     "metadata": {},
     "source": [
      "Alternatively, we can use the backslash as an escape character to communicate to Python that the quotes should be treated as literal. This in fact will allow us to use both single and double quotes within a string, which will become important as you'll see later in this module."
     ]
    },
    {
     "cell_type": "code",
     "collapsed": false,
     "input": [
      "print '\"a\" is a \\'letter\\' of the alphabet'"
     ],
     "language": "python",
     "metadata": {},
     "outputs": []
    },
    {
     "cell_type": "markdown",
     "metadata": {},
     "source": [
      "Also important to note is that only like types can use the '+' operator, otherwise you will get a \"type error.\""
     ]
    },
    {
     "cell_type": "code",
     "collapsed": false,
     "input": [
      "for i in dictionary_iterator.itervalues():\n",
      "    print '\"' + i + '\" is the string being used in this iteration'"
     ],
     "language": "python",
     "metadata": {},
     "outputs": []
    },
    {
     "cell_type": "markdown",
     "metadata": {},
     "source": [
      "However, if we first convert the integer to a string, we are good!"
     ]
    },
    {
     "cell_type": "code",
     "collapsed": false,
     "input": [
      "for i in dictionary_iterator.itervalues():\n",
      "    print '\"' + str(i) + '\" is the string being used in this iteration'"
     ],
     "language": "python",
     "metadata": {},
     "outputs": []
    },
    {
     "cell_type": "markdown",
     "metadata": {},
     "source": [
      "####<a name=\"Manipulation_of_paths\">4.C. Manipulation of paths</a>\n",
      "\n",
      "Python has a number of handy additional libraries that aren't immediately available to users when you open a Python window. But we can easily `import` them to extend the functionality available to us. When it comes to file management, an extremely useful library that comes with the standard distribution of Python is the `os` module."
     ]
    },
    {
     "cell_type": "code",
     "collapsed": false,
     "input": [
      "import os\n",
      "os.listdir('.')\n",
      "\n",
      "home = os.path.expanduser(\"~\")\n",
      "print home\n",
      "docs = home + '/Documents'\n",
      "print docs"
     ],
     "language": "python",
     "metadata": {},
     "outputs": []
    },
    {
     "cell_type": "markdown",
     "metadata": {},
     "source": [
      ">**Note:** There is an important distinction between forward and backslashes. Windows is the only system that uses backslashes in path definition. Most everything else (e.g., Mac, *nix) use forward slashes according to POSIX standard. Because Python was originally written to be POSIX-compliant, it uses forward slashes natively. To use a backslash in a string, use two backslashes."
     ]
    },
    {
     "cell_type": "code",
     "collapsed": false,
     "input": [
      "windowsPath = 'C:\\\\Users\\\\ruesca'\n",
      "print windowsPath"
     ],
     "language": "python",
     "metadata": {},
     "outputs": []
    },
    {
     "cell_type": "markdown",
     "metadata": {},
     "source": [
      "Or, you can create a \"raw\" string that treats every character as literal. Many ArcGIS users (ergo Windows users) make this a habit when dealing with file paths."
     ]
    },
    {
     "cell_type": "code",
     "collapsed": false,
     "input": [
      "windowsPath = r'C:\\Users\\ruesca'\n",
      "print windowsPath"
     ],
     "language": "python",
     "metadata": {},
     "outputs": []
    },
    {
     "cell_type": "markdown",
     "metadata": {},
     "source": [
      "If the `r` is not placed in front of the string, Python will interpret your string in very strange ways."
     ]
    },
    {
     "cell_type": "code",
     "collapsed": false,
     "input": [
      "# Notice that the backslashes are only printed once.\n",
      "# The first one is considered by the Python interpreter to be an 'escape' character.\n",
      "# An escape character tells the interpreter to consider the next character to be literal.\n",
      "\n",
      "windowsPath = 'C:\\Users\\ruesca'\n",
      "print windowsPath\n",
      "\n",
      "# Hmmm, that's not right.\n",
      "# Python interprets '\\U' and '\\r' as single characters with special meaning.\n",
      "# I have no idea what those meanings are..."
     ],
     "language": "python",
     "metadata": {},
     "outputs": []
    },
    {
     "cell_type": "markdown",
     "metadata": {},
     "source": [
      "To fix the backslashes, use the `replace()` method. A **method** is a **function** embedded within an **object** that can only be executed on that object or an object defined in the same way. For example, any object defined as a string data type has the same set of methods. To view methods for an object, you can type the object into a Python interpreter followed by a dot, then hit the tab button. Give it a try..."
     ]
    },
    {
     "cell_type": "code",
     "collapsed": false,
     "input": [
      "# Let's replace the backslashes with forward slashes using the replace() method\n",
      "# You can redefine a variable instead of creating a new one\n",
      "\n",
      "print home\n",
      "home = home.replace('\\\\', '/')\n",
      "print home"
     ],
     "language": "python",
     "metadata": {},
     "outputs": []
    },
    {
     "cell_type": "markdown",
     "metadata": {},
     "source": [
      "The [`os.path`](http://docs.python.org/2/library/os.path.html) module is the primary utility for manipulating paths. Try typing `os.path.` and hit the tab button. You should see a long list of embedded objects including the `expanduser()` function that we used earlier. Most of these embedded objects are **function** types, which means they will **do** something given a set of **arguments** contained in parentheses following the function name."
     ]
    },
    {
     "cell_type": "code",
     "collapsed": false,
     "input": [
      "print 'home: ' + home\n",
      "print 'basename: ' + os.path.basename(home)\n",
      "print 'dirname: ' + os.path.dirname(home)\n",
      "print 'split: ' + str(os.path.split(home))\n",
      "print 'exists: ' + str(os.path.exists(home))"
     ],
     "language": "python",
     "metadata": {},
     "outputs": []
    },
    {
     "cell_type": "markdown",
     "metadata": {},
     "source": [
      "####<a name=\"Looping_through_paths_to_automate_a_task\">4.D. Looping through paths to automate a task</a>"
     ]
    },
    {
     "cell_type": "markdown",
     "metadata": {},
     "source": [
      "First, let's try using the `env` module, which is a sub-module of `arcpy`. The `env` module contains all functionality that you would normally find in the 'Environment settings' of a geoprocessing tool, and then some.<a name=\"loopingExample\"></a>"
     ]
    },
    {
     "cell_type": "code",
     "collapsed": false,
     "input": [
      "import arcpy\n",
      "# To use the env module, we can use dot notation to access embedded objects\n",
      "print arcpy.env.workspace\n",
      "\n",
      "# Or, to make the code more readable, we can import the whole module\n",
      "from arcpy import env\n",
      "print env.workspace"
     ],
     "language": "python",
     "metadata": {},
     "outputs": []
    },
    {
     "cell_type": "code",
     "collapsed": false,
     "input": [
      "# Define a variable called fgdb that points to the geodatabase for the workshop\n",
      "fgdb = wd + '/WLIA_pythonclass_data.gdb'\n",
      "\n",
      "# Set the workspace environment variable to the workshop geodatabase.\n",
      "# This will give us access to its datasets without having to define the full path\n",
      "arcpy.env.workspace = fgdb\n",
      "\n",
      "# List the datasets in the geodatabase\n",
      "feature_classes = arcpy.ListFeatureClasses()\n",
      "print 'Feature classes: ' + str(feature_classes)\n",
      "rasters = arcpy.ListRasters()\n",
      "print 'Rasters: ' + str(rasters)"
     ],
     "language": "python",
     "metadata": {},
     "outputs": []
    },
    {
     "cell_type": "markdown",
     "metadata": {},
     "source": [
      ">**Note:** the 'u' in front of each string denotes that that string is a [unicode](http://en.wikipedia.org/wiki/Unicode) type string. This just tells the computer to handle the text in a specific way. For most purposes outside of advanced text handling, this definition is unimportant. "
     ]
    },
    {
     "cell_type": "markdown",
     "metadata": {},
     "source": [
      "We can also concatenate lists using the `+` operator. This will append an additional item to a list."
     ]
    },
    {
     "cell_type": "code",
     "collapsed": false,
     "input": [
      "# Let's create a complete list of all our datasets, feature classes and rasters.\n",
      "datasets = feature_classes + rasters\n",
      "print datasets"
     ],
     "language": "python",
     "metadata": {},
     "outputs": []
    },
    {
     "cell_type": "markdown",
     "metadata": {},
     "source": [
      "Let's try a single geoprocessing task before we get too fancy."
     ]
    },
    {
     "cell_type": "code",
     "collapsed": false,
     "input": [
      "# Pull the 0th (i.e., Pythonic \"first\") element out of the list of feature classes\n",
      "roads = feature_classes[0]\n",
      "# Define an output path in the file geodatabase\n",
      "prj_roads = fgdb + '/prj_roads'\n",
      "# Everybody needs to project data\n",
      "arcpy.Project_management(roads,\n",
      "    prj_roads,\n",
      "    arcpy.SpatialReference(4326),\n",
      "    \"NAD_1983_HARN_To_WGS_1984_2\")\n",
      "print arcpy.Exists(prj_roads)"
     ],
     "language": "python",
     "metadata": {},
     "outputs": []
    },
    {
     "cell_type": "markdown",
     "metadata": {},
     "source": [
      "It works. Let's get fancy now. Let's say we're from Cross Plains. We were given this dataset of the Cross Plains area, but we only care about what goes on within the city limits. Let's clip all the data to the city limits. If we were going to do this in ArcGIS Desktop, we would intersect each dataset with the Cross Plains boundary, but first we would have to either export the Cross Plains feature from the MCDs feature class or simply select it before running the intersection."
     ]
    },
    {
     "cell_type": "code",
     "collapsed": false,
     "input": [
      "# First, select the Cross Plains boundary\n",
      "# To do this, we have to first create a 'layer'\n",
      "# Think of this as though you were \"adding data\" in ArcGIS\n",
      "arcpy.MakeFeatureLayer_management('MCDs', 'MCD_layer')\n",
      "\n",
      "# Then select the Cross Plains feature\n",
      "arcpy.SelectLayerByAttribute_management('MCD_layer', 'NEW_SELECTION', '\"CVT_TYPE\" = \\'V\\'')\n",
      "select_count = int(arcpy.GetCount_management('MCD_layer').getOutput(0))\n",
      "print select_count"
     ],
     "language": "python",
     "metadata": {},
     "outputs": []
    },
    {
     "cell_type": "markdown",
     "metadata": {},
     "source": [
      "Notice the third argument of the selection code. This is the expression that defines the attribute selection. ArcGIS attribute selections within text fields require that the field name is enclosed in double quotes and the value within single quotes."
     ]
    },
    {
     "cell_type": "code",
     "collapsed": false,
     "input": [
      " print '\"CVT_TYPE\" = \\'V\\''"
     ],
     "language": "python",
     "metadata": {},
     "outputs": []
    },
    {
     "cell_type": "markdown",
     "metadata": {},
     "source": [
      "Now that we have Cross Plains selected, we can start clipping. Let's put everything together to automate all the clipping."
     ]
    },
    {
     "cell_type": "code",
     "collapsed": false,
     "input": [
      "for dataset in datasets:\n",
      "    output = dataset + '_clip'\n",
      "    print output\n",
      "    arcpy.Intersect_analysis(['MCD_layer', dataset], output)"
     ],
     "language": "python",
     "metadata": {},
     "outputs": []
    },
    {
     "cell_type": "markdown",
     "metadata": {},
     "source": [
      "Oops! We tried to use the intersect tool to clip a raster. Well, it almost worked. You'll find most of the datasets to be clipped properly, except for the raster. One way to fix it so the whole thing runs, raster or feature class, is to run the raster clip tool for rasters and intersect for feature classes. To do this, we'll have to query each dataset's properties, create an `if/else` statement, and run the raster clip tool for the DEM30m dataset, all of which we will cover in the next submodule."
     ]
    },
    {
     "cell_type": "markdown",
     "metadata": {},
     "source": [
      "####<a name=\"Exercise_4E\">4.E. Exercise</a>\n",
      "\n",
      "* The purpose of this exercise will be to convert feature classes in the example file geodatabase to shapefiles. Use [this code](#loopingExample) as a starting point.\n",
      "    * Open ArcMap and create a new map document.  Add all of the layers  in the file geodatabase for this class.\n",
      "    * Open the Python Window \n",
      "    * Set the workspace environment \n",
      "    * Create a list of feature classes\n",
      "    * Write a for loop to iterate through the feature classes\n",
      "    * Use the ArcGIS online help to look up `FeatureClasstoShapefile_conversion`. Save the output in the working directory, variable `wd`:\n",
      "\n",
      "```python\n",
      "for fc in feature_classes:\n",
      "    arcpy.FeatureClassToShapefile_conversion(fc, out_filename)\n",
      "```\n",
      "\n",
      "* Copy shapefiles back into a file geodatabase\n",
      "    * In ArcCatalog, create a new file geodatabase in the working directory.  Name it \"output.gdb\"\n",
      "    * Try out the code below to copy the shapefile created in step 6 back into output.gdb\n",
      "    \n",
      "\n",
      "##### Answer:\n",
      "\n",
      "This script copies all feature classes from a workspace into a file geodatabase. For more info, see <http://resources.arcgis.com/en/help/main/10.1/index.html#//001700000035000000>\n"
     ]
    },
    {
     "cell_type": "code",
     "collapsed": false,
     "input": [
      "import arcpy\n",
      "import os\n",
      "\n",
      "#set the workspace\n",
      "from arcpy import env\n",
      "env.workspace = fgdb\n",
      "\n",
      "# Create a list of feature classes in the current workspace\n",
      "fclist = arcpy.ListFeatureClasses()\n",
      "\n",
      "# Copy each feature class to a file geodatabase \u2013 keep the same name, but use the \n",
      "# basename property to remove any file extensions including .shp\n",
      "for fc in fclist:\n",
      "    fcdesc = arcpy.Describe(fc)\n",
      "    arcpy.CopyFeatures_management(fc, os.path.join(wd + '/output.gdb', fcdesc.basename))"
     ],
     "language": "python",
     "metadata": {},
     "outputs": []
    },
    {
     "cell_type": "markdown",
     "metadata": {},
     "source": [
      "###<a name=\"Cursors\">6. Cursors</a>\n",
      "\n",
      "Cursors are used to iterate through records in a table or feature class and can be a serious workhorse for many workflows. Cursors are commonly used to read and update attributes and have three forms: `search`, `insert`, or `update`.  In ArcGIS 10.1, ESRI introduced the \"Data Access\" module which significantly improved the performance from the traditional cursor that was present pre-ArcGIS 10.1.  For this workshop, we will work with cursors within the `arcpy.da` module.\n",
      "\n",
      "Cursors take in a minimum of 2 arguments:\n",
      "\n",
      "* Feature class, layer, table or table view\n",
      "* A list of field names; If it is a single field, you can use a sting instead of a list of strings.\n",
      "\n",
      "####<a name=\"Search_cursors\">6.A. Search cursors</a>\n",
      "\n",
      "The `SearchCursor` establishes read-only access to the records from a table or feature class.  Once established, the cursor will return a tuple of values that you can iterate through.\n",
      "\n",
      "Search cursors can be iterated using a `for` loop.  Search cursors also support the `with` statement which will guarantee proper closure and release of database locks and reset the iteration.\n",
      "\n",
      "A \"data access\" search cursor is denoted as `arcpy.da.SearchCursor` and should not be confused with `arcpy.SearchCursor` as the properties and usage are different.\n",
      "\n",
      "Let\u2019s establish a simple `SearchCursor` to step through the MCDs feature class and print the city type and name.\n"
     ]
    },
    {
     "cell_type": "code",
     "collapsed": false,
     "input": [
      "import arcpy\n",
      "from arcpy import env\n",
      " \n",
      "# Set Workspace environment\n",
      "env.workspace = fgdb\n",
      " \n",
      "# SearchCursor arguments\n",
      "fc = \"MCDs\"\n",
      "fields = [\"CVT_TYPE\",\"CVT_NAME\"]\n",
      " \n",
      "# Establish SearchCursor using a 'with' statement to print type and name\n",
      "with arcpy.da.SearchCursor(fc, fields) as cursor:\n",
      "    for row in cursor:\n",
      "        if row[0] == \"T\":\n",
      "            print \"Town of \" + row[1]\n",
      "        else:\n",
      "            print \"Village of \" + row[1]"
     ],
     "language": "python",
     "metadata": {},
     "outputs": []
    },
    {
     "cell_type": "markdown",
     "metadata": {},
     "source": [
      "Let\u2019s establish a `SearchCursor` using an expression that limits the records to only those that are Towns and not Villages:"
     ]
    },
    {
     "cell_type": "code",
     "collapsed": false,
     "input": [
      "import arcpy\n",
      "from arcpy import env\n",
      " \n",
      "# Set Workspace environment\n",
      "env.workspace = fgdb\n",
      " \n",
      "# SQL expression that will be passed into searchCursor\n",
      "expression = arcpy.AddFieldDelimiters(\"MCDs\", \"CVT_TYPE\") + \" = 'T'\"\n",
      " \n",
      "# Establish SearchCursor using a filter expression\n",
      "with arcpy.da.SearchCursor(\"MCDs\", \"CVT_NAME\", where_clause=expression) as cursor:\n",
      "    for row in cursor:\n",
      "        print \"Town of \" + row[0]"
     ],
     "language": "python",
     "metadata": {},
     "outputs": []
    },
    {
     "cell_type": "markdown",
     "metadata": {},
     "source": [
      "####<a name=\"Update_cursors\">6.B. Update cursors</a>\n",
      "\n",
      "The `UpdateCursor` establishes read-write access to records returned from a table or feature class.  It allows you the ability to delete records or update the attributes of a record.  However, you cannot add new records to the table.  With the exception of deleting records, the Calculate Field tool can provide another approach for updating values.\n",
      "\n",
      "Update cursors can be iterated using a `for` loop and will also support the `with` statement, which will guarantee proper closure and release of database locks and reset the iteration.\n",
      "\n",
      "A data access search cursor is denoted as `arcpy.da.SearchCursor` and should not be confused with `arcpy.SearchCursor` as the properties and usage are different.\n",
      "\n",
      "Let\u2019s add a new field called `Map_Label` to the `MCDs` featureclass and establish an `UpdateCursor` to populate the new field.  The new field will contain the unabbreviated `CVT_TYPE` and the `CVT_NAME`."
     ]
    },
    {
     "cell_type": "code",
     "collapsed": false,
     "input": [
      "# Set Workspace environment\n",
      "env.workspace = fgdb\n",
      " \n",
      "# Variables\n",
      "fc = \"MCDs\"\n",
      "cvtType = \"CVT_TYPE\"\n",
      "cvtName = \"CVT_NAME\"\n",
      "mapLabelField = \"Map_Label\"\n",
      " \n",
      "# If new field doesn't exist add it\n",
      "if not len(arcpy.ListFields(fc,mapLabelField)) > 0:\n",
      "    # determine the length of the 'CVT_NAME' field\n",
      "    for field in arcpy.ListFields(fc,cvtName):\n",
      "        mapLabelLength = field.length \n",
      "    # Add 'Map_Label' field as a TEXT and width identical to 'CVT_NAME'\n",
      "    arcpy.AddField_management(fc,mapLabelField,\"TEXT\", \"#\", \"#\", mapLabelLength)\n",
      "\n",
      "# Establish UpdateCursor to update 'Map_Label' field\n",
      "with arcpy.da.UpdateCursor(fc, (cvtType, cvtName, mapLabelField)) as cursor:\n",
      "    for row in cursor:\n",
      "        if row[0] == \"T\":\n",
      "            row[2] = \"Town of \" + row[1]\n",
      "        else:\n",
      "            row[2] = \"Village of \" + row[1]\n",
      "        cursor.updateRow(row)\n",
      "    del row, cursor"
     ],
     "language": "python",
     "metadata": {},
     "outputs": []
    },
    {
     "cell_type": "markdown",
     "metadata": {},
     "source": [
      "####<a name=\"Insert_cursors\">6.C. Insert cursors</a>\n",
      "\n",
      "The `InsertCursor` establishes write access on a table or feature class so that new records can be added.  Insert cursors, in their simplest form, are best used with independent tables to add records that are not tied to geometry.  When used with feature class tables, geometry information can be accessed using the `SHAPE@` token, which returns information such as a feature\u2019s X,Y or Z coordinates.\n",
      " \n",
      "A data access search cursor is denoted as `arcpy.da.InsertCursor` and should not be confused with `arcpy.InsertCursor` as the properties and usage are different.\n",
      "\n",
      "Let\u2019s populate the `WaterBody_location` table with the centroids of water bodies from the soils feature class.  We will use a `SearchCursor` to iterate through a tuple of water bodies and their centroids.  An `InsertCursor` will then be used to insert this data into the `WaterBody_location` table.\n",
      "\n",
      "The `SHAPE@XY` token will be used to get simple geometry information.  Keep in mind that the `SHAPE@XY` returns a tuple and the `insertRow` method only takes one argument.\n"
     ]
    },
    {
     "cell_type": "code",
     "collapsed": false,
     "input": [
      "import arcpy\n",
      "\n",
      "# Set Workspace environment\n",
      "env.workspace = fgdb\n",
      "\n",
      "# SQL expression to select all \"W\" polygons\n",
      "expression = arcpy.AddFieldDelimiters('Soils', \"MUSYM\") + \" = 'W'\"\n",
      " \n",
      "# create an InsertCursor to add the OID from the soils fc and the X and Y coordinates from its centroid\n",
      "ic = arcpy.da.InsertCursor('WaterBody_location', ('soils_OID', 'X', 'Y'))\n",
      " \n",
      "# use a searchCursor to get OID and centroid coordinates from 'W' polygons from soils fc\n",
      "with arcpy.da.SearchCursor('Soils', ('OID@','SHAPE@XY'), where_clause=expression) as cursor:\n",
      "    for row in cursor: \n",
      "        # insert a new record into the table.\n",
      "        ic.insertRow((row[0], row[1][0], row[1][1]))\n",
      "# Delete the cursor object\n",
      "del ic"
     ],
     "language": "python",
     "metadata": {},
     "outputs": []
    },
    {
     "cell_type": "markdown",
     "metadata": {},
     "source": [
      "####<a name=\"Exercise_6D\">6.D. Exercise</a>\n",
      "\n",
      "Now that we are experts in the subject of Cursors, let\u2019s complete a simple exercise.  In your file geodatabase you will find a table named `Cursor_Exercise`, which represents the output of the spatial analyst tool Tabulate Area.  The Tabulate Area tool calculates cross-tabulated areas between 2 datasets and outputs a table.  In this case, the tool was executed using the Soils layer and a slope raster that was reclassified into 20 slope groups.  In essence, this table represents the slope composition breakdown of a soils mapunit.\n",
      "\n",
      "Given that the results are the sum of the area of the pixels, analyzing these values is not that intuitive.  In this exercise you will help make the results more user-friendly by converting the values into percentages.  Here are some helpful tips to get you started:\n",
      "\n",
      "* Determine what cursor is best suited for this exercise\n",
      "* Keep in mind that the table contains over 20 fields so creating a list of fields to pass to your cursor would be ideal.  Also, the fields that begin with `Value_` are the fields of interest.\n",
      "* In order to calculate percentage values you will first have to tally up the values from the fields in your table.\n",
      "* Be careful with \u201c0\u201d values.  You don\u2019t want to divide those!"
     ]
    },
    {
     "cell_type": "markdown",
     "metadata": {},
     "source": [
      "####<a name=\"Creating_custom_geoprocessing_tools\">7. Creating custom geoprocessing tools</a>\n",
      "Creating a script tool that you can access from ArcToolbox will allow you to turn your own Python scripts and functionality into your own geoprocessing tools.  These tools will look and act like system geoprocessing tools and once created can have many benefits such as:\n",
      "\n",
      "* You can open it from the Search or Catalog window, use it in Model Builder and the Python window or call it from another script.\n",
      "* You can write messages to the Results window and progress dialog box\n",
      "* You can provide documentation about the tool\u2019s functionality and arguments using the built-in documentation tools.\n",
      "* Your tool will have a familiar and easy to use interface which will make your tool easy to transfer\n",
      "\n",
      "The script tool framework was introduced in ArcGIS 9.0 and was geared toward creating custom Python-based tools.  However, this framework is actually segregated into many parts which make it somewhat inefficient.  That is, in the script tool framework:\n",
      "\n",
      "* You create a toolbox made up of parameters using the Add Script wizard.\n",
      "* You can create validation code that lives in the toolbox to implement a certain behavior for your script tool dialog box.\n",
      "* The source python script is created and maintained separately.\n",
      "\n",
      "In ArcGIS 10.1, there are two ways of creating your own geoprocessing tools with Python: script tools in custom toolboxes <img src=\"https://dl.dropboxusercontent.com/u/17521862/etc/arctoolbox.png\"> and script tools in Python toolboxes <img src=\"https://dl.dropboxusercontent.com/u/17521862/etc/arctoolboxScript.png\">.  For this workshop, we will work with custom toolboxes.  For more information on the differences between custom toolboxes and Python toolboxes visit the ArcGIS Resource <http://resources.arcgis.com/en/help/main/10.1/index.html#//00150000002r000000>.\n",
      "\n",
      "You can only create a script tool within a custom toolbox and not a system toolbox.  In order to create a custom toolbox, rt-click in the white-space of your ArcToolbox and click **Add Toolbox**.  Select location to store your new toolbox in the form of a .tbx file and click on the **New Toolbox** icon <img src=\"https://dl.dropboxusercontent.com/u/17521862/etc/arctoolbox.png\"> and give your new toolbox and intuitive name.  Now that you have your new Toolbox you can create a script tool by rt-clicking your new toolbox, and click **Add > Script**.  This will open the Add Script wizard which takes you step by step through the process of creating a script tool.  You can always modify the properties names and data types of this script tool by right-clicking the script tool and choosing **Properties**.\n",
      "\n",
      "####<a name=\"Exercise_7A\">7.A. Exercise</a>\n",
      "\n",
      "In your home directory is a custom tool that needs an interface completed before you can distribute it to your field users.  This tool is designed to buffer feature classes that are within a given workspace at a user-specified distance.  The user can also specify whether to apply a buffer only to feature classes of a given geometry.  Add the CustomBufferTool.py script to your python environment and study the script to determine what types of arguments should be passed to the script."
     ]
    },
    {
     "cell_type": "markdown",
     "metadata": {},
     "source": [
      "####<a name=\"Automated_analytical_graphics\">8.D. Automated analytical graphics</a>\n",
      "\n",
      "ESRI is making a very good decision by moving boldly forward with Python. As a data scientist, I have often lamented that ESRI had poor integration with other analytical tools. While ESRI has been building better bindings with Python, Python has been building better analytical tools such as [numpy](http://www.numpy.org/), [scipy](http://www.scipy.org/), [matplotlib](http://matplotlib.org/), and my personal favorite although it's not included in the ArcGIS distribution of Python, [pandas](http://pandas.pydata.org/). Although I don't expect many of you to fully understand the following code completely, I thought I'd add it to the end of the module to give you a simple example of how you can combine ArcGIS with Python's emerging analytical tools."
     ]
    },
    {
     "cell_type": "code",
     "collapsed": false,
     "input": [
      "%matplotlib inline\n",
      "import matplotlib.pyplot as plt\n",
      "from matplotlib.backends.backend_pdf import PdfPages\n",
      "outPdf = wd + '/elevationHistograms.pdf'\n",
      "pp = PdfPages(outPdf)\n",
      "\n",
      "# First, create the Sections layer\n",
      "if not arcpy.Exists('Sections_layer'):\n",
      "    arcpy.MakeFeatureLayer_management('Sections', 'Sections_layer')\n",
      "for i in range(25,28):\n",
      "    # Select a Section\n",
      "    arcpy.SelectLayerByAttribute_management('Sections_layer', 'NEW_SELECTION', '\"OBJECTID\" = ' + str(i))\n",
      "    # Define an output for the clipped raster, then clip\n",
      "    clip_raster = fgdb + '/DEM30m_' + str(i)\n",
      "    arcpy.Clip_management('DEM30m', '', clip_raster, 'Sections_layer', '', 'ClippingGeometry')\n",
      "    # Pull out all data values as an array and clipped raster\n",
      "    raster_vals = arcpy.RasterToNumPyArray(clip_raster).reshape(-1)\n",
      "    arcpy.Delete_management(clip_raster)\n",
      "    # Toss out any NoData values\n",
      "    raster_vals = raster_vals[np.where(raster_vals > 0)]\n",
      "    # Plot a histogram\n",
      "    plt.figure()\n",
      "    plt.hist(raster_vals, color = '#fdbf6f')\n",
      "    plt.xlabel('Elevation (m)')\n",
      "    plt.ylabel('# of pixels')\n",
      "    plt.title('Elevation histogram within OBJECTID = ' + str(i))\n",
      "    plt.savefig(pp, format='pdf')\n",
      "pp.close()"
     ],
     "language": "python",
     "metadata": {},
     "outputs": []
    },
    {
     "cell_type": "markdown",
     "metadata": {},
     "source": [
      "###<a name=\"Conclusion\">Conclusion</a>\n",
      "\n",
      "The whole idea with combining Python and ArcGIS is to make you more efficient and expand your GIS capacity. Python is a tool--like any other tool, it only helps you if the tool is appropriate for the job. Sometimes it makes sense to do something by hand, and other times it makes sense to create a script. For instance, if you'll be doing generally the same task many times over the course of your lifetime. Here's a handy graphic from the fantastic comic, [xkcd.com](http://xkcd.com), to remind you of this concept: \n",
      "</br>\n",
      "</br>\n",
      "</br>\n",
      "![](http://imgs.xkcd.com/comics/is_it_worth_the_time.png)"
     ]
    },
    {
     "cell_type": "markdown",
     "metadata": {},
     "source": [
      "###<a name=\"Resources\">Resources</a>\n",
      "\n",
      "####Online:\n",
      "\n",
      "ESRI Python Resources: <http://resources.arcgis.com/en/communities/python/>\n",
      "\n",
      "Python Documentation: <http://python.org>\n",
      "\n",
      "Penn State Class: <https://www.e-education.psu.edu/geog485/book/export>\n",
      "\n",
      "GIS Stack Exchange: <http://gis.stackexchange.com/>\n",
      "\n",
      "Blog: <http://pythongisandstuff.wordpress.com/category/arcgis/arcpy/>\n",
      "\n",
      "####Books:\n",
      "\n",
      "*Recommended:* Zandbergen, Paul A. 2013.  Python Scripting for ArcGIS.  ESRI Press.\n",
      "\n",
      "Pimpler, Eric.  2013. Programming ArcGIS 10.1 with Python Cookbook.  PacktPublishing.\n",
      "\n",
      "Free Book: Think Python.  <http://www.greenteapress.com/thinkpython/>\n"
     ]
    }
   ],
   "metadata": {}
  }
 ]
}