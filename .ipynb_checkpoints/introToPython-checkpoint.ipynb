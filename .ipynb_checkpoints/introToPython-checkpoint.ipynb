{
 "metadata": {
  "name": "",
  "signature": "sha256:08104c13f869c8c8740ccb6cd1b7bc98df745d878193776cdf5a5e6e879b3b50"
 },
 "nbformat": 3,
 "nbformat_minor": 0,
 "worksheets": [
  {
   "cells": [
    {
     "cell_type": "markdown",
     "metadata": {
      "slideshow": {
       "slide_type": "slide"
      }
     },
     "source": [
      "Introduction to Python for ArcGIS 10.x\n",
      "============================\n",
      "----------------------------\n",
      "##Instructors:\n",
      ">Aaron Ruesch, water resources management specialist<br/>\n",
      ">WDNR Water Division<br/>\n",
      "><Aaron.Ruesch@wi.gov><br/>\n",
      "\n",
      ">Dave Evans, water quality management specialist,<br/>\n",
      ">WDNR Water Division<br/>\n",
      "><DavidM.Evans@wi.gov><br/>\n",
      "\n",
      ">Alison Mynsberge, GIS analyst<br/>\n",
      ">Department of Agriculture, Trade, & Consumer Protection<br/>\n",
      "><Alison.Mynsberge@wi.gov><br/>"
     ]
    },
    {
     "cell_type": "markdown",
     "metadata": {},
     "source": [
      "![](http://2.bp.blogspot.com/-C5yU0U56ZpI/TWM4xczoLPI/AAAAAAAAAMM/0adig1lZsa0/s1600/python.jpg)"
     ]
    },
    {
     "cell_type": "markdown",
     "metadata": {},
     "source": [
      "###Syllabus\n",
      "\n",
      "1. [Workshop goals and setup](#Workshop_goals_and_setup)\n",
      "1. [Python background](#Python_background)\n",
      "1. [Python 101](#Python_101)\n",
      "1. [Functional syntax and basic geoprocessing (*45 min.*)](#Functional_syntax_and_basic_geoprocessing)\n",
      "    1. [Looping](#Looping)\n",
      "    1. [Manipulation of strings](#Manipulation_of_strings)\n",
      "    1. [Manipulation of paths](#Manipulation_of_paths)\n",
      "    1. [Looping through paths to automate a task](#Looping_through_paths_to_automate_a_task)\n",
      "    1. [Exercise](#Exercise_4E)\n",
      "1. [Creating custom geoprocessing tools (*15 min.*)](#Creating_custom_geoprocessing_tools)\n",
      "    1. [Exercise](#Exercise_7A)\n",
      "1. [Exploring arcpy \"objects\" (*45 min.*)](#Exploring_arcpy_objects)\n",
      "    1. [The `arcpy.Describe` object](#The_arcpy_Describe_object)\n",
      "    1. [Using the `arcpy.Describe` object to inform geoprocessing](#Using_the_arcpy_Describe_object_to_inform_geoprocessing)\n",
      "    1. [Exercise](#Exercise_5C)\n",
      "1. [Python for mapping and graphics: examples (*45 min.*)](#Python_mapping_and_graphics_examples)\n",
      "    1. [Everyday uses of Python in ArcMap](#Daily_ArcMap_Python)\n",
      "    1. [Using the `arcpy.mapping` module](#Using_the_arcpy_mapping_module)\n",
      "    1. [The `arcpy.mapping` module in context](#The_arcpy_mapping_module_in_context)\n",
      "    1. [Exercise](#Exercise_8C)\n",
      "1. [Basic database management (*30 min.*)](#Database_management)\n",
      "1. [Cursors (*45 min.*)](#Cursors)\n",
      "    1. [Search cursors](#Search_cursors)\n",
      "    1. [Update cursors](#Update_cursors)\n",
      "    1. [Insert cursors](#Insert_cursors)\n",
      "    1. [Exercise](#Exercise_6D)\n",
      "1. [Conclusion](#Conclusion)\n",
      "1. [Resources](#Resources)"
     ]
    },
    {
     "cell_type": "markdown",
     "metadata": {},
     "source": [
      "###<a name=\"Workshop_goals_and_setup\">1. Workshop goals and setup</a>\n",
      "\n",
      "* To introduce Python programming concepts and syntax.\n",
      "* To provide practical, hands-on experience with Python tools and applications in ArcGIS 10.\n",
      "* To help you get started with using Python on the job.\n",
      "\n",
      "####<a name=\"Main_Topics\">1.A. Main Topics</a>\n",
      "\n",
      "* Python 101:  Basic syntax and `arcpy` module\n",
      "* Functional syntax and basic geoprocessing\n",
      "* `arcpy` \"objects\"\n",
      "* Cursors\n",
      "* Automated mapping and graphics\n",
      "\n",
      "####<a name=\"Setup\">1.B. Setup</a>\n",
      "\n",
      "Open a Python window and copy the following code replacing the path with the location where you saved the data:\n",
      "\n",
      "```python\n",
      "fgdb = 'C:/Users/ruesca/WLIA_pythonclass_data.gdb\n",
      "```"
     ]
    },
    {
     "cell_type": "markdown",
     "metadata": {},
     "source": [
      "###<a name=\"Python_background\">2. Python background</a>\n",
      "\n",
      "####<a name=\"Python_characteristics\">2.A. Python characteristics</a>\n",
      "\n",
      "* Free and Open source software\n",
      "* Has simple and readable syntax \n",
      "* Cross platform compatible (Windows, Mac, Linux)\n",
      "* Does not need to be compiled\n",
      "* In the top 10 of most popular programming languages\n",
      "* Named after Monty Python\u2019s Flying Circus.\n",
      "\n",
      "####<a name=\"Applications_of_Python_in_ArcGIS\">2.B. Applications of Python in ArcGIS</a>\n",
      "\n",
      "* Automation of repeated processes to improve efficiency and quality.\n",
      "* Extend and customize ArcGIS methods.\n",
      "* Other reasons to use Python?\n",
      "\n",
      "####<a name=\"Using_Python_in_ArcGIS\">2.C. Using Python in ArcGIS</a>\n",
      "\n",
      "* ArcGIS 10 uses Python 2.7.  \n",
      "* Python 3.3 is available, but it is not compatible with ArcGIS.\n",
      "* Python may be used in ArcGIS from the Python window.  It is a good tool for testing and experimenting with code.\n",
      " \n",
      "> **Note:** We will also take a look at Python IDEs (Integrated Development Environments).  IDEs are useful form for more complex coding and debugging.  Many free IDEs exists such as PythonWin, PyScripter, Aptana Studio, Eclipse, and Notepad++.\n",
      "\n",
      "###<a name=\"Python_101\">3. Python 101</a>\n",
      "\n",
      "####<a name=\"Objectives\">3.A. Objectives:</a>\n",
      "You will learn Python syntax for:\n",
      "\n",
      "* Variables\n",
      "* Logic testing\n",
      "* Importing modules\n",
      "* `for` loops\n",
      "\n",
      "####<a name=\"Python_syntax_tips\">3.B. Python syntax tips:</a>\n",
      "\n",
      "* Python is case sensitive\n",
      "* Indentation determines program flow\n",
      "* For path names, use forward-slash separator (e.g., `C:/temp/parcels.shp`)\n",
      "\n",
      "####<a name=\"Variables_name_that_refers_to_a_value\">3.C. Variables&mdash;name that refers to a value</a>\n",
      "\n",
      "Examples:\n",
      "\n",
      "```python\n",
      "x = 'Jack Dangermond is God'\n",
      "bufferDistance = 50\n",
      "input_data = 'C:/temp/parcels'\n",
      "```\n",
      "\n",
      "####<a name=\"Logic_testing_with_if_else_statements\">3.D.  Logic testing with `if`, `else` statements</a>\n",
      "\n",
      "* Use a colon at the end of each condition\n",
      "* `==` tests equality\n",
      "\n",
      "Example:\n",
      "\n",
      "```python\n",
      "lunch = 'Tacos'\n",
      "if lunch == 'Tacos':\n",
      "    # comment execute indented lines\n",
      "    print ('We will have a taco bar for lunch')\n",
      "else:\n",
      "\tprint ('Sorry, no tacos for lunch')\n",
      "```\n",
      "\n",
      "####<a name=\"Modules\">3.E. Modules</a>\n",
      "\n",
      "* Similar idea to ArcGIS extensions\n",
      "* Usually declared on top of the program.\n",
      "* Import `arcpy` statement to enable the ArcGIS module\n",
      "* 100s of modules exist to support a wide variety of Python applications."
     ]
    },
    {
     "cell_type": "markdown",
     "metadata": {},
     "source": [
      "###<a name=\"Functional_syntax_and_basic_geoprocessing\">4. Functional syntax and basic geoprocessing</a>\n",
      "\n",
      "####<a name=\"Looping\">4.A. Looping</a>\n",
      "\n",
      "There are multiple ways to loop in Python, however we are going to focus on the `for` loop, which is the most common, and arguably most useful. `for` loops use \"iterators.\" A `for` loop will iterate through each item of the iterator, one-by-one. Iterators can be a variety of data types."
     ]
    },
    {
     "cell_type": "code",
     "collapsed": false,
     "input": [
      "# A loop.\n",
      "list_iterator = [1,2,3] # Brackets denote a list.\n",
      "\n",
      "for i in list_iterator:\n",
      "    print (i)"
     ],
     "language": "python",
     "metadata": {},
     "outputs": [
      {
       "output_type": "stream",
       "stream": "stdout",
       "text": [
        "1\n",
        "2\n",
        "3\n"
       ]
      }
     ],
     "prompt_number": 1
    },
    {
     "cell_type": "code",
     "collapsed": false,
     "input": [
      "tuple_iterator = (1,2,3) # Parentheses denote a tuple.\n",
      "\n",
      "for i in tuple_iterator:\n",
      "    print (i)"
     ],
     "language": "python",
     "metadata": {},
     "outputs": [
      {
       "output_type": "stream",
       "stream": "stdout",
       "text": [
        "1\n",
        "2\n",
        "3\n"
       ]
      }
     ],
     "prompt_number": 6
    },
    {
     "cell_type": "code",
     "collapsed": false,
     "input": [
      "dictionary_iterator = {'a':1, 'b':2, 'c':3} # Curly brackets denote a dictionary.\n",
      "\n",
      "print(\"Iterate through dictionary *keys*\")\n",
      "for i in dictionary_iterator:\n",
      "    print (i)\n",
      "\n",
      "print(\"Iterate through dictionary *values*\")\n",
      "for i in dictionary_iterator.values():\n",
      "    print (i)"
     ],
     "language": "python",
     "metadata": {},
     "outputs": [
      {
       "output_type": "stream",
       "stream": "stdout",
       "text": [
        "Iterate through dictionary *keys*\n",
        "c\n",
        "b\n",
        "a\n",
        "Iterate through dictionary *values*\n",
        "3\n",
        "2\n",
        "1\n"
       ]
      }
     ],
     "prompt_number": 5
    },
    {
     "cell_type": "markdown",
     "metadata": {},
     "source": [
      "####<a name=\"Manipulation_of_strings\">4.B. Manipulation of strings</a>"
     ]
    },
    {
     "cell_type": "markdown",
     "metadata": {},
     "source": [
      "Use the '+' operator to concatenate strings."
     ]
    },
    {
     "cell_type": "code",
     "collapsed": false,
     "input": [
      "for i in dictionary_iterator:\n",
      "    print (i + ' is the string being used in this iteration')"
     ],
     "language": "python",
     "metadata": {},
     "outputs": [
      {
       "output_type": "stream",
       "stream": "stdout",
       "text": [
        "c is the string being used in this iteration\n",
        "b is the string being used in this iteration\n",
        "a is the string being used in this iteration\n"
       ]
      }
     ],
     "prompt_number": 6
    },
    {
     "cell_type": "markdown",
     "metadata": {},
     "source": [
      "That looks a little funny grammatically. Maybe we want to put the iterator value in quotes for emphasis. However, in order to do that, we will need to use quotes within quotes."
     ]
    },
    {
     "cell_type": "markdown",
     "metadata": {},
     "source": [
      "We need to communicate this to Python by using both single and double quotes."
     ]
    },
    {
     "cell_type": "code",
     "collapsed": false,
     "input": [
      "print ('\"a\" is a letter of the alphabet')"
     ],
     "language": "python",
     "metadata": {},
     "outputs": [
      {
       "output_type": "stream",
       "stream": "stdout",
       "text": [
        "\"a\" is a letter of the alphabet\n"
       ]
      }
     ],
     "prompt_number": 10
    },
    {
     "cell_type": "markdown",
     "metadata": {},
     "source": [
      "Alternatively, we can use the backslash as an escape character to communicate to Python that the quotes should be treated as literal. This in fact will allow us to use both single and double quotes within a string, which will become important as you'll see later in this module."
     ]
    },
    {
     "cell_type": "code",
     "collapsed": false,
     "input": [
      "print ('\"a\" is a \\'letter\\' of the alphabet')"
     ],
     "language": "python",
     "metadata": {},
     "outputs": [
      {
       "output_type": "stream",
       "stream": "stdout",
       "text": [
        "\"a\" is a 'letter' of the alphabet\n"
       ]
      }
     ],
     "prompt_number": 7
    },
    {
     "cell_type": "markdown",
     "metadata": {},
     "source": [
      "####<a name=\"Manipulation_of_paths\">4.C. Manipulation of paths</a>\n",
      "\n",
      "Concatenation of strings becomes extremely important when defining **file paths**."
     ]
    },
    {
     "cell_type": "code",
     "collapsed": false,
     "input": [
      "# Replace ruesca with your username\n",
      "home = 'C:/Users/ruesca'\n",
      "#fgdb = home + '/WLIA_2014/WLIA_pythonclass_data.gdb'\n",
      "fgdb = r\"C:\\Users\\sc\\Documents\\Test_IPYTHON\\WLIA_pythonclass_data\\WLIA_pythonclass_data.gdb\"\n",
      "print (fgdb)"
     ],
     "language": "python",
     "metadata": {},
     "outputs": [
      {
       "output_type": "stream",
       "stream": "stdout",
       "text": [
        "C:\\Users\\sc\\Documents\\Test_IPYTHON\\WLIA_pythonclass_data\\WLIA_pythonclass_data.gdb\n"
       ]
      }
     ],
     "prompt_number": 4
    },
    {
     "cell_type": "markdown",
     "metadata": {},
     "source": [
      ">**Note:** There is an important distinction between forward and backslashes. Windows is the only system that uses backslashes in path definition. Most everything else (e.g., Mac, *nix) use forward slashes according to POSIX standard. Because Python was originally written to be POSIX-compliant, it uses forward slashes natively. To use a backslash in a string, use two backslashes."
     ]
    },
    {
     "cell_type": "markdown",
     "metadata": {},
     "source": [
      "Or, you can create a \"raw\" string that treats every character as literal. Many ArcGIS users (ergo Windows users) make this a habit when dealing with file paths."
     ]
    },
    {
     "cell_type": "code",
     "collapsed": false,
     "input": [
      "windowsPath = r'C:\\Users\\ruesca'\n",
      "print (windowsPath)"
     ],
     "language": "python",
     "metadata": {},
     "outputs": [
      {
       "output_type": "stream",
       "stream": "stdout",
       "text": [
        "C:\\Users\\ruesca\n"
       ]
      }
     ],
     "prompt_number": 7
    },
    {
     "cell_type": "markdown",
     "metadata": {},
     "source": [
      "If the `r` is not placed in front of the string, Python will interpret your string in very strange ways."
     ]
    },
    {
     "cell_type": "markdown",
     "metadata": {},
     "source": [
      "####<a name=\"Looping_through_paths_to_automate_a_task\">4.D. Looping through paths to automate a task</a>"
     ]
    },
    {
     "cell_type": "markdown",
     "metadata": {},
     "source": [
      "First, let's try using the `env` module, which is a sub-module of `arcpy`. The `env` module contains all functionality that you would normally find in the 'Environment settings' of a geoprocessing tool, and then some.<a name=\"loopingExample\"></a>"
     ]
    },
    {
     "cell_type": "code",
     "collapsed": false,
     "input": [
      "import arcpy\n",
      "# To use the env module, we can use dot notation to access embedded objects\n",
      "print (arcpy.env.workspace)"
     ],
     "language": "python",
     "metadata": {},
     "outputs": [
      {
       "output_type": "stream",
       "stream": "stdout",
       "text": [
        "None\n"
       ]
      }
     ],
     "prompt_number": 6
    },
    {
     "cell_type": "code",
     "collapsed": false,
     "input": [
      "# Set the workspace environment variable to the workshop geodatabase.\n",
      "# This will give us access to its datasets without having to define the full path\n",
      "arcpy.env.workspace = fgdb\n",
      "\n",
      "# List the datasets in the geodatabase\n",
      "feature_classes = arcpy.ListFeatureClasses()\n",
      "print ('Feature classes: ' + str(feature_classes))\n",
      "rasters = arcpy.ListRasters()\n",
      "print ('Rasters: ' + str(rasters))"
     ],
     "language": "python",
     "metadata": {},
     "outputs": [
      {
       "output_type": "stream",
       "stream": "stdout",
       "text": [
        "Feature classes: [u'Roads_Census2k', u'Sections', u'QSections', u'OpenWater', u'MCDs', u'Soils', u'simplified_roads', u'simplified_roads_Pnt', u'Roads_Census2k_buffer_loop', u'Sections_buffer_loop', u'QSections_buffer_loop', u'OpenWater_buffer_loop', u'MCDs_buffer_loop', u'Soils_buffer_loop']\n",
        "Rasters: [u'DEM30m']"
       ]
      },
      {
       "output_type": "stream",
       "stream": "stdout",
       "text": [
        "\n"
       ]
      }
     ],
     "prompt_number": 7
    },
    {
     "cell_type": "markdown",
     "metadata": {},
     "source": [
      ">**Note:** the 'u' in front of each string denotes that that string is a [unicode](http://en.wikipedia.org/wiki/Unicode) type string. This just tells the computer to handle the text in a specific way. For most purposes outside of advanced text handling, this definition is unimportant. "
     ]
    },
    {
     "cell_type": "markdown",
     "metadata": {},
     "source": [
      "We can also concatenate lists using the `+` operator. This will append an additional item to a list."
     ]
    },
    {
     "cell_type": "code",
     "collapsed": false,
     "input": [
      "# Let's create a complete list of all our data, both feature classes and rasters.\n",
      "alldata = feature_classes + rasters\n",
      "print (alldata)"
     ],
     "language": "python",
     "metadata": {},
     "outputs": [
      {
       "output_type": "stream",
       "stream": "stdout",
       "text": [
        "[u'Roads_Census2k', u'Sections', u'QSections', u'OpenWater', u'MCDs', u'Soils', u'simplified_roads', u'simplified_roads_Pnt', u'Roads_Census2k_buffer_loop', u'Sections_buffer_loop', u'QSections_buffer_loop', u'OpenWater_buffer_loop', u'MCDs_buffer_loop', u'Soils_buffer_loop', u'DEM30m']\n"
       ]
      }
     ],
     "prompt_number": 8
    },
    {
     "cell_type": "markdown",
     "metadata": {},
     "source": [
      "Let's try a single geoprocessing task before we get too fancy."
     ]
    },
    {
     "cell_type": "code",
     "collapsed": false,
     "input": [
      "# Pull the 0th (i.e., Pythonic \"first\") element out of the list of feature classes\n",
      "roads = feature_classes[0]\n",
      "# Define an output path in the file geodatabase\n",
      "simplified_roads = fgdb + '/simplified_roads'\n",
      "arcpy.SimplifyLine_cartography(roads, simplified_roads, \"POINT_REMOVE\", 50)"
     ],
     "language": "python",
     "metadata": {},
     "outputs": [
      {
       "metadata": {},
       "output_type": "pyout",
       "prompt_number": 14,
       "text": [
        "<Result 'C:\\\\Users\\\\sc\\\\Documents\\\\Test_IPYTHON\\\\WLIA_pythonclass_data\\\\WLIA_pythonclass_data.gdb\\\\simplified_roads'>"
       ]
      }
     ],
     "prompt_number": 14
    },
    {
     "cell_type": "markdown",
     "metadata": {},
     "source": [
      "Now let's get a little fancier. Let's automate a common GIS task--creating buffers around features. If we wanted to create buffers for just one feature class or raster, the code would like this:"
     ]
    },
    {
     "cell_type": "code",
     "collapsed": false,
     "input": [
      "# First we define an output name\n",
      "output_roads = roads + '_prj'\n",
      "# And a distance with units\n",
      "d = '100 meters'\n",
      "arcpy.Buffer_analysis(roads, output_roads, d)"
     ],
     "language": "python",
     "metadata": {},
     "outputs": [
      {
       "metadata": {},
       "output_type": "pyout",
       "prompt_number": 8,
       "text": [
        "<Result 'C:/Users/ruesca/WLIA_2014/WLIA_pythonclass_data.gdb\\\\Roads_Census2k_prj'>"
       ]
      }
     ],
     "prompt_number": 8
    },
    {
     "cell_type": "markdown",
     "metadata": {},
     "source": [
      "If we want to automate this task for many feature classes, we have to embed the projection function within a loop."
     ]
    },
    {
     "cell_type": "code",
     "collapsed": false,
     "input": [
      "# Again, we define our distance\n",
      "# Note that we can define this outside the loop\n",
      "# Anything that does not need to iterate can be placed outside the loop\n",
      "d = '100 meters'\n",
      "for fc in alldata:\n",
      "    # Then we define an output that is relative to the iterator\n",
      "    output = fc + '_buffer_loop'\n",
      "    print (output)\n",
      "    arcpy.Buffer_analysis(fc, output, d)"
     ],
     "language": "python",
     "metadata": {},
     "outputs": [
      {
       "output_type": "stream",
       "stream": "stdout",
       "text": [
        "Roads_Census2k_buffer_loop\n",
        "Sections_buffer_loop"
       ]
      },
      {
       "output_type": "stream",
       "stream": "stdout",
       "text": [
        "\n",
        "QSections_buffer_loop"
       ]
      },
      {
       "output_type": "stream",
       "stream": "stdout",
       "text": [
        "\n",
        "OpenWater_buffer_loop"
       ]
      },
      {
       "output_type": "stream",
       "stream": "stdout",
       "text": [
        "\n",
        "MCDs_buffer_loop"
       ]
      },
      {
       "output_type": "stream",
       "stream": "stdout",
       "text": [
        "\n",
        "Soils_buffer_loop"
       ]
      },
      {
       "output_type": "stream",
       "stream": "stdout",
       "text": [
        "\n",
        "DEM30m_buffer_loop"
       ]
      },
      {
       "output_type": "stream",
       "stream": "stdout",
       "text": [
        "\n"
       ]
      },
      {
       "ename": "ExecuteError",
       "evalue": "Failed to execute. Parameters are not valid.\nERROR 000732: Input Features: Dataset DEM30m does not exist or is not supported\nFailed to execute (Buffer).\n",
       "output_type": "pyerr",
       "traceback": [
        "\u001b[1;31m---------------------------------------------------------------------------\u001b[0m\n\u001b[1;31mExecuteError\u001b[0m                              Traceback (most recent call last)",
        "\u001b[1;32m<ipython-input-15-ac9520ed4fe0>\u001b[0m in \u001b[0;36m<module>\u001b[1;34m()\u001b[0m\n\u001b[0;32m      7\u001b[0m     \u001b[0moutput\u001b[0m \u001b[1;33m=\u001b[0m \u001b[0mfc\u001b[0m \u001b[1;33m+\u001b[0m \u001b[1;34m'_buffer_loop'\u001b[0m\u001b[1;33m\u001b[0m\u001b[0m\n\u001b[0;32m      8\u001b[0m     \u001b[1;32mprint\u001b[0m \u001b[1;33m(\u001b[0m\u001b[0moutput\u001b[0m\u001b[1;33m)\u001b[0m\u001b[1;33m\u001b[0m\u001b[0m\n\u001b[1;32m----> 9\u001b[1;33m     \u001b[0marcpy\u001b[0m\u001b[1;33m.\u001b[0m\u001b[0mBuffer_analysis\u001b[0m\u001b[1;33m(\u001b[0m\u001b[0mfc\u001b[0m\u001b[1;33m,\u001b[0m \u001b[0moutput\u001b[0m\u001b[1;33m,\u001b[0m \u001b[0md\u001b[0m\u001b[1;33m)\u001b[0m\u001b[1;33m\u001b[0m\u001b[0m\n\u001b[0m",
        "\u001b[1;32mC:\\Program Files (x86)\\ArcGIS\\Desktop10.2\\arcpy\\arcpy\\analysis.py\u001b[0m in \u001b[0;36mBuffer\u001b[1;34m(in_features, out_feature_class, buffer_distance_or_field, line_side, line_end_type, dissolve_option, dissolve_field)\u001b[0m\n\u001b[0;32m    665\u001b[0m         \u001b[1;32mreturn\u001b[0m \u001b[0mretval\u001b[0m\u001b[1;33m\u001b[0m\u001b[0m\n\u001b[0;32m    666\u001b[0m     \u001b[1;32mexcept\u001b[0m \u001b[0mException\u001b[0m\u001b[1;33m,\u001b[0m \u001b[0me\u001b[0m\u001b[1;33m:\u001b[0m\u001b[1;33m\u001b[0m\u001b[0m\n\u001b[1;32m--> 667\u001b[1;33m         \u001b[1;32mraise\u001b[0m \u001b[0me\u001b[0m\u001b[1;33m\u001b[0m\u001b[0m\n\u001b[0m\u001b[0;32m    668\u001b[0m \u001b[1;33m\u001b[0m\u001b[0m\n\u001b[0;32m    669\u001b[0m \u001b[1;33m@\u001b[0m\u001b[0mgptooldoc\u001b[0m\u001b[1;33m(\u001b[0m\u001b[1;34m'CreateThiessenPolygons_analysis'\u001b[0m\u001b[1;33m,\u001b[0m \u001b[0mNone\u001b[0m\u001b[1;33m)\u001b[0m\u001b[1;33m\u001b[0m\u001b[0m\n",
        "\u001b[1;31mExecuteError\u001b[0m: Failed to execute. Parameters are not valid.\nERROR 000732: Input Features: Dataset DEM30m does not exist or is not supported\nFailed to execute (Buffer).\n"
       ]
      }
     ],
     "prompt_number": 15
    },
    {
     "cell_type": "markdown",
     "metadata": {},
     "source": [
      "Oops! We tried to use the `arcpy.Project_management` tool to clip a raster. Well, it almost worked. You'll find most of the data to be projected properly, except for the raster. One way to fix it so the whole thing runs, raster or feature class, is to run the raster project tool for rasters and the generic project tool for feature classes. To do this, we'll have to query the properties for each feature class or raster, create an `if/else` statement, and run the raster project tool for the DEM30m dataset, all of which we will cover in the next submodule."
     ]
    },
    {
     "cell_type": "markdown",
     "metadata": {},
     "source": [
      "####<a name=\"Exercise_4E\">4.E. Exercise</a>\n",
      "\n",
      "* The purpose of this exercise will be to convert feature classes in the example file geodatabase to shapefiles. Use [this code](#loopingExample) as a starting point.\n",
      "    * Open ArcMap and create a new map document.  Add all of the layers  in the file geodatabase for this class.\n",
      "    * Open the Python Window \n",
      "    * Set the workspace environment \n",
      "    * Create a list of feature classes\n",
      "    * Write a for loop to iterate through the feature classes\n",
      "    * Use the ArcGIS online help to look up `FeatureClasstoShapefile_conversion`. Save the output in the working directory, variable `wd`:\n",
      "\n",
      "```python\n",
      "for fc in feature_classes:\n",
      "    arcpy.FeatureClassToShapefile_conversion(fc, out_filename)\n",
      "```\n",
      "\n",
      "##### Answer:\n",
      "\n",
      "This script copies all feature classes from a workspace into a file geodatabase. For more info, see <http://resources.arcgis.com/en/help/main/10.1/index.html#//001700000035000000>\n"
     ]
    },
    {
     "cell_type": "code",
     "collapsed": false,
     "input": [
      "import arcpy\n",
      "import os\n",
      "\n",
      "#set the workspace\n",
      "from arcpy import env\n",
      "env.workspace = fgdb\n",
      "\n",
      "# Create a list of feature classes in the current workspace\n",
      "fclist = arcpy.ListFeatureClasses()\n",
      "\n",
      "# Copy each feature class to a file geodatabase \u2013 keep the same name, but use the \n",
      "# basename property to remove any file extensions including .shp\n",
      "for fc in fclist:\n",
      "    arcpy.FeatureClassToShapefile_conversion(fc, fc + '_copy')"
     ],
     "language": "python",
     "metadata": {},
     "outputs": [],
     "prompt_number": 30
    },
    {
     "cell_type": "markdown",
     "metadata": {},
     "source": [
      "###<a name=\"Exploring_arcpy_objects\">5. Exploring `arcpy` \"objects\"</a>\n",
      "#Objects & Methods\n",
      " * You don't need to fully understand what is meant by \"object-oriented\" programming to use Python effectively. \n",
      " * Think of an **object** as a generic **container** for data and functionality. The data and functionality contained within an object can be accessed using dot notation.  The notation follows the hierarchy of the embedded content. For example, given a variable `var`, you can access an embedded object using a dot followed by the object name, `var.object`. These hierarchies can have any number of nested objects (e.g., `var.object1.object2.object3`).\n",
      "```python\n",
      "myint = 34\n",
      "myint.real\t#the \"real\" portion of the number is 34 \n",
      "#Try typing out \u201cmyint\u201d, then hitting the \u201c.\u201d key to show objects.\n",
      "print(myint.imag)\t#There is no imaginary portion of the number\n",
      "```\n",
      "* **Methods** are **functions** that operate in a way specific to an object.  They must be followed by parentheses ().  \n",
      "* Let\u2019s review a method you\u2019ve already seen! \n",
      "```python\n",
      "cntyname=\"Dane County\"\n",
      "cntyname.replace(\" County\",\"\") #\"replace\" operates on string objects.\n",
      "#Hint: hit the Tab key after typing the dot to see a list of methods\n",
      "```\n",
      " * And some new ones\n",
      "```python\n",
      "mylist=[4,2,1,7]\n",
      "mylist.sort()\n",
      "print(mylist)\n",
      "```\n",
      "\n",
      "The best way to do to explore an object is to first assign the object to a variable. To illustrate these concepts, we're going to look at arcpy's `Describe` object (<http://resources.arcgis.com/en/help/main/10.1/index.html#//018v00000066000000>), one of ESRI's more useful implementations of the Python object."
     ]
    },
    {
     "cell_type": "code",
     "collapsed": false,
     "input": [
      "desc = arcpy.Describe(roads)\n",
      "print desc.name\n",
      "print desc.dataType\n",
      "print desc.shapeType"
     ],
     "language": "python",
     "metadata": {},
     "outputs": [
      {
       "output_type": "stream",
       "stream": "stdout",
       "text": [
        "Roads_Census2k\n",
        "FeatureClass\n",
        "Polyline\n"
       ]
      }
     ],
     "prompt_number": 16
    },
    {
     "cell_type": "markdown",
     "metadata": {},
     "source": [
      "Given the second piece of information above, the **dataType**, we can complete our clipping script for Cross Plains."
     ]
    },
    {
     "cell_type": "code",
     "collapsed": false,
     "input": [
      "# Let's take a look at the dataType of each set of data\n",
      "for fc in alldata:\n",
      "    desc = arcpy.Describe(fc)\n",
      "    print desc.dataType"
     ],
     "language": "python",
     "metadata": {},
     "outputs": [
      {
       "output_type": "stream",
       "stream": "stdout",
       "text": [
        "FeatureClass\n",
        "FeatureClass"
       ]
      },
      {
       "output_type": "stream",
       "stream": "stdout",
       "text": [
        "\n",
        "FeatureClass"
       ]
      },
      {
       "output_type": "stream",
       "stream": "stdout",
       "text": [
        "\n",
        "FeatureClass"
       ]
      },
      {
       "output_type": "stream",
       "stream": "stdout",
       "text": [
        "\n",
        "FeatureClass"
       ]
      },
      {
       "output_type": "stream",
       "stream": "stdout",
       "text": [
        "\n",
        "FeatureClass"
       ]
      },
      {
       "output_type": "stream",
       "stream": "stdout",
       "text": [
        "\n",
        "FeatureClass"
       ]
      },
      {
       "output_type": "stream",
       "stream": "stdout",
       "text": [
        "\n",
        "FeatureClass"
       ]
      },
      {
       "output_type": "stream",
       "stream": "stdout",
       "text": [
        "\n",
        "FeatureClass"
       ]
      },
      {
       "output_type": "stream",
       "stream": "stdout",
       "text": [
        "\n",
        "FeatureClass"
       ]
      },
      {
       "output_type": "stream",
       "stream": "stdout",
       "text": [
        "\n",
        "FeatureClass"
       ]
      },
      {
       "output_type": "stream",
       "stream": "stdout",
       "text": [
        "\n",
        "FeatureClass"
       ]
      },
      {
       "output_type": "stream",
       "stream": "stdout",
       "text": [
        "\n",
        "FeatureClass"
       ]
      },
      {
       "output_type": "stream",
       "stream": "stdout",
       "text": [
        "\n",
        "FeatureClass"
       ]
      },
      {
       "output_type": "stream",
       "stream": "stdout",
       "text": [
        "\n",
        "RasterDataset"
       ]
      },
      {
       "output_type": "stream",
       "stream": "stdout",
       "text": [
        "\n"
       ]
      }
     ],
     "prompt_number": 9
    },
    {
     "cell_type": "code",
     "collapsed": false,
     "input": [
      "# And using conditional statements...\n",
      "for fc in alldata:\n",
      "    desc = arcpy.Describe(fc)\n",
      "    if desc.dataType == 'FeatureClass':\n",
      "        print 'Run the buffer tool'\n",
      "    elif desc.dataType == 'RasterDataset':\n",
      "        print 'Do not run the buffer tool'\n",
      "    else:\n",
      "        print 'Throw hands in air, take a walk, and/or get a cup of coffee'"
     ],
     "language": "python",
     "metadata": {},
     "outputs": [
      {
       "output_type": "stream",
       "stream": "stdout",
       "text": [
        "Run the buffer tool\n",
        "Run the buffer tool"
       ]
      },
      {
       "output_type": "stream",
       "stream": "stdout",
       "text": [
        "\n",
        "Run the buffer tool"
       ]
      },
      {
       "output_type": "stream",
       "stream": "stdout",
       "text": [
        "\n",
        "Run the buffer tool"
       ]
      },
      {
       "output_type": "stream",
       "stream": "stdout",
       "text": [
        "\n",
        "Run the buffer tool"
       ]
      },
      {
       "output_type": "stream",
       "stream": "stdout",
       "text": [
        "\n",
        "Run the buffer tool"
       ]
      },
      {
       "output_type": "stream",
       "stream": "stdout",
       "text": [
        "\n",
        "Do not run the buffer tool"
       ]
      },
      {
       "output_type": "stream",
       "stream": "stdout",
       "text": [
        "\n"
       ]
      }
     ],
     "prompt_number": 21
    },
    {
     "cell_type": "markdown",
     "metadata": {},
     "source": [
      "####<a name=\"Using_the_arcpy_Describe_object_to_inform_geoprocessing\">5.B. Using the `arcpy.Describe` object to inform geoprocessing</a>\n",
      "Let's connect the metaphorical dots by using our new tools for exploring data properties with the tools for automation that we learned in the first submodule."
     ]
    },
    {
     "cell_type": "code",
     "collapsed": false,
     "input": [
      "d = '100 meters'\n",
      "for fc in alldata:\n",
      "    desc = arcpy.Describe(fc)\n",
      "    output = dataset + '_buffer_only_features'\n",
      "    print output\n",
      "    if fc.dataType == 'FeatureClass':\n",
      "        arcpy.Buffer_analysis(fc, output, d)\n",
      "    elif fc.dataType == 'RasterDataset':\n",
      "        continue\n",
      "    else:\n",
      "        print 'Throw hands in air, take a walk, and/or get a cup of coffee'"
     ],
     "language": "python",
     "metadata": {},
     "outputs": [
      {
       "output_type": "stream",
       "stream": "stdout",
       "text": [
        "Roads_Census2k_buffer_only_features\n",
        "Sections_buffer_only_features"
       ]
      },
      {
       "output_type": "stream",
       "stream": "stdout",
       "text": [
        "\n",
        "QSections_buffer_only_features"
       ]
      },
      {
       "output_type": "stream",
       "stream": "stdout",
       "text": [
        "\n",
        "OpenWater_buffer_only_features"
       ]
      },
      {
       "output_type": "stream",
       "stream": "stdout",
       "text": [
        "\n",
        "MCDs_buffer_only_features"
       ]
      },
      {
       "output_type": "stream",
       "stream": "stdout",
       "text": [
        "\n",
        "Soils_buffer_only_features"
       ]
      },
      {
       "output_type": "stream",
       "stream": "stdout",
       "text": [
        "\n",
        "DEM30m_buffer_only_features"
       ]
      },
      {
       "output_type": "stream",
       "stream": "stdout",
       "text": [
        "\n"
       ]
      }
     ],
     "prompt_number": 13
    },
    {
     "cell_type": "markdown",
     "metadata": {},
     "source": [
      "In addition to describing general properties about the data (e.g., name, filepath, type, etc.), the `Describe` object also contains useful geographic information for spatial types such as feature classes and rasters."
     ]
    },
    {
     "cell_type": "code",
     "collapsed": false,
     "input": [
      "for fc in alldata:\n",
      "    desc = arcpy.Describe(fc)\n",
      "    print (\"\\n\"+fc) #\\n adds a new line before the feature class.\n",
      "    print (desc.extent)\n",
      "    print (desc.spatialReference.name)"
     ],
     "language": "python",
     "metadata": {},
     "outputs": [
      {
       "output_type": "stream",
       "stream": "stdout",
       "text": [
        "\n",
        "Roads_Census2k\n",
        "542762.148030978 284352.690089882 552499.63388826 303750.16221538 NaN NaN NaN NaN\n",
        "NAD_1983_HARN_Wisconsin_TM\n",
        "\n",
        "Sections"
       ]
      },
      {
       "output_type": "stream",
       "stream": "stdout",
       "text": [
        "\n",
        "542757.8026 284338.454 552499.84 303756.402000001 NaN NaN NaN NaN\n",
        "NAD_1983_HARN_Wisconsin_TM\n",
        "\n",
        "QSections"
       ]
      },
      {
       "output_type": "stream",
       "stream": "stdout",
       "text": [
        "\n",
        "542757.8026 284338.454 552499.84 303756.402000001 NaN NaN NaN NaN\n",
        "NAD_1983_HARN_Wisconsin_TM\n",
        "\n",
        "OpenWater"
       ]
      },
      {
       "output_type": "stream",
       "stream": "stdout",
       "text": [
        "\n",
        "542770.7085 284850.314999999 552391.5138 303750.180199999 NaN NaN NaN NaN\n",
        "NAD_1983_HARN_Wisconsin_TM\n",
        "\n",
        "MCDs"
       ]
      },
      {
       "output_type": "stream",
       "stream": "stdout",
       "text": [
        "\n",
        "542757.803 284338.454 552499.84 303756.402000001 NaN NaN NaN NaN\n",
        "NAD_1983_HARN_Wisconsin_TM\n",
        "\n",
        "Soils"
       ]
      },
      {
       "output_type": "stream",
       "stream": "stdout",
       "text": [
        "\n",
        "542757.803 284338.454 552499.84 303756.402000001 NaN NaN NaN NaN\n",
        "NAD_1983_HARN_Wisconsin_TM\n",
        "\n",
        "DEM30m"
       ]
      },
      {
       "output_type": "stream",
       "stream": "stdout",
       "text": [
        "\n",
        "542757.803 284338.454 552507.803 303748.454 NaN NaN NaN NaN\n",
        "NAD_1983_HARN_Wisconsin_TM\n"
       ]
      }
     ],
     "prompt_number": 24
    },
    {
     "cell_type": "markdown",
     "metadata": {},
     "source": [
      "The `Describe` object is dynamically defined, meaning that the structure of the object is different depending on what you're describing, whether that be a dataset, workspace, or geodatabase."
     ]
    },
    {
     "cell_type": "code",
     "collapsed": false,
     "input": [
      "for fc in alldata:\n",
      "    desc = arcpy.Describe(fc)\n",
      "    print fc\n",
      "    print desc.shapeType\n",
      "    print '' #Adds a new line (alternative to using \"\\n\")"
     ],
     "language": "python",
     "metadata": {},
     "outputs": [
      {
       "output_type": "stream",
       "stream": "stdout",
       "text": [
        "Roads_Census2k\n",
        "Polyline\n",
        "\n",
        "Sections"
       ]
      },
      {
       "output_type": "stream",
       "stream": "stdout",
       "text": [
        "\n",
        "Polygon\n",
        "\n",
        "QSections"
       ]
      },
      {
       "output_type": "stream",
       "stream": "stdout",
       "text": [
        "\n",
        "Polygon\n",
        "\n",
        "OpenWater"
       ]
      },
      {
       "output_type": "stream",
       "stream": "stdout",
       "text": [
        "\n",
        "Polygon\n",
        "\n",
        "MCDs"
       ]
      },
      {
       "output_type": "stream",
       "stream": "stdout",
       "text": [
        "\n",
        "Polygon\n",
        "\n",
        "Soils"
       ]
      },
      {
       "output_type": "stream",
       "stream": "stdout",
       "text": [
        "\n",
        "Polygon\n",
        "\n",
        "DEM30m"
       ]
      },
      {
       "output_type": "stream",
       "stream": "stdout",
       "text": [
        "\n"
       ]
      },
      {
       "ename": "AttributeError",
       "evalue": "DescribeData: Method shapeType does not exist",
       "output_type": "pyerr",
       "traceback": [
        "\u001b[1;31m---------------------------------------------------------------------------\u001b[0m\n\u001b[1;31mAttributeError\u001b[0m                            Traceback (most recent call last)",
        "\u001b[1;32m<ipython-input-27-099a9741872e>\u001b[0m in \u001b[0;36m<module>\u001b[1;34m()\u001b[0m\n\u001b[0;32m      2\u001b[0m     \u001b[0mdesc\u001b[0m \u001b[1;33m=\u001b[0m \u001b[0marcpy\u001b[0m\u001b[1;33m.\u001b[0m\u001b[0mDescribe\u001b[0m\u001b[1;33m(\u001b[0m\u001b[0mfc\u001b[0m\u001b[1;33m)\u001b[0m\u001b[1;33m\u001b[0m\u001b[0m\n\u001b[0;32m      3\u001b[0m     \u001b[1;32mprint\u001b[0m \u001b[0mfc\u001b[0m\u001b[1;33m\u001b[0m\u001b[0m\n\u001b[1;32m----> 4\u001b[1;33m     \u001b[1;32mprint\u001b[0m \u001b[0mdesc\u001b[0m\u001b[1;33m.\u001b[0m\u001b[0mshapeType\u001b[0m\u001b[1;33m\u001b[0m\u001b[0m\n\u001b[0m\u001b[0;32m      5\u001b[0m     \u001b[1;32mprint\u001b[0m \u001b[1;34m''\u001b[0m \u001b[1;31m#Adds a new line (alternative to using \"\\n\")\u001b[0m\u001b[1;33m\u001b[0m\u001b[0m\n",
        "\u001b[1;31mAttributeError\u001b[0m: DescribeData: Method shapeType does not exist"
       ]
      }
     ],
     "prompt_number": 27
    },
    {
     "cell_type": "markdown",
     "metadata": {},
     "source": [
      "For obvious reasons, the script failed when we tried to describe the shapeType of the raster dataset. [ESRI has good documentation](http://resources.arcgis.com/en/help/main/10.1/index.html#//018v00000066000000) on what attributes are contained within the different `Describe` objects. The documentation may seem labrynthian at first glance, mainly due to the complexity of the `Describe` object itself, but after going through it a few times, you'll start to understand the structure, and more importantly, the depth of what you can do in terms of automation."
     ]
    },
    {
     "cell_type": "markdown",
     "metadata": {},
     "source": [
      "In addition to embedded data, the `Describe` object also contains \"methods.\" For instance, the `spatialReference` object contains a method called `exportToString` which could, for example, be used to export .prj files associated with each dataset."
     ]
    },
    {
     "cell_type": "code",
     "collapsed": false,
     "input": [
      "import os\n",
      "wd = os.path.dirname(fgdb)\n",
      "for fc in alldata:\n",
      "    desc = arcpy.Describe(fc)\n",
      "    prjFile = wd + '/' + fc + '.prj'\n",
      "    print prjFile\n",
      "    ###############################\n",
      "    # Write prj string to text file\n",
      "    f = open(prjFile, 'w+')\n",
      "    f.write(desc.spatialReference.exportToString())\n",
      "    f.close()\n",
      "    ###############################"
     ],
     "language": "python",
     "metadata": {},
     "outputs": [
      {
       "output_type": "stream",
       "stream": "stdout",
       "text": [
        "C:\\Users\\sc\\Documents\\Test_IPYTHON\\WLIA_pythonclass_data/Roads_Census2k.prj\n",
        "C:\\Users\\sc\\Documents\\Test_IPYTHON\\WLIA_pythonclass_data/Sections.prj"
       ]
      },
      {
       "output_type": "stream",
       "stream": "stdout",
       "text": [
        "\n",
        "C:\\Users\\sc\\Documents\\Test_IPYTHON\\WLIA_pythonclass_data/QSections.prj"
       ]
      },
      {
       "output_type": "stream",
       "stream": "stdout",
       "text": [
        "\n",
        "C:\\Users\\sc\\Documents\\Test_IPYTHON\\WLIA_pythonclass_data/OpenWater.prj"
       ]
      },
      {
       "output_type": "stream",
       "stream": "stdout",
       "text": [
        "\n",
        "C:\\Users\\sc\\Documents\\Test_IPYTHON\\WLIA_pythonclass_data/MCDs.prj"
       ]
      },
      {
       "output_type": "stream",
       "stream": "stdout",
       "text": [
        "\n",
        "C:\\Users\\sc\\Documents\\Test_IPYTHON\\WLIA_pythonclass_data/Soils.prj"
       ]
      },
      {
       "output_type": "stream",
       "stream": "stdout",
       "text": [
        "\n",
        "C:\\Users\\sc\\Documents\\Test_IPYTHON\\WLIA_pythonclass_data/simplified_roads.prj"
       ]
      },
      {
       "output_type": "stream",
       "stream": "stdout",
       "text": [
        "\n",
        "C:\\Users\\sc\\Documents\\Test_IPYTHON\\WLIA_pythonclass_data/simplified_roads_Pnt.prj"
       ]
      },
      {
       "output_type": "stream",
       "stream": "stdout",
       "text": [
        "\n",
        "C:\\Users\\sc\\Documents\\Test_IPYTHON\\WLIA_pythonclass_data/Roads_Census2k_buffer_loop.prj"
       ]
      },
      {
       "output_type": "stream",
       "stream": "stdout",
       "text": [
        "\n",
        "C:\\Users\\sc\\Documents\\Test_IPYTHON\\WLIA_pythonclass_data/Sections_buffer_loop.prj"
       ]
      },
      {
       "output_type": "stream",
       "stream": "stdout",
       "text": [
        "\n",
        "C:\\Users\\sc\\Documents\\Test_IPYTHON\\WLIA_pythonclass_data/QSections_buffer_loop.prj"
       ]
      },
      {
       "output_type": "stream",
       "stream": "stdout",
       "text": [
        "\n",
        "C:\\Users\\sc\\Documents\\Test_IPYTHON\\WLIA_pythonclass_data/OpenWater_buffer_loop.prj"
       ]
      },
      {
       "output_type": "stream",
       "stream": "stdout",
       "text": [
        "\n",
        "C:\\Users\\sc\\Documents\\Test_IPYTHON\\WLIA_pythonclass_data/MCDs_buffer_loop.prj"
       ]
      },
      {
       "output_type": "stream",
       "stream": "stdout",
       "text": [
        "\n",
        "C:\\Users\\sc\\Documents\\Test_IPYTHON\\WLIA_pythonclass_data/Soils_buffer_loop.prj"
       ]
      },
      {
       "output_type": "stream",
       "stream": "stdout",
       "text": [
        "\n",
        "C:\\Users\\sc\\Documents\\Test_IPYTHON\\WLIA_pythonclass_data/DEM30m.prj"
       ]
      },
      {
       "output_type": "stream",
       "stream": "stdout",
       "text": [
        "\n"
       ]
      }
     ],
     "prompt_number": 10
    },
    {
     "cell_type": "markdown",
     "metadata": {},
     "source": [
      "####<a name=\"Exercise_5C\">5.C. Exercise</a>\n",
      "\n",
      "Use your new skills to generate a report about the workshop geodatabase. Print out useful metadata to a text file using the above code snippet (i.e., `open`, `write`, `close`):\n",
      "\n",
      "1. The name of the file geodatabase and the number of datasets contained within it.\n",
      "1. Iteratively list the name of each dataset with some useful information about it.\n",
      "    1. The name of the dataset\n",
      "    1. The projection name\n",
      "    1. The extent\n",
      "\n",
      "Make sure it looks pretty so that people will enjoy reading it. Label each piece of information using the `+` operator to concatenate strings. To add a new line to your text file, use the special carriage return string, `\\n`.\n"
     ]
    },
    {
     "cell_type": "markdown",
     "metadata": {},
     "source": [
      "#####Answer"
     ]
    },
    {
     "cell_type": "code",
     "collapsed": false,
     "input": [
      "wd = 'C:/Users/ruesca/WLIA_2014'\n",
      "# Open the text file outside the loop\n",
      "prjFile = wd + '/metadata.txt'\n",
      "f = open(prjFile, 'w+')\n",
      "for dataset in datasets:\n",
      "    desc = arcpy.Describe(dataset)\n",
      "    ###############################\n",
      "    # Write metadata to text file\n",
      "    f.write(dataset)\n",
      "    f.write('\\n-------------\\n')\n",
      "    f.write(desc.spatialReference.name)\n",
      "    f.write('\\n')\n",
      "    f.write(str(desc.extent))\n",
      "    f.write('\\n\\n\\n')\n",
      "    ###############################\n",
      "# Close text file after all lines are written\n",
      "f.close()"
     ],
     "language": "python",
     "metadata": {},
     "outputs": [],
     "prompt_number": 18
    },
    {
     "cell_type": "markdown",
     "metadata": {},
     "source": [
      "###<a name=\"Python_mapping_and_graphics_examples\">6. Python for mapping and graphics: examples</a>\n",
      "When you're ready to compose a map, Python still comes in handy for\n",
      "* alternative to Visual Basic in labeling\n",
      "* alternative to Visual Basic in the field calculator for simple edits\n",
      "* find/replace layers\n",
      "* find/replace data sources for layers or graphics\n",
      "* editing symbology\n",
      "* editing definition queries\n",
      "* exporting maps to PDF\n",
      "* creating map books (with or without data-driven pages)\n",
      "\n",
      "####<a name=\"Daily_ArcMap_Python\">6.A Everyday uses of Python in ArcMap</a>\n",
      "There are many functions useful for labeling in ArcMap"
     ]
    },
    {
     "cell_type": "code",
     "collapsed": false,
     "input": [
      "Label=234.5234\n",
      "Acres=\"Total area is approximately \"+ str(round(Label,1)) + \" acres.\"\n",
      "print(Acres)"
     ],
     "language": "python",
     "metadata": {},
     "outputs": [
      {
       "output_type": "stream",
       "stream": "stdout",
       "text": [
        "Total area is approximately 234.5 acres.\n"
       ]
      }
     ],
     "prompt_number": 5
    },
    {
     "cell_type": "code",
     "collapsed": false,
     "input": [
      "#If Label is character, convert it first:\n",
      "Label=\"234.5234\"\n",
      "str(round(float(Label),0)) #will still have .0 afterwards.  "
     ],
     "language": "python",
     "metadata": {},
     "outputs": [
      {
       "metadata": {},
       "output_type": "pyout",
       "prompt_number": 7,
       "text": [
        "'235.0'"
       ]
      }
     ],
     "prompt_number": 7
    },
    {
     "cell_type": "code",
     "collapsed": false,
     "input": [
      "#Say we want an integer value.\n",
      "#  using \"int\" directly doesn't work (it won't take a decimal in the text value)\n",
      "int(Label)"
     ],
     "language": "python",
     "metadata": {},
     "outputs": [
      {
       "ename": "ValueError",
       "evalue": "invalid literal for int() with base 10: '234.5234'",
       "output_type": "pyerr",
       "traceback": [
        "\u001b[1;31m---------------------------------------------------------------------------\u001b[0m\n\u001b[1;31mValueError\u001b[0m                                Traceback (most recent call last)",
        "\u001b[1;32m<ipython-input-12-7d529b838926>\u001b[0m in \u001b[0;36m<module>\u001b[1;34m()\u001b[0m\n\u001b[0;32m      1\u001b[0m \u001b[1;31m#Say we want an integer value.\u001b[0m\u001b[1;33m\u001b[0m\u001b[1;33m\u001b[0m\u001b[0m\n\u001b[0;32m      2\u001b[0m \u001b[1;31m#  using \"int\" directly doesn't work\u001b[0m\u001b[1;33m\u001b[0m\u001b[1;33m\u001b[0m\u001b[0m\n\u001b[1;32m----> 3\u001b[1;33m \u001b[0mint\u001b[0m\u001b[1;33m(\u001b[0m\u001b[0mLabel\u001b[0m\u001b[1;33m)\u001b[0m\u001b[1;33m\u001b[0m\u001b[0m\n\u001b[0m",
        "\u001b[1;31mValueError\u001b[0m: invalid literal for int() with base 10: '234.5234'"
       ]
      }
     ],
     "prompt_number": 12
    },
    {
     "cell_type": "code",
     "collapsed": false,
     "input": [
      "#  \"int\" will truncate a float value\n",
      "print(str(int(float(Label))))\n",
      "#We want to round instead.\n",
      "str(int(round(float(Label),0)))"
     ],
     "language": "python",
     "metadata": {},
     "outputs": [
      {
       "output_type": "stream",
       "stream": "stdout",
       "text": [
        "234\n"
       ]
      },
      {
       "metadata": {},
       "output_type": "pyout",
       "prompt_number": 14,
       "text": [
        "'235'"
       ]
      }
     ],
     "prompt_number": 14
    },
    {
     "cell_type": "markdown",
     "metadata": {},
     "source": [
      "Other expressions apply to labels or field calculations:\n",
      "\n",
      "    !CVT_LOWERCASE_NAME!.upper()"
     ]
    },
    {
     "cell_type": "markdown",
     "metadata": {},
     "source": [
      "* In Field Calculator expressions, use exclamation points around field names"
     ]
    },
    {
     "cell_type": "code",
     "collapsed": false,
     "input": [
      "arcpy.AddField_management(fc,\"AREA_SQMI\",\"DOUBLE\",\"\",\"\",\"\",\"Area (Sq. Mi.)\")\n",
      "arcpy.CalculateField_management(fc, AREA_SQMI, \n",
      "                                    \"!SHAPE.AREA@SQUAREMILES!\",\n",
      "                                    \"PYTHON\")"
     ],
     "language": "python",
     "metadata": {},
     "outputs": []
    },
    {
     "cell_type": "markdown",
     "metadata": {},
     "source": [
      "####<a name=\"Using_the_arcpy_mapping_module\">6.B Using the `arcpy.mapping` module</a>\n",
      "\n",
      "`arcpy.mapping` is a Python scripting module that is part of the `arcpy` site-package. You will need to import this module with the statement:  \n",
      "\n",
      "```python\n",
      "import arcpy.mapping\n",
      "```\n",
      "\n",
      "Uses for `arcpy.mapping`:\n",
      "\n",
      "* Automate and customize map production\n",
      "* Extend the capabilities of Data Driven pages\n",
      "* Update symbology across multiple map documents\n",
      "* Set the characteristics of exported PDF documents (and other formats).\n",
      "\n",
      "A few syntax and usage tips for `arcpy.mapping`:\n",
      "\n",
      "* Syntax for identifying the mapdoc. Example:\n",
      "\n",
      "```python\n",
      "mapdoc = arcpy.mapping.MapDocument('C:/temp/wi_parcels.mxd')\n",
      "```\n",
      "\n",
      "* Using an open mapdoc:\n",
      "\n",
      "```python\n",
      "mapdoc = arcpy.mapping.MapDocument('CURRENT')\n",
      "```\n",
      "\n",
      "* Data frames.  Map documents may contain one or more data frames. A data frame object contains properties for map extent, scale, and spatial reference. Example:"
     ]
    },
    {
     "cell_type": "code",
     "collapsed": false,
     "input": [
      "# Set the spatial reference to one layer\n",
      "import arcpy\n",
      "dataset = 'C:/temp/parcels.shp'\n",
      "spatialRef = arcpy.Describe(dataset).spatialReference\n",
      "mapdoc = arcpy.mapping.MapDocument(r'C:\\users\\cutfol\\pythonWorkshopWLIA2014\\Pythonclass.mxd')\n",
      "for df in arcpy.mapping.ListDataFrames(mapdoc):\n",
      "    df.spatialReference = spatialRef\n",
      "    df.scale = 24000\n",
      "del mapdoc"
     ],
     "language": "python",
     "metadata": {},
     "outputs": []
    },
    {
     "cell_type": "code",
     "collapsed": false,
     "input": [
      "#List layers in a map doc:\n",
      "mapLayers = arcpy.mapping.ListLayers(mapdoc)\n",
      "\n",
      "#Refer to a specific data frame by list index:\n",
      "\n",
      "dflist = arcpy.mapping.ListDataFrames(mapdoc)\n",
      "lyrlist = arcpy.mapping.ListLayers(mapdoc, '', dflist[0])  # first data frame in TOC"
     ],
     "language": "python",
     "metadata": {},
     "outputs": []
    },
    {
     "cell_type": "markdown",
     "metadata": {},
     "source": [
      "* Layers"
     ]
    },
    {
     "cell_type": "code",
     "collapsed": false,
     "input": [
      "#You may need to convert feature classes to layers to access `arcpy.mapping` methods. \n",
      "#   If you need to create a layer, here is the syntax:\n",
      "\n",
      "arcpy.MakeFeatureLayer_management('parcels.shp','parcels_lyr')\n",
      "\n",
      "#   Use supports to check whether a layer supports a property. For example:\n",
      "\n",
      "for lyr in lyrlist:\n",
      "\tif lyr.supports('definitionquery') == True\n",
      "\t\tprint lyr.name\n",
      "del lyrlist"
     ],
     "language": "python",
     "metadata": {},
     "outputs": []
    },
    {
     "cell_type": "markdown",
     "metadata": {},
     "source": [
      "* Map Elements"
     ]
    },
    {
     "cell_type": "code",
     "collapsed": false,
     "input": [
      "# Map elements such as title, north arrow, and scale bar may be defined and updated using Python code. Example:\n",
      "\n",
      "title = arcpy.mapping.ListLayoutElements(mapdoc, '', 'Title')[0]\n",
      "title.text = 'Awesome'\n",
      "title.fontSize = 30"
     ],
     "language": "python",
     "metadata": {},
     "outputs": []
    },
    {
     "cell_type": "markdown",
     "metadata": {},
     "source": [
      "* Exporting maps"
     ]
    },
    {
     "cell_type": "code",
     "collapsed": false,
     "input": [
      "arcpy.mapping.ExportToPDF(mapdoc, r 'C:/Maps/wiParcels.pdf')\n",
      "# You can also export data-driven pages, but you will need to enable the extension in your map document first."
     ],
     "language": "python",
     "metadata": {},
     "outputs": []
    },
    {
     "cell_type": "markdown",
     "metadata": {},
     "source": [
      "* File locking"
     ]
    },
    {
     "cell_type": "code",
     "collapsed": false,
     "input": [
      "#When a MapDocument is referenced in a script, the .mxd is locked.  \n",
      "#   It is good practice to remove the lock in code. For example:\n",
      "try:\n",
      "    mapdoc.save()\n",
      "except:\n",
      "    print(\"The map document did not save.\")\n",
      "del mapdoc"
     ],
     "language": "python",
     "metadata": {},
     "outputs": [
      {
       "output_type": "stream",
       "stream": "stdout",
       "text": [
        "The map document did not save.\n"
       ]
      },
      {
       "ename": "NameError",
       "evalue": "name 'mapdoc' is not defined",
       "output_type": "pyerr",
       "traceback": [
        "\u001b[1;31m---------------------------------------------------------------------------\u001b[0m\n\u001b[1;31mNameError\u001b[0m                                 Traceback (most recent call last)",
        "\u001b[1;32m<ipython-input-5-59954cb669b1>\u001b[0m in \u001b[0;36m<module>\u001b[1;34m()\u001b[0m\n\u001b[0;32m      5\u001b[0m \u001b[1;32mexcept\u001b[0m\u001b[1;33m:\u001b[0m\u001b[1;33m\u001b[0m\u001b[0m\n\u001b[0;32m      6\u001b[0m     \u001b[1;32mprint\u001b[0m\u001b[1;33m(\u001b[0m\u001b[1;34m\"The map document did not save.\"\u001b[0m\u001b[1;33m)\u001b[0m\u001b[1;33m\u001b[0m\u001b[0m\n\u001b[1;32m----> 7\u001b[1;33m \u001b[1;32mdel\u001b[0m \u001b[0mmapdoc\u001b[0m\u001b[1;33m\u001b[0m\u001b[0m\n\u001b[0m",
        "\u001b[1;31mNameError\u001b[0m: name 'mapdoc' is not defined"
       ]
      }
     ],
     "prompt_number": 5
    },
    {
     "cell_type": "markdown",
     "metadata": {},
     "source": [
      "####<a name=\"The_arcpy_mapping_module_in_context\">6.C. The `arcpy.mapping` module in context</a>\n",
      "\n",
      "ESRI provides a module for automating the production of maps. Generally, the module presumes that you have already created an .mxd template and associated layers. We have provided both for this workshop, elevation.mxd and DEM30m.lyr.\n",
      "\n",
      "Say you've be contracted by the Town of Cross Plains to create an atlas of topography in the area. They want a map for each quarter section in the area. There are 337 quarter sections in the area. You sigh, thinking of all the pointing and clicking you'll be doing in the next week, all the while wishing there were a better way. Guess what?! There is!"
     ]
    },
    {
     "cell_type": "code",
     "collapsed": false,
     "input": [
      "from arcpy import mapping as m\n",
      "\n",
      "mxd = arcpy.mapping.MapDocument(wd + '/elevation.mxd')\n",
      "mxd.author = os.environ['USERNAME']\n",
      "df = m.ListDataFrames(mxd, 'Layers')[0]\n",
      "\n",
      "iterator = range(25, 35)\n",
      "for i in iterator:\n",
      "    print i\n",
      "    arcpy.SelectLayerByAttribute_management(m.Layer('QSections'), 'NEW_SELECTION', '\"OBJECTID\" = ' + str(i))\n",
      "    df.extent = q_sections_lyr.getSelectedExtent()\n",
      "    m.ExportToPDF(mxd, wd + '/OBJECTID_' + str(i) + '.pdf')"
     ],
     "language": "python",
     "metadata": {},
     "outputs": [
      {
       "output_type": "stream",
       "stream": "stdout",
       "text": [
        "1\n",
        "2"
       ]
      },
      {
       "output_type": "stream",
       "stream": "stdout",
       "text": [
        "\n",
        "3"
       ]
      },
      {
       "output_type": "stream",
       "stream": "stdout",
       "text": [
        "\n",
        "4"
       ]
      },
      {
       "output_type": "stream",
       "stream": "stdout",
       "text": [
        "\n",
        "5"
       ]
      },
      {
       "output_type": "stream",
       "stream": "stdout",
       "text": [
        "\n",
        "6"
       ]
      },
      {
       "output_type": "stream",
       "stream": "stdout",
       "text": [
        "\n",
        "7"
       ]
      },
      {
       "output_type": "stream",
       "stream": "stdout",
       "text": [
        "\n",
        "8"
       ]
      },
      {
       "output_type": "stream",
       "stream": "stdout",
       "text": [
        "\n",
        "9"
       ]
      },
      {
       "output_type": "stream",
       "stream": "stdout",
       "text": [
        "\n"
       ]
      }
     ],
     "prompt_number": 6
    },
    {
     "cell_type": "markdown",
     "metadata": {},
     "source": [
      "####<a name=\"Exercise_8C\">6.D. Exercise</a>\n",
      "A customer wants a series of quarter section maps in the Cross Plains area in pdf format.  He wants each quarter section map to only show section lines for the selected section (i.e., do not show surrounding section lines).\n",
      "\n",
      "1. What ArcGIS method would you use to select one section at a time?\n",
      "\n",
      "1. Let\u2019s try it out for a subset of quarter sections first by adapting the above code.\n",
      "```python\n",
      "sections = [40807061, 40807052, 40807044, 40807121]\n",
      "```\n",
      "1. Edit the script to iterate through the Qsections list.\n",
      "1. Check which layers support a definition query. \n",
      "1. Take a look at this form about using a definition query: <http://forums.arcgis.com/threads/26421-use-python-to-create-definition-query>"
     ]
    },
    {
     "cell_type": "code",
     "collapsed": false,
     "input": [
      "# Answer for items 1-3\n",
      "for i in sections:\n",
      "    print i\n",
      "    arcpy.SelectLayerByAttribute_management(m.Layer('QSections'), 'NEW_SELECTION','\"dtrsq\" = ' + str(i))\n",
      "    df.extent = m.Layer('QSections').getSelectedExtent()\n",
      "    m.ExportToPDF(mapdoc, wd + str(i) + '.pdf')\n",
      "\n",
      "# Answer for item 4\n",
      "lyrlist = arcpy.mapping.ListLayers(mapdoc)\n",
      "for lyr in lyrlist:\n",
      "    if lyr.supports('definitionquery') == True:\n",
      "    print lyr.name\n",
      "\n",
      "# How to add a definition query\n",
      "m.Layer('QSections').definitionQuery = '\"dtrsq\" = '+ str(i)"
     ],
     "language": "python",
     "metadata": {},
     "outputs": []
    },
    {
     "cell_type": "markdown",
     "metadata": {},
     "source": [
      "###<a name=\"Database_management\">Database Management</a>\n",
      "* Editing\n",
      "\n",
      "arcpy.RegisterAsVersioned_management(fc, \"EDITS_TO_BASE\")\n",
      "\n",
      "desc.IsVersioned == True"
     ]
    },
    {
     "cell_type": "markdown",
     "metadata": {},
     "source": [
      "* Permissions\n",
      "\n",
      "arcpy.ChangePrivileges_management(fc, \"WENDELCLARK\", \"GRANT\", \"AS_IS\")#fc, user/group, view, edit"
     ]
    },
    {
     "cell_type": "markdown",
     "metadata": {},
     "source": [
      "* Data Domains"
     ]
    },
    {
     "cell_type": "code",
     "collapsed": false,
     "input": [
      "arcpy.TableToDomain_management(temptable,\"NewCode\",\"DescField\",\n",
      "            SDE, dom, domdetails[dom.name][0],\"REPLACE\")\n",
      "arcpy.SortCodedValueDomain_management(SDE, dom, \"DESCRIPTION\", \"ASCENDING\")"
     ],
     "language": "python",
     "metadata": {},
     "outputs": []
    },
    {
     "cell_type": "code",
     "collapsed": false,
     "input": [
      "arcpy.AssignDomainToField_management (fc, \"CVT_CODE\", \"CVT_DOMAIN\")\n",
      "#View the table\n",
      "\n"
     ],
     "language": "python",
     "metadata": {},
     "outputs": []
    },
    {
     "cell_type": "code",
     "collapsed": false,
     "input": [
      "arcpy.env.workspace=\"Database Connections\\Production_DG.sde\"\n",
      "blah=arcpy.ListFeatureClasses(\"*DATCP*\")\n",
      "for bl in blah:\n",
      "    field=arcpy.ListFields(bl)\n",
      "    for f in field:\n",
      "        try:\n",
      "            if f.name == \"FOLD_TYPE\":\n",
      "                arcpy.AssignDomainToField_management(bl,f.name,\"AMANDA Folder Codes\")\n",
      "        except:\n",
      "            print(\"\")\n",
      "        try:\n",
      "            if f.name == \"FOLD_SUBTYPE\":\n",
      "                arcpy.AssignDomainToField_management(bl,f.name,\"AMANDA Subtype Codes\")\n",
      "        except:\n",
      "            print(\"\")\n",
      "        try:\n",
      "            if f.name == \"AMANDA_CNTY_CODE\":\n",
      "                arcpy.AssignDomainToField_management(bl,f.name,\"AMANDA County Codes\")\n",
      "        except:\n",
      "            print(\"\")\n",
      "        try:\n",
      "            if f.name == \"FOLD_STATUS_CODE\":\n",
      "                arcpy.AssignDomainToField_management(bl,f.name,\"AMANDA Status Codes\")\n",
      "        except:\n",
      "            print(\"\")\n"
     ],
     "language": "python",
     "metadata": {},
     "outputs": []
    },
    {
     "cell_type": "code",
     "collapsed": false,
     "input": [
      "arcpy.da.walk(...)\n"
     ],
     "language": "python",
     "metadata": {},
     "outputs": []
    },
    {
     "cell_type": "markdown",
     "metadata": {},
     "source": [
      "* Metadata"
     ]
    },
    {
     "cell_type": "code",
     "collapsed": false,
     "input": [
      "import arcpy, os\n",
      "templates=[\"Database Connections/Development_FS.sde/WM_GENINSP_HQ_Old\"]#[\"file1_template\",\"file2_template\"]\n",
      "targets=[\"Database Connections/Production_FS.sde/WM_INSP_HQ\"]#\"file1\",\"file2\"]\n",
      "tempFolder=\"C:/TEMP\"\n",
      "for ind in range(len(oldlist)):\n",
      "        arcpy.XSLTransform_conversion(oldlist[ind],\n",
      "                str(arcpy.GetInstallInfo()[\"InstallDir\"])+\"Metadata\\\\Stylesheets\\\\gpTools\\\\remove geoprocessing history.xslt\",\n",
      "                tempFolder+os.sep+\"metadata_copy.xml\", \"\")\n",
      "        arcpy.AddMessage(\"Geoprocessing history cleared.\")\n",
      "        arcpy.MetadataImporter_conversion(tempFolder+os.sep+\"metadata_copy.xml\",\n",
      "                newlist[ind])\n",
      "        arcpy.Delete_management(tempFolder+os.sep+\"metadata_copy.xml\")\n"
     ],
     "language": "python",
     "metadata": {},
     "outputs": []
    },
    {
     "cell_type": "markdown",
     "metadata": {},
     "source": [
      "###<a name=\"Cursors\">7. Cursors</a>\n",
      "\n",
      "Cursors are used to iterate through records in a table or feature class and can be a serious workhorse for many workflows. Cursors are commonly used to read and update attributes and have three forms: `search`, `insert`, or `update`.  In ArcGIS 10.1, ESRI introduced the \"Data Access\" module which significantly improved the performance from the traditional cursor that was present pre-ArcGIS 10.1.  For this workshop, we will work with cursors within the `arcpy.da` module.\n",
      "\n",
      "Cursors take in a minimum of 2 arguments:\n",
      "\n",
      "* Feature class, layer, table or table view\n",
      "* A list of field names; If it is a single field, you can use a sting instead of a list of strings.\n",
      "\n",
      "####<a name=\"Search_cursors\">7.A. Search cursors</a>\n",
      "\n",
      "The `SearchCursor` establishes read-only access to the records from a table or feature class.  Once established, the cursor will return a tuple of values that you can iterate through.\n",
      "\n",
      "Search cursors can be iterated using a `for` loop.  Search cursors also support the `with` statement which will guarantee proper closure and release of database locks and reset the iteration.\n",
      "\n",
      "A \"data access\" search cursor is denoted as `arcpy.da.SearchCursor` and should not be confused with `arcpy.SearchCursor` as the properties and usage are different.\n",
      "\n",
      "Let\u2019s establish a simple `SearchCursor` to step through the MCDs feature class and print the city type and name.\n"
     ]
    },
    {
     "cell_type": "code",
     "collapsed": false,
     "input": [
      "import arcpy\n",
      "from arcpy import env\n",
      " \n",
      "# Set Workspace environment\n",
      "env.workspace = fgdb\n",
      " \n",
      "# SearchCursor arguments\n",
      "fc = \"MCDs\"\n",
      "fields = [\"CVT_TYPE\",\"CVT_NAME\"]\n",
      " \n",
      "# Establish SearchCursor using a 'with' statement to print type and name\n",
      "with arcpy.da.SearchCursor(fc, fields) as cursor:\n",
      "    for row in cursor:\n",
      "        if row[0] == \"T\":\n",
      "            print \"Town of \" + row[1]\n",
      "        else:\n",
      "            print \"Village of \" + row[1]"
     ],
     "language": "python",
     "metadata": {},
     "outputs": []
    },
    {
     "cell_type": "markdown",
     "metadata": {},
     "source": [
      "Let\u2019s establish a `SearchCursor` using an expression that limits the records to only those that are Towns and not Villages:"
     ]
    },
    {
     "cell_type": "code",
     "collapsed": false,
     "input": [
      "import arcpy\n",
      "from arcpy import env\n",
      " \n",
      "# Set Workspace environment\n",
      "env.workspace = fgdb\n",
      " \n",
      "# SQL expression that will be passed into searchCursor\n",
      "expression = arcpy.AddFieldDelimiters(\"MCDs\", \"CVT_TYPE\") + \" = 'T'\"\n",
      " \n",
      "# Establish SearchCursor using a filter expression\n",
      "with arcpy.da.SearchCursor(\"MCDs\", \"CVT_NAME\", where_clause=expression) as cursor:\n",
      "    for row in cursor:\n",
      "        print \"Town of \" + row[0]"
     ],
     "language": "python",
     "metadata": {},
     "outputs": [
      {
       "output_type": "stream",
       "stream": "stdout",
       "text": [
        "Town of BERRY\n",
        "Town of CROSS PLAINS\n"
       ]
      }
     ],
     "prompt_number": 39
    },
    {
     "cell_type": "markdown",
     "metadata": {},
     "source": [
      "####<a name=\"Update_cursors\">7.B. Update cursors</a>\n",
      "\n",
      "The `UpdateCursor` establishes read-write access to records returned from a table or feature class.  It allows you the ability to delete records or update the attributes of a record.  However, you cannot add new records to the table.  With the exception of deleting records, the Calculate Field tool can provide another approach for updating values.\n",
      "\n",
      "Update cursors can be iterated using a `for` loop and will also support the `with` statement, which will guarantee proper closure and release of database locks and reset the iteration.\n",
      "\n",
      "A data access search cursor is denoted as `arcpy.da.SearchCursor` and should not be confused with `arcpy.SearchCursor` as the properties and usage are different.\n",
      "\n",
      "Let\u2019s add a new field called `Map_Label` to the `MCDs` featureclass and establish an `UpdateCursor` to populate the new field.  The new field will contain the unabbreviated `CVT_TYPE` and the `CVT_NAME`."
     ]
    },
    {
     "cell_type": "code",
     "collapsed": false,
     "input": [
      "# Set Workspace environment\n",
      "env.workspace = fgdb\n",
      " \n",
      "# Variables\n",
      "fc = \"MCDs\"\n",
      "cvtType = \"CVT_TYPE\"\n",
      "cvtName = \"CVT_NAME\"\n",
      "mapLabelField = \"Map_Label\"\n",
      " \n",
      "# If new field doesn't exist add it\n",
      "if not len(arcpy.ListFields(fc,mapLabelField)) > 0:\n",
      "    # determine the length of the 'CVT_NAME' field\n",
      "    for field in arcpy.ListFields(fc,cvtName):\n",
      "        mapLabelLength = field.length \n",
      "    # Add 'Map_Label' field as a TEXT and width identical to 'CVT_NAME'\n",
      "    arcpy.AddField_management(fc,mapLabelField,\"TEXT\", \"#\", \"#\", mapLabelLength)\n",
      "\n",
      "# Establish UpdateCursor to update 'Map_Label' field\n",
      "with arcpy.da.UpdateCursor(fc, (cvtType, cvtName, mapLabelField)) as cursor:\n",
      "    for row in cursor:\n",
      "        if row[0] == \"T\":\n",
      "            row[2] = \"Town of \" + row[1]\n",
      "        else:\n",
      "            row[2] = \"Village of \" + row[1]\n",
      "        cursor.updateRow(row)\n",
      "    del row, cursor"
     ],
     "language": "python",
     "metadata": {},
     "outputs": [],
     "prompt_number": 40
    },
    {
     "cell_type": "markdown",
     "metadata": {},
     "source": [
      "####<a name=\"Insert_cursors\">7.C. Insert cursors</a>\n",
      "\n",
      "The `InsertCursor` establishes write access on a table or feature class so that new records can be added.  Insert cursors, in their simplest form, are best used with independent tables to add records that are not tied to geometry.  When used with feature class tables, geometry information can be accessed using the `SHAPE@` token, which returns information such as a feature\u2019s X,Y or Z coordinates.\n",
      " \n",
      "A data access search cursor is denoted as `arcpy.da.InsertCursor` and should not be confused with `arcpy.InsertCursor` as the properties and usage are different.\n",
      "\n",
      "Let\u2019s populate the `WaterBody_location` table with the centroids of water bodies from the soils feature class.  We will use a `SearchCursor` to iterate through a tuple of water bodies and their centroids.  An `InsertCursor` will then be used to insert this data into the `WaterBody_location` table.\n",
      "\n",
      "The `SHAPE@XY` token will be used to get simple geometry information.  Keep in mind that the `SHAPE@XY` returns a tuple and the `insertRow` method only takes one argument.\n"
     ]
    },
    {
     "cell_type": "code",
     "collapsed": false,
     "input": [
      "import arcpy\n",
      "\n",
      "# Set Workspace environment\n",
      "env.workspace = fgdb\n",
      "\n",
      "# SQL expression to select all \"W\" polygons\n",
      "expression = arcpy.AddFieldDelimiters('Soils', \"MUSYM\") + \" = 'W'\"\n",
      " \n",
      "# create an InsertCursor to add the OID from the soils fc and the X and Y coordinates from its centroid\n",
      "ic = arcpy.da.InsertCursor('WaterBody_location', ('soils_OID', 'X', 'Y'))\n",
      " \n",
      "# use a searchCursor to get OID and centroid coordinates from 'W' polygons from soils fc\n",
      "with arcpy.da.SearchCursor('Soils', ('OID@','SHAPE@XY'), where_clause=expression) as cursor:\n",
      "    for row in cursor: \n",
      "        # insert a new record into the table.\n",
      "        ic.insertRow((row[0], row[1][0], row[1][1]))\n",
      "# Delete the cursor object\n",
      "del ic"
     ],
     "language": "python",
     "metadata": {},
     "outputs": [],
     "prompt_number": 41
    },
    {
     "cell_type": "markdown",
     "metadata": {},
     "source": [
      "####<a name=\"Exercise_6D\">6.D. Exercise</a>\n",
      "\n",
      "Now that we are experts in the subject of Cursors, let\u2019s complete a simple exercise.  In your file geodatabase you will find a table named `Cursor_Exercise`, which represents the output of the spatial analyst tool Tabulate Area.  The Tabulate Area tool calculates cross-tabulated areas between 2 datasets and outputs a table.  In this case, the tool was executed using the Soils layer and a slope raster that was reclassified into 20 slope groups.  In essence, this table represents the slope composition breakdown of a soils mapunit.\n",
      "\n",
      "Given that the results are the sum of the area of the pixels, analyzing these values is not that intuitive.  In this exercise you will help make the results more user-friendly by converting the values into percentages.  Here are some helpful tips to get you started:\n",
      "\n",
      "* Determine what cursor is best suited for this exercise\n",
      "* Keep in mind that the table contains over 20 fields so creating a list of fields to pass to your cursor would be ideal.  Also, the fields that begin with `Value_` are the fields of interest.\n",
      "* In order to calculate percentage values you will first have to tally up the values from the fields in your table.\n",
      "* Be careful with \u201c0\u201d values.  You don\u2019t want to divide those!"
     ]
    },
    {
     "cell_type": "markdown",
     "metadata": {},
     "source": [
      "####<a name=\"Creating_custom_geoprocessing_tools\">7. Creating custom geoprocessing tools</a>\n",
      "Creating a script tool that you can access from ArcToolbox will allow you to turn your own Python scripts and functionality into your own geoprocessing tools.  These tools will look and act like system geoprocessing tools and once created can have many benefits such as:\n",
      "\n",
      "* You can open it from the Search or Catalog window, use it in Model Builder and the Python window or call it from another script.\n",
      "* You can write messages to the Results window and progress dialog box\n",
      "* You can provide documentation about the tool\u2019s functionality and arguments using the built-in documentation tools.\n",
      "* Your tool will have a familiar and easy to use interface which will make your tool easy to transfer\n",
      "\n",
      "The script tool framework was introduced in ArcGIS 9.0 and was geared toward creating custom Python-based tools.  However, this framework is actually segregated into many parts which make it somewhat inefficient.  That is, in the script tool framework:\n",
      "\n",
      "* You create a toolbox made up of parameters using the Add Script wizard.\n",
      "* You can create validation code that lives in the toolbox to implement a certain behavior for your script tool dialog box.\n",
      "* The source python script is created and maintained separately.\n",
      "\n",
      "In ArcGIS 10.1, there are two ways of creating your own geoprocessing tools with Python: script tools in custom toolboxes <img src=\"https://dl.dropboxusercontent.com/u/17521862/etc/arctoolbox.png\"> and script tools in Python toolboxes <img src=\"https://dl.dropboxusercontent.com/u/17521862/etc/arctoolboxScript.png\">.  For this workshop, we will work with custom toolboxes.  For more information on the differences between custom toolboxes and Python toolboxes visit the ArcGIS Resource <http://resources.arcgis.com/en/help/main/10.1/index.html#//00150000002r000000>.\n",
      "\n",
      "You can only create a script tool within a custom toolbox and not a system toolbox.  In order to create a custom toolbox, rt-click in the white-space of your ArcToolbox and click **Add Toolbox**.  Select location to store your new toolbox in the form of a .tbx file and click on the **New Toolbox** icon <img src=\"https://dl.dropboxusercontent.com/u/17521862/etc/arctoolbox.png\"> and give your new toolbox and intuitive name.  Now that you have your new Toolbox you can create a script tool by rt-clicking your new toolbox, and click **Add > Script**.  This will open the Add Script wizard which takes you step by step through the process of creating a script tool.  You can always modify the properties names and data types of this script tool by right-clicking the script tool and choosing **Properties**.\n",
      "\n",
      "####<a name=\"Exercise_7A\">7.A. Exercise</a>\n",
      "\n",
      "In your home directory is a custom tool that needs an interface completed before you can distribute it to your field users.  This tool is designed to buffer feature classes that are within a given workspace at a user-specified distance.  The user can also specify whether to apply a buffer only to feature classes of a given geometry.  Add the CustomBufferTool.py script to your python environment and study the script to determine what types of arguments should be passed to the script."
     ]
    },
    {
     "cell_type": "markdown",
     "metadata": {},
     "source": [
      "#####Answers"
     ]
    },
    {
     "cell_type": "markdown",
     "metadata": {},
     "source": [
      "###<a name=\"Conclusion\">Conclusion</a>\n",
      "\n",
      "The whole idea with combining Python and ArcGIS is to make you more efficient and expand your GIS capacity. Python is a tool--like any other tool, it only helps you if the tool is appropriate for the job. Sometimes it makes sense to do something by hand, and other times it makes sense to create a script. For instance, if you'll be doing generally the same task many times over the course of your lifetime. Here's a handy graphic from the fantastic comic, [xkcd.com](http://xkcd.com), to remind you of this concept: \n",
      "</br>\n",
      "</br>\n",
      "</br>\n",
      "![](http://imgs.xkcd.com/comics/is_it_worth_the_time.png)"
     ]
    },
    {
     "cell_type": "markdown",
     "metadata": {},
     "source": [
      "###<a name=\"Resources\">Resources</a>\n",
      "\n",
      "####Online:\n",
      "\n",
      "ESRI Python Resources: <http://resources.arcgis.com/en/communities/python/>\n",
      "\n",
      "Python Documentation: <http://python.org>\n",
      "\n",
      "Penn State Class: <https://www.e-education.psu.edu/geog485/book/export>\n",
      "\n",
      "GIS Stack Exchange: <http://gis.stackexchange.com/>\n",
      "\n",
      "Blog: <http://pythongisandstuff.wordpress.com/category/arcgis/arcpy/>\n",
      "\n",
      "####Books:\n",
      "\n",
      "*Recommended:* Zandbergen, Paul A. 2013.  Python Scripting for ArcGIS.  ESRI Press.\n",
      "\n",
      "Pimpler, Eric.  2013. Programming ArcGIS 10.1 with Python Cookbook.  PacktPublishing.\n",
      "\n",
      "Free Book: Think Python.  <http://www.greenteapress.com/thinkpython/>\n"
     ]
    }
   ],
   "metadata": {}
  }
 ]
}