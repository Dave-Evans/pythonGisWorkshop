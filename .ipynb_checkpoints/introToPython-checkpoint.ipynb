{
 "metadata": {
  "name": "",
  "signature": "sha256:06bdfb028e1bd797f2e3140ee964f017e86b2c964ce9d5c8527dd54bf5c912fc"
 },
 "nbformat": 3,
 "nbformat_minor": 0,
 "worksheets": [
  {
   "cells": [
    {
     "cell_type": "markdown",
     "metadata": {},
     "source": [
      "Introduction to Python for ArcGIS 10.x\n",
      "============================\n",
      "----------------------------\n",
      "##Instructors:\n",
      ">Aaron Ruesch, Water Quality Modeler,<br/>\n",
      ">WDNR Water Quality Bureau<br/>\n",
      "><Aaron.Ruesch@wi.gov><br/>\n",
      "\n",
      ">Alison Mynsberge, GIS Analyst<br/>\n",
      ">Department of Agriculture, Trade, and Consumer Protection<br/>\n",
      "><Alison.Mynsberge@wi.gov><br/>\n",
      "\n",
      ">David Evans, Water Resources Management Specialist<br/>\n",
      ">WDNR Water Quality Bureau<br/>\n",
      "><DavidM.Evans@wi.gov><br/>"
     ]
    },
    {
     "cell_type": "markdown",
     "metadata": {},
     "source": [
      "![](http://2.bp.blogspot.com/-C5yU0U56ZpI/TWM4xczoLPI/AAAAAAAAAMM/0adig1lZsa0/s1600/python.jpg)"
     ]
    },
    {
     "cell_type": "markdown",
     "metadata": {},
     "source": [
      "##Syllabus\n",
      "\n",
      "###Introduction to Python (~2hrs)\n",
      "1. [The Basics](#the_basics)\n",
      "    1. [Variables, statements, types, functions, and variable assignment]()\n",
      "    1. [String Manipulation](#string_manipulation)\n",
      "    1. [Collections: lists, tuples, and dictionaries]()\n",
      "1. [Python background](#Python_background)\n",
      "1. [Python 101](#Python_101)\n",
      "\n",
      "###Geoprocessing with ArcPy (~2hrs)\n",
      "\n",
      "1. [Functional syntax and basic geoprocessing (*45 min.*)](#Functional_syntax_and_basic_geoprocessing)\n",
      "    1. [Looping](#Looping)\n",
      "    1. [Manipulation of strings](#Manipulation_of_strings)\n",
      "    1. [Manipulation of paths](#Manipulation_of_paths)\n",
      "    1. [Looping through paths to automate a task](#Looping_through_paths_to_automate_a_task)\n",
      "    1. [Exercise](#Exercise_4E)\n",
      "\n",
      "###Objects\n",
      "1. [Exploring arcpy \"objects\" (*45 min.*)](#Exploring_arcpy_objects)\n",
      "    1. [Using the `arcpy.Describe` object to inform geoprocessing](#Using_the_arcpy_Describe_object_to_inform_geoprocessing)\n",
      "    1. [Exercise](#Exercise_5C)\n",
      "\n",
      "### Arcpy.Mapping Module (~2hrs)\n",
      "1. [Python for mapping and graphics: examples (*45 min.*)](#Python_mapping_and_graphics_examples)\n",
      "    1. [Everyday uses of Python in ArcMap](#Daily_ArcMap_Python)\n",
      "    1. [Using the `arcpy.mapping` module](#Using_the_arcpy_mapping_module)\n",
      "    1. [The `arcpy.mapping` module in context](#The_arcpy_mapping_module_in_context)\n",
      "    1. [Exercise](#Exercise_8C)\n",
      "\n",
      "### [Basic database management (*30 min.*)](#Database_management)\n",
      "\n",
      "#### [Cursors (*45 min.*)](#Cursors)\n",
      "    1. [Search cursors](#Search_cursors)\n",
      "    1. [Update cursors](#Update_cursors)\n",
      "    1. [Insert cursors](#Insert_cursors)\n",
      "    1. [Exercise](#Exercise_6D)\n",
      "\n",
      "#### Given available time...\n",
      "\n",
      "1. [Creating custom geoprocessing tools (*15 min.*)](#Creating_custom_geoprocessing_tools)\n",
      "1. [Automated analytical graphics](#Automated_analytical_graphics)\n",
      "1. [Conclusion](#Conclusion)\n",
      "1. [Resources](#Resources)"
     ]
    },
    {
     "cell_type": "markdown",
     "metadata": {},
     "source": [
      "# Why do we need Python"
     ]
    },
    {
     "cell_type": "heading",
     "level": 1,
     "metadata": {},
     "source": [
      "<a name=\"the_basics\">The Basics</a>"
     ]
    },
    {
     "cell_type": "markdown",
     "metadata": {},
     "source": [
      "#### A Note Before Beginning\n",
      "\n",
      "Coding can (and probably will) be really frustrating.\n",
      "\n",
      "In the words of Douglas Adams:\n",
      "> ** Don't Panic.** \n",
      "\n",
      "This is a normal part of learning and especially coding. Know that there are many people out there in the same place and who have been through what you're going through. Resources and references:\n",
      "* Python Documentation (<https://www.python.org/>): sometimes a little to in-depth for basic problems, but often very helpful\n",
      "* Think Python (<http://www.greenteapress.com/thinkpython/>): a very helpful reference for programming in Python\n",
      "* Codecademy (<http://www.codecademy.com/>) or other free, online tutorial: there are some really great free tutorials online that walk you through the basics of Python. I learned the basics of Python at Codecademy and highly recommend it. \n",
      "* Have you Googled your issue or problem? (<http://stackoverflow.com/questions/tagged/python>): Python has millions (okay, I have no idea how many, but certainly many thousands) of users many of them very helpful and generous with their time, see message boards,  and forums.\n",
      "\n",
      "* I find the words of Allen Downey in *Think Python* comforting:\n",
      "\n",
      "*\"Programming, and especially debugging, sometimes brings out strong emotions. If you\n",
      "are struggling with a difficult bug, you might feel angry, despondent or embarrassed. Preparing for these reactions might help you deal with them. One approach is to think of the computer as an employee with certain strengths, like speed and precision, and particular\n",
      "weaknesses, like lack of empathy and inability to grasp the big picture. Your job is to be a good manager: find ways to take advantage of the strengths and mitigate the weaknesses.\"*\n",
      "\n",
      "<!-- <https://wiki.python.org/moin/OrganizationsUsingPython>-->"
     ]
    },
    {
     "cell_type": "markdown",
     "metadata": {},
     "source": [
      "\n",
      "#### IDLE\n",
      "* For this section we'll be using IDLE. IDLE is an Integrated Development Environment (IDE) (this just means that its an environment for writing and running a programming language) for Python. It is simple to use and comes with the basic distribution of Python. This is where we'll be entering code and scripts. There are many other, arguably better, IDEs for Python, but for simplicity we'll be using IDLE. (Note that IDLE is a play on the Monty Python actor Eric Idle's name and IDE. )\n",
      "\n",
      "* Note, later in this class we will be using the Python Windown within ArcGIS or ArcCatalog, this also an IDE.\n",
      "\n",
      "* To open IDLE, move to your Start button and type IDLE and it should automatically pop open.\n",
      "\n",
      "* This is where we'll begin typing our code and running scripts."
     ]
    },
    {
     "cell_type": "markdown",
     "metadata": {},
     "source": [
      "#### Values, Types, Statements, and Functions\n",
      "Beginning with some specialized terms to help us understand programming. We'll touch on a number of things and then move on to some hands on exercises to better understand these ideas.\n",
      "\n",
      "*Statements*: units of code that can be run in Python. A program or code is composed of statements. (Note here that the `In [number]` and `Out [same number]` indicate lines of Python code being run.)\n",
      "\n",
      "*Values*: one of the basic items that a progam works with.\n",
      "\n",
      "*Types*: each value belongs to different class, called types. (Also, note here that words with `this kind of font` denotes Python words, things that will be typed into the IDE.)\n",
      "Examples:\n",
      "\n",
      "| Value              | Type    | \n",
      "|--------------------|---------|\n",
      "| `\"Potato\"`           | String  |\n",
      "| `4`                  | Integer |\n",
      "| `\"Four\"`               | String  |\n",
      "| `[\"four\", \"potato\"]`   | List    |\n",
      "| `4.4`                | Float   |\n",
      "\n",
      "Every value belongs to a certain type. Certain types can be composed of other types, for example the list `[four, potato]` is composed of two string-type values (more on lists in a bit). Integers and floats are numeric types in Python, these can be used in math functions. String types can be thought of as a type consisting of letters or other characters that will be printed out to read by a human. The difference between `4` and `\"4\"` is the quotes, the quotes tell Python that we are going to be treating this four more like a letter than a number. (We can (try to) switch types with certain functions, but more on that later.)"
     ]
    },
    {
     "cell_type": "markdown",
     "metadata": {},
     "source": [
      "*Functions*: the things that do stuff. I find it helpful to compare it to spoken languages: values are to nouns as functions are to verbs. A common function is the `print` function, which prints statements and values. Another very useful function is the `type` function, which will tell you what type a certain value belongs to.\n",
      "There are also specialized functions that convert between types, `str()`, `int()`, `float()`, or `list()`. Mathematical and logical symbols are technically known as operators, symbols that represent computations, either math or logical evaluations, but can be thought of as functions from the standpoint that it does something to a value or variable. Other operators are equally as obvious:\n",
      "\n",
      "| Name of Operation  | Operator Symbol    | \n",
      "|--------------------|---------|\n",
      "| Exponent           | `**`  |\n",
      "| Multiplication             | `*` |\n",
      "| Division (float)         | `/`  |\n",
      "| Division (floor division)   | `//`    |\n",
      "| Addition                | `=`   |\n",
      "| Subtraction | `-` |\n",
      "| Less than (less than equal to) |  `<` (`<=`) |\n",
      "| Greater than  (greater than equal to)  | `>` (`>=`)  |\n",
      "| Equal to (or not equal to)    |  `==` (`!=`) |\n",
      "| Or | <code>&#124;</code>|\n",
      "| Modulo | `%`|\n",
      "\n",
      "When doing math in Python, the order of operations, PEMDAS (parenthesis, exponents, multiplication, division, addition, and subbtraction) apply."
     ]
    },
    {
     "cell_type": "markdown",
     "metadata": {},
     "source": [
      "Look at the statements below and try some out on your own computer. What are the functions? What are the values and what types of values are there?"
     ]
    },
    {
     "cell_type": "code",
     "collapsed": false,
     "input": [
      "4 + 5"
     ],
     "language": "python",
     "metadata": {},
     "outputs": [
      {
       "metadata": {},
       "output_type": "pyout",
       "prompt_number": 1,
       "text": [
        "9"
       ]
      }
     ],
     "prompt_number": 1
    },
    {
     "cell_type": "code",
     "collapsed": false,
     "input": [
      "'potato salad'"
     ],
     "language": "python",
     "metadata": {},
     "outputs": [
      {
       "metadata": {},
       "output_type": "pyout",
       "prompt_number": 2,
       "text": [
        "'potato salad'"
       ]
      }
     ],
     "prompt_number": 2
    },
    {
     "cell_type": "code",
     "collapsed": false,
     "input": [
      "print 'I love potato salad'\n",
      "print 4 * 5\n",
      "print [4,5,'mayonnaise']"
     ],
     "language": "python",
     "metadata": {},
     "outputs": []
    },
    {
     "cell_type": "code",
     "collapsed": false,
     "input": [
      "type(\"I love mayo\")"
     ],
     "language": "python",
     "metadata": {},
     "outputs": []
    },
    {
     "cell_type": "code",
     "collapsed": false,
     "input": [
      "type([\"What's the type of this value?\"])"
     ],
     "language": "python",
     "metadata": {},
     "outputs": []
    },
    {
     "cell_type": "code",
     "collapsed": false,
     "input": [
      "\"a string\" + \" another\" * 3"
     ],
     "language": "python",
     "metadata": {},
     "outputs": []
    },
    {
     "cell_type": "code",
     "collapsed": false,
     "input": [
      "another"
     ],
     "language": "python",
     "metadata": {},
     "outputs": []
    },
    {
     "cell_type": "markdown",
     "metadata": {},
     "source": [
      "What did the `type()` function return? `str` is Python for string, meaning a character value and denoted with quotes, either single or double. Notice the \"`NameError`\" we got when typing a string without quotes, what happened here? Try using `type()` on some other values. Note the differences between `type(4)` and `type(4.0)` and `type(\"4.0\")`. \n"
     ]
    },
    {
     "cell_type": "markdown",
     "metadata": {},
     "source": [
      "#### Variable assignment\n",
      "\n",
      "One of the most important and useful aspects of Python is variable assignment. A variable is term for an object that holds a value. This is accomplished with the equals sign, `=`. Think of it as a container for a value. This allows us to save the output of functions for later use. \n",
      "\n",
      "As an example:"
     ]
    },
    {
     "cell_type": "code",
     "collapsed": false,
     "input": [
      "a_new_variable = 'some text right here'\n",
      "a_number_variable = 42\n",
      "print a_new_variable\n",
      "print a_number_variable"
     ],
     "language": "python",
     "metadata": {},
     "outputs": []
    },
    {
     "cell_type": "code",
     "collapsed": false,
     "input": [
      "type(a_new_variable)"
     ],
     "language": "python",
     "metadata": {},
     "outputs": []
    },
    {
     "cell_type": "code",
     "collapsed": false,
     "input": [
      "type(a_number_variable)"
     ],
     "language": "python",
     "metadata": {},
     "outputs": []
    },
    {
     "cell_type": "code",
     "collapsed": false,
     "input": [
      "(a_number_variable + 6)"
     ],
     "language": "python",
     "metadata": {},
     "outputs": []
    },
    {
     "cell_type": "markdown",
     "metadata": {},
     "source": [
      "Variables hold on to the value they are given. It sounds obvious, but it's good practice to name your variables in a way that is representative of what value(s) they hold."
     ]
    },
    {
     "cell_type": "markdown",
     "metadata": {},
     "source": [
      "#### Brief Exercise\n",
      "Try some basic variable assignment and manipulate them with the math operators. \n",
      "\n"
     ]
    },
    {
     "cell_type": "markdown",
     "metadata": {},
     "source": [
      "#### Values, Types, Statements, Functions, and Assignments\n",
      "\n",
      "This is to get you familiar with IDLE and get aquainted with these basics. Open IDLE if you haven't yet.\n",
      "Try doing some basic math, printing some strings, assigning values to objects. Go ahead and get some errors and make mistakes. \n",
      "What happens when you type the following? Why? What are the types? What are the variables? What are the variable's values?\n",
      "\n",
      "* `a_number = 2`\n",
      "* `print a_number`\n",
      "* `type(a_number)`\n",
      "* `a_number * 2`\n",
      "* `a_number` \n",
      "\n",
      "* `two = \"2\" #note the quotes here`\n",
      "* `type(two)`\n",
      "* `two * 10`\n",
      "* `two + \"one\"`\n",
      "\n",
      "* `a_number + two`\n",
      "\n",
      "Find anything odd? This is a good introduction to what is called string manipulation and is an important part of programming.\n",
      "The first lines create a variable called `a_number` with a value of 2 and of an integer type (shown as `<type 'int'>`). When we multiply this by another `2` we get the predictable result `4`. \n",
      "\n",
      "What about the second block of code? We create a variable called `two`, a string type variable, with a value of `\"2\"`. What happens when we multiply a string by 10? We get that string repeated 10 times.  How about when we add the string `\"one\"` to the `two` variable? We end up with a string, a string that is the results of mashing this two strings together, `2one`. \n",
      "\n",
      "And what happened with we tried to add our two variables together? We can mash two strings together (technically known as 'concatenating' strings), but we can't mash a string and an integer type together. We can do this, but we need to first convert that integer to a string or vice versa; we need to specifically tell Python what we want it to do, which depends on our goals:"
     ]
    },
    {
     "cell_type": "code",
     "collapsed": false,
     "input": [
      "a_number = 2\n",
      "two = \"2\"\n",
      "print a_number + int(two)\n",
      "# or \n",
      "print str(a_number) + two\n"
     ],
     "language": "python",
     "metadata": {},
     "outputs": [
      {
       "output_type": "stream",
       "stream": "stdout",
       "text": [
        "4\n",
        "22\n"
       ]
      }
     ],
     "prompt_number": 3
    },
    {
     "cell_type": "markdown",
     "metadata": {},
     "source": [
      "Note that we're using the `print` function here to make sure that Python will print out those values. If we were only running code line by line, we wouldn't necessarily need the `print` function, but it's good practice to be as specific as possible when telling Python what we want done."
     ]
    },
    {
     "cell_type": "heading",
     "level": 1,
     "metadata": {},
     "source": [
      "<a name=\"string_manipulation\">String Manipulation</a>"
     ]
    },
    {
     "cell_type": "markdown",
     "metadata": {},
     "source": [
      "Strings have been mentioned a bit already but we need to go into more depth. The reason for this depth is because when we want to work with files on our computer, whether than means reprojecting a shapefile or deleting a text file, we will be working with file paths which are strings. General properties of strings include concatenation and slicing:"
     ]
    },
    {
     "cell_type": "code",
     "collapsed": false,
     "input": [
      "a_string = \"Homer Simpson\"\n",
      "a_string"
     ],
     "language": "python",
     "metadata": {},
     "outputs": []
    },
    {
     "cell_type": "code",
     "collapsed": false,
     "input": [
      "mr_and_mrs = \"Marge and \" + a_string\n",
      "mr_and_mrs"
     ],
     "language": "python",
     "metadata": {},
     "outputs": []
    },
    {
     "cell_type": "code",
     "collapsed": false,
     "input": [
      "a_string[0:5]"
     ],
     "language": "python",
     "metadata": {},
     "outputs": []
    },
    {
     "cell_type": "code",
     "collapsed": false,
     "input": [
      "a_string[5:]"
     ],
     "language": "python",
     "metadata": {},
     "outputs": []
    },
    {
     "cell_type": "markdown",
     "metadata": {},
     "source": [
      "Strings are can be thought of as a sequence of characters (either numeric or character) stored together. We can also pull out some of those characters with a technique known as *slicing*. We can reference a character by its index in the string. In Python this indexing starts with zero.\n",
      "\n",
      "|0|1|2|3|4|5|6|7|8|9|10|11|12|\n",
      "|--|--|--|--|--|--|--|--|--|--|--|--|--|--|\n",
      " |H|o|m|e|r| |S|i|m|p|s|o|n|\n",
      " \n",
      " Notice that to index a run of numbers, use the colon (from:to). A useful function for indexing the last element of string sequence is the `len()` function. This function returns the length of the string, it answers how many characters does it contain. So if we want to index the last element of the string sequence, we would use:"
     ]
    },
    {
     "cell_type": "code",
     "collapsed": false,
     "input": [
      "print \"The length equals\", len(a_string)\n",
      "print \"The last character is\"\n",
      "a_string[len(a_string)]"
     ],
     "language": "python",
     "metadata": {},
     "outputs": []
    },
    {
     "cell_type": "markdown",
     "metadata": {},
     "source": [
      "Whoops! Remember, Python starts its indexing at 0 and so we need to subtract one from the total length to get the index of the last element."
     ]
    },
    {
     "cell_type": "code",
     "collapsed": false,
     "input": [
      "print \"The length equals\", len(a_string)\n",
      "print \"The last character is\"\n",
      "a_string[len(a_string)-1]"
     ],
     "language": "python",
     "metadata": {},
     "outputs": []
    },
    {
     "cell_type": "markdown",
     "metadata": {},
     "source": [
      "As said previously, strings are sequences of characters and so are *iterable*, that is we can use them in `for` loops. More on this later, but for now, a quick example using Homer simpson and the `print` statement. This looping is not possible for integers or floats."
     ]
    },
    {
     "cell_type": "code",
     "collapsed": false,
     "input": [
      "for letter in a_string:\n",
      "    print \"This in Homer's name:\", letter"
     ],
     "language": "python",
     "metadata": {},
     "outputs": []
    },
    {
     "cell_type": "markdown",
     "metadata": {},
     "source": [
      " We've mentioned strings are a type of value and we've seen that they are created with putting quotes around letters or numbers or with a call to the `str()` function. As an example, we'll take a theoretical name of a vector file of Dane county, called `wisc_cnty_dane.shp`. We'll assign it to a variable for ease."
     ]
    },
    {
     "cell_type": "code",
     "collapsed": false,
     "input": [
      "file_county = \"wisc_cnty_dane.shp\"\n",
      "print file_county\n",
      "print type(file_county)"
     ],
     "language": "python",
     "metadata": {},
     "outputs": []
    },
    {
     "cell_type": "markdown",
     "metadata": {},
     "source": [
      "String variables can be changed, altered, and merged. For example, if we want to reference this file in a function, we might need the entire path of that file, that is where it is stored; think of the full file path as the full name of the file. We'll assume that our file is stored in a directory (folder) of other county files on our C drive, which we can find by copy pasting the full path in the top of the Windows Explorer window, for example \"C:\\\\gis_data\\\\county_files\". To create the full file path, we'll try to concatenate or merge the two strings together, first with what we might have copy/pasted from Windows Explorer and then the rest of our file path: "
     ]
    },
    {
     "cell_type": "code",
     "collapsed": false,
     "input": [
      "\"C:\\gis_data\\county_files\" + file_county"
     ],
     "language": "python",
     "metadata": {},
     "outputs": []
    },
    {
     "cell_type": "markdown",
     "metadata": {},
     "source": [
      "Oh shoot, we forgot another slash to tell it that our county file is within the directory. "
     ]
    },
    {
     "cell_type": "code",
     "collapsed": false,
     "input": [
      "\"C:\\gis_data\\county_files\\\" + file_county"
     ],
     "language": "python",
     "metadata": {},
     "outputs": []
    },
    {
     "cell_type": "markdown",
     "metadata": {},
     "source": [
      "Hmmm, what happened?  A `string literal`? What we haven't told you is that Python uses the backslash as an escape character. It looks like Python put an extra backslash in our path and there should be a slash showing that our Dane county file is in the `county_files` folder. Python was constructed to use only forward slashs (`/`) in file paths. The backslash (`\\\\`) is a character that tells Python not to evaluate that character as it normally would, this is referred to as an escape character or escaping certain characters. Suffice it to say that Python wants to see a forward slash in file paths and Windows used backslashs. What Python has done is to automatically add a *second* backslash in the string object, telling itself that it is really a backslash, it is atually *escaping* the backslash. (If we were to use the `print` function on this string value, we would not see the double backslashing because `print` is making a pretty output for us to read, try `\"\\t a tab\"` and then `print \"\\t a tab\"` to see the difference. The `\\t` is a tab, here we are escaping the 't' to mean not a real 't', but a tab.)\n",
      "\n",
      "Back to our example, the double backslashes here mean that Python understands we mean to separate the directories from each other but its interpreting the `\\\"` as if we're saying, don't look at those double quotes as ending or closing our string. Its good practice to take steps to make sure that Python will correctly read these strings as file paths. One could use only forward slashes when working with Python (this could be an issue if you are writing commands to be passed to the Windows command shell) or use an \"`r`\" before the file path, this tells Python to interpret this as a raw strings, e.g., r\"C:\\gis_data\\county_files\". These steps ensure that our file paths are read correctly. \n",
      "\n",
      "Let's take the first option and use only forward slashes. "
     ]
    },
    {
     "cell_type": "code",
     "collapsed": false,
     "input": [
      "\"C:/gis_data/county_files/\" + file_county"
     ],
     "language": "python",
     "metadata": {},
     "outputs": []
    },
    {
     "cell_type": "markdown",
     "metadata": {},
     "source": [
      "Okay, we've got a valid path to our shapefile. If we assign this to a variable, we can hold onto this information for use in a function. \n"
     ]
    },
    {
     "cell_type": "markdown",
     "metadata": {},
     "source": [
      "## Methods as introduced through strings\n",
      "    * Intro\n",
      "    *`.split()`\n",
      "    *`.replace()`\n",
      "    * conclusion: we've all got methods"
     ]
    },
    {
     "cell_type": "markdown",
     "metadata": {},
     "source": [
      "## Other Sequences\n",
      "\n",
      "We've seen how strings are sequences of characters. A different kind of sequence is a `list`, this allows *collections* of values to be held in just one variable. These can be objects can be strings, integers, floats, and other lists.\n",
      "\n",
      "A *list* is created using square brackets to mark the beginning `[` and the end `]` of the list, with commas separating the items in the list. It can also be created with a call to function `list()`, which takes a variable and converts it to a list"
     ]
    },
    {
     "cell_type": "code",
     "collapsed": false,
     "input": [
      "a_list = [\"Adams\", \"Juneau\", \"Waushara\", \"Clark\", \"Pepin\", \"Dane\"]\n",
      "print a_list"
     ],
     "language": "python",
     "metadata": {},
     "outputs": []
    },
    {
     "cell_type": "code",
     "collapsed": false,
     "input": [
      "b_list = ['fourteen', 15, 'another string', ['meatball', 'albondigas']]\n",
      "print b_list"
     ],
     "language": "python",
     "metadata": {},
     "outputs": []
    },
    {
     "cell_type": "code",
     "collapsed": false,
     "input": [
      "list_from_string = list(a_string)\n",
      "print list_from_string\n",
      "# or as we've seen previously\n",
      "for letter in list_from_string:\n",
      "    print letter"
     ],
     "language": "python",
     "metadata": {},
     "outputs": []
    },
    {
     "cell_type": "markdown",
     "metadata": {},
     "source": [
      "These are a list of county names and an example of a list with six integers, two strings, and an example making a list from a string with a call to `list()`.\n",
      "\n",
      "Try making other kinds of lists, empty lists, lists with numbers and characters, lists within lists, try indexing a list like you would a string.\n",
      "\n",
      "(There are other collection objects, these are dictionaries and tuples. A tuple is like a list, but it cannot be changed, and is created with parentheses instead of brackets. A dictionary stores objects for easy reference and can be useful when certain information needs to be called from a collection. For this class we will only work with lists.)\n",
      "\n",
      "Lists can be assigned to variables, just like other values, and then they can be used again, either as a list or by referencing the variables or values stored within the list."
     ]
    },
    {
     "cell_type": "heading",
     "level": 1,
     "metadata": {},
     "source": [
      "`for` loops"
     ]
    },
    {
     "cell_type": "markdown",
     "metadata": {},
     "source": [
      "Now we'll get into the fun stuff. We've seen a couple examples of `for` loops, but let's go into some detail.\n",
      "`for` loops are used to move through a sequence, element by element. Using our `a_list` as an example, we'll loop through each string (each county) and print it out. "
     ]
    },
    {
     "cell_type": "code",
     "collapsed": false,
     "input": [
      "for i in a_list:\n",
      "    print i"
     ],
     "language": "python",
     "metadata": {},
     "outputs": []
    },
    {
     "cell_type": "markdown",
     "metadata": {},
     "source": [
      "You can see that it starts with `for`, then a generic variable name, this doesn't have to mean anything, but is often named something indicative of what you are looping through. (`i` is often used as a generic variable in `for` loops as well.) \n",
      "\n",
      "When would you use a `for` loop? Think of it as a sophisticated copy/paste. Let's say we wanted to know the surface area of spheres of increasing radii? We'll first create something we can iterate over, and then one by one, calculate the surface area."
     ]
    },
    {
     "cell_type": "code",
     "collapsed": false,
     "input": [
      "radii = [0.1,0.5,1,1.5,2,5]\n",
      "for r in radii:\n",
      "    print 4*(3.14)*(r**2)"
     ],
     "language": "python",
     "metadata": {},
     "outputs": []
    },
    {
     "cell_type": "markdown",
     "metadata": {},
     "source": [
      "Great, but the only record we have of this is what's printed out, lets try assigned the surface area to a list."
     ]
    },
    {
     "cell_type": "code",
     "collapsed": false,
     "input": [
      "sa = [] # instatiating an empty list\n",
      "for r in radii:\n",
      "    surf_area = 4*(3.14)*(r**2) # notice this step\n",
      "    sa.append(surf_area)\n",
      "print sa"
     ],
     "language": "python",
     "metadata": {},
     "outputs": []
    },
    {
     "cell_type": "markdown",
     "metadata": {},
     "source": [
      "Notice our use of the `.append()` method. "
     ]
    },
    {
     "cell_type": "markdown",
     "metadata": {},
     "source": [
      "Some things to make this cleaner: using the math module, making a function."
     ]
    },
    {
     "cell_type": "code",
     "collapsed": false,
     "input": [],
     "language": "python",
     "metadata": {},
     "outputs": []
    },
    {
     "cell_type": "code",
     "collapsed": false,
     "input": [],
     "language": "python",
     "metadata": {},
     "outputs": []
    },
    {
     "cell_type": "markdown",
     "metadata": {},
     "source": [
      "Moving back to the introduction to strings, imagine that we have these county files, each named for the county in the directory mentioned above, \"C:/gis_data/county_files/\"."
     ]
    },
    {
     "cell_type": "heading",
     "level": 2,
     "metadata": {},
     "source": [
      "Briefly, some Logic"
     ]
    },
    {
     "cell_type": "markdown",
     "metadata": {},
     "source": [
      "We'll now rip off an example from *Think Python* by Dr. Allen Downey in order to introduce logic in Python. In this example challenges the reader to to print out the name of some ducks in a book. The ducks names are Jack, Kack, Lack, Mack, Ouack, Pack, and Quack. Our task is it print out the names of each duck. We'll start with the string to iterate through, `prefixes = jklmnopq`, from  there its pretty easy to create `for` loop that will cycle through these each prefix and then we can just paste \"ack\" onto it. "
     ]
    },
    {
     "cell_type": "code",
     "collapsed": false,
     "input": [
      "prefixes = \"jklmnopq\"\n",
      "for letter in prefixes:\n",
      "    print letter + \"ack\""
     ],
     "language": "python",
     "metadata": {},
     "outputs": []
    },
    {
     "cell_type": "markdown",
     "metadata": {},
     "source": [
      "## Other items to discuss\n",
      "\n",
      "### Collections \n",
      "Mention'em all, but in detail lists\n",
      "\n",
      "### String Manipulation\n",
      "\n",
      "### Logic\n",
      "if/else\n",
      "\n",
      "### For loops"
     ]
    },
    {
     "cell_type": "code",
     "collapsed": false,
     "input": [
      "import math\n",
      "radii = range(1,10)\n",
      "for r in radii:\n",
      "    4 * math.pi * \n"
     ],
     "language": "python",
     "metadata": {},
     "outputs": []
    },
    {
     "cell_type": "code",
     "collapsed": false,
     "input": [
      "import os, urllib, sys\n",
      "url = 'https://raw.github.com/asruesch/pythonGisWorkshop/master/workshopEnv.py'\n",
      "home = os.path.expanduser('~')\n",
      "wd = home + '/pythonWorkshopWLIA2014'\n",
      "if not os.path.exists(wd):\n",
      "    os.makedirs(wd)\n",
      "urllib.urlretrieve(url, wd + '/workshopEnv.py')\n",
      "sys.path.append(wd)\n",
      "import workshopEnv\n",
      "from workshopEnv import *"
     ],
     "language": "python",
     "metadata": {},
     "outputs": []
    },
    {
     "cell_type": "markdown",
     "metadata": {},
     "source": [
      "The above script automatically downloads a dataset that we'll be using for the rest of the class and unzips it into your home directory (e.g., `C:/Users/username`). If at anytime you want to start from scratch, execute the following commands:"
     ]
    },
    {
     "cell_type": "code",
     "collapsed": false,
     "input": [
      "# This will clone the original copy of the data\n",
      "reload(workshopEnv)\n",
      "# This will redefine all variables\n",
      "from workshopEnv import *"
     ],
     "language": "python",
     "metadata": {},
     "outputs": []
    },
    {
     "cell_type": "markdown",
     "metadata": {},
     "source": [
      ">**Note:** Instructors will also have the class data available on a memory stick if the above script doesn't work for you."
     ]
    },
    {
     "cell_type": "markdown",
     "metadata": {},
     "source": [
      "###<a name=\"Functional_syntax_and_basic_geoprocessing\">4. Functional syntax and basic geoprocessing</a>"
     ]
    },
    {
     "cell_type": "markdown",
     "metadata": {},
     "source": [
      "####<a name=\"Nuance in string manipulation\">4.B. Manipulation of strings</a>\n",
      "\n",
      "We've covered a few basic concepts in Python. Now it's time to put them to use. But first, some important nuances about strings. "
     ]
    },
    {
     "cell_type": "code",
     "collapsed": false,
     "input": [
      "print \"\"a\" is a letter of the alphabet\""
     ],
     "language": "python",
     "metadata": {},
     "outputs": []
    },
    {
     "cell_type": "markdown",
     "metadata": {},
     "source": [
      "That will not work because Python reads this as an empty string followed by the **object**, `a`, followed by the trailing string. We can better communicate this to Python by using both single and double quotes."
     ]
    },
    {
     "cell_type": "code",
     "collapsed": false,
     "input": [
      "print '\"a\" is a letter of the alphabet'"
     ],
     "language": "python",
     "metadata": {},
     "outputs": []
    },
    {
     "cell_type": "markdown",
     "metadata": {},
     "source": [
      "Alternatively, we can use the backslash as an escape character to communicate to Python that the quotes should be treated as literal. This in fact will allow us to use both single and double quotes within a string, which will become important as you'll see later in this module."
     ]
    },
    {
     "cell_type": "code",
     "collapsed": false,
     "input": [
      "print '\"a\" is a \\'letter\\' of the alphabet'"
     ],
     "language": "python",
     "metadata": {},
     "outputs": []
    },
    {
     "cell_type": "markdown",
     "metadata": {},
     "source": [
      "####<a name=\"Manipulation_of_paths\">4.C. Manipulation of paths</a>\n",
      "\n",
      "Python has a number of handy additional libraries that aren't immediately available to users when you open a Python window. But we can easily `import` them to extend the functionality available to us. When it comes to file management, an extremely useful library that comes with the standard distribution of Python is the `os` module."
     ]
    },
    {
     "cell_type": "code",
     "collapsed": false,
     "input": [
      "import os\n",
      "os.listdir('.')\n",
      "\n",
      "home = os.path.expanduser(\"~\")\n",
      "print home\n",
      "docs = home + '/Documents'\n",
      "print docs"
     ],
     "language": "python",
     "metadata": {},
     "outputs": [
      {
       "output_type": "stream",
       "stream": "stdout",
       "text": [
        "C:\\Users\\ruesca\n",
        "C:\\Users\\ruesca/Documents\n"
       ]
      }
     ],
     "prompt_number": 2
    },
    {
     "cell_type": "markdown",
     "metadata": {},
     "source": [
      ">**Note:** There is an important distinction between forward and backslashes. Windows is the only system that uses backslashes in path definition. Most everything else (e.g., Mac, *nix) use forward slashes according to POSIX standard. Because Python was originally written to be POSIX-compliant, it uses forward slashes natively. To use a backslash in a string, use two backslashes."
     ]
    },
    {
     "cell_type": "code",
     "collapsed": false,
     "input": [
      "windowsPath = 'C:\\\\Users\\\\ruesca'\n",
      "print windowsPath"
     ],
     "language": "python",
     "metadata": {},
     "outputs": [
      {
       "output_type": "stream",
       "stream": "stdout",
       "text": [
        "C:\\Users\\ruesca\n"
       ]
      }
     ],
     "prompt_number": 7
    },
    {
     "cell_type": "markdown",
     "metadata": {},
     "source": [
      "Or, you can create a \"raw\" string that treats every character as literal. Many ArcGIS users (ergo Windows users) make this a habit when dealing with file paths."
     ]
    },
    {
     "cell_type": "code",
     "collapsed": false,
     "input": [
      "windowsPath = r'C:\\Users\\ruesca'\n",
      "print windowsPath"
     ],
     "language": "python",
     "metadata": {},
     "outputs": [
      {
       "output_type": "stream",
       "stream": "stdout",
       "text": [
        "C:\\Users\\ruesca\n"
       ]
      }
     ],
     "prompt_number": 8
    },
    {
     "cell_type": "markdown",
     "metadata": {},
     "source": [
      "If the `r` is not placed in front of the string, Python will interpret your string in very strange ways."
     ]
    },
    {
     "cell_type": "code",
     "collapsed": false,
     "input": [
      "# Notice that the backslashes are only printed once.\n",
      "# The first one is considered by the Python interpreter to be an 'escape' character.\n",
      "# An escape character tells the interpreter to consider the next character to be literal.\n",
      "\n",
      "windowsPath = 'C:\\Users\\ruesca'\n",
      "print windowsPath\n",
      "\n",
      "# Hmmm, that's not right.\n",
      "# Python interprets '\\U' and '\\r' as single characters with special meaning.\n",
      "# I have no idea what those meanings are..."
     ],
     "language": "python",
     "metadata": {},
     "outputs": [
      {
       "output_type": "stream",
       "stream": "stdout",
       "text": [
        "C:\\Users\r",
        "uesca\n"
       ]
      }
     ],
     "prompt_number": 9
    },
    {
     "cell_type": "markdown",
     "metadata": {},
     "source": [
      "To fix the backslashes, use the `replace()` method. A **method** is a **function** embedded within an **object** that can only be executed on that object or an object defined in the same way. For example, any object defined as a string data type has the same set of methods. To view methods for an object, you can type the object into a Python interpreter followed by a dot, then hit the tab button. Give it a try..."
     ]
    },
    {
     "cell_type": "code",
     "collapsed": false,
     "input": [
      "# Let's replace the backslashes with forward slashes using the replace() method\n",
      "# You can redefine a variable instead of creating a new one\n",
      "\n",
      "print home\n",
      "home = home.replace('\\\\', '/')\n",
      "print home"
     ],
     "language": "python",
     "metadata": {},
     "outputs": [
      {
       "output_type": "stream",
       "stream": "stdout",
       "text": [
        "C:\\Users\\ruesca\n",
        "C:/Users/ruesca\n"
       ]
      }
     ],
     "prompt_number": 10
    },
    {
     "cell_type": "markdown",
     "metadata": {},
     "source": [
      "The [`os.path`](http://docs.python.org/2/library/os.path.html) module is the primary utility for manipulating paths. Try typing `os.path.` and hit the tab button. You should see a long list of embedded objects including the `expanduser()` function that we used earlier. Most of these embedded objects are **function** types, which means they will **do** something given a set of **arguments** contained in parentheses following the function name."
     ]
    },
    {
     "cell_type": "code",
     "collapsed": false,
     "input": [
      "print 'home: ' + home\n",
      "print 'basename: ' + os.path.basename(home)\n",
      "print 'dirname: ' + os.path.dirname(home)\n",
      "print 'split: ' + str(os.path.split(home))\n",
      "print 'exists: ' + str(os.path.exists(home))"
     ],
     "language": "python",
     "metadata": {},
     "outputs": [
      {
       "output_type": "stream",
       "stream": "stdout",
       "text": [
        "home: C:/Users/ruesca\n",
        "basename: ruesca\n",
        "dirname: C:/Users\n",
        "split: ('C:/Users', 'ruesca')\n",
        "exists: True\n"
       ]
      }
     ],
     "prompt_number": 11
    },
    {
     "cell_type": "markdown",
     "metadata": {},
     "source": [
      "####<a name=\"Looping_through_paths_to_automate_a_task\">4.D. Looping through paths to automate a task</a>"
     ]
    },
    {
     "cell_type": "markdown",
     "metadata": {},
     "source": [
      "First, let's try using the `env` module, which is a sub-module of `arcpy`. The `env` module contains all functionality that you would normally find in the 'Environment settings' of a geoprocessing tool, and then some.<a name=\"loopingExample\"></a>"
     ]
    },
    {
     "cell_type": "code",
     "collapsed": false,
     "input": [
      "import arcpy\n",
      "# To use the env module, we can use dot notation to access embedded objects\n",
      "print arcpy.env.workspace\n",
      "\n",
      "# Or, to make the code more readable, we can import the whole module\n",
      "from arcpy import env\n",
      "print env.workspace"
     ],
     "language": "python",
     "metadata": {},
     "outputs": [
      {
       "output_type": "stream",
       "stream": "stdout",
       "text": [
        "None\n",
        "None\n"
       ]
      }
     ],
     "prompt_number": 4
    },
    {
     "cell_type": "code",
     "collapsed": false,
     "input": [
      "# Define a variable called fgdb that points to the geodatabase for the workshop\n",
      "fgdb = wd + '/WLIA_pythonclass_data.gdb'\n",
      "\n",
      "# Set the workspace environment variable to the workshop geodatabase.\n",
      "# This will give us access to its datasets without having to define the full path\n",
      "arcpy.env.workspace = fgdb\n",
      "\n",
      "# List the datasets in the geodatabase\n",
      "feature_classes = arcpy.ListFeatureClasses()\n",
      "print 'Feature classes: ' + str(feature_classes)\n",
      "rasters = arcpy.ListRasters()\n",
      "print 'Rasters: ' + str(rasters)"
     ],
     "language": "python",
     "metadata": {},
     "outputs": [
      {
       "output_type": "stream",
       "stream": "stdout",
       "text": [
        "Feature classes: [u'Roads_Census2k', u'OpenWater', u'MCDs', u'Soils', u'Streams']\n",
        "Rasters: [u'DEM30m']\n"
       ]
      }
     ],
     "prompt_number": 5
    },
    {
     "cell_type": "markdown",
     "metadata": {},
     "source": [
      ">**Note:** the 'u' in front of each string denotes that that string is a [unicode](http://en.wikipedia.org/wiki/Unicode) type string. This just tells the computer to handle the text in a specific way. For most purposes outside of advanced text handling, this definition is unimportant. "
     ]
    },
    {
     "cell_type": "markdown",
     "metadata": {},
     "source": [
      "We can also concatenate lists using the `+` operator. This will append an additional item to a list."
     ]
    },
    {
     "cell_type": "code",
     "collapsed": false,
     "input": [
      "# Let's create a complete list of all our datasets, feature classes and rasters.\n",
      "datasets = feature_classes + rasters\n",
      "print datasets"
     ],
     "language": "python",
     "metadata": {},
     "outputs": [
      {
       "output_type": "stream",
       "stream": "stdout",
       "text": [
        "[u'Roads_Census2k', u'OpenWater', u'MCDs', u'Soils', u'Streams', u'DEM30m']\n"
       ]
      }
     ],
     "prompt_number": 6
    },
    {
     "cell_type": "markdown",
     "metadata": {},
     "source": [
      "Let's try a single geoprocessing task before we get too fancy."
     ]
    },
    {
     "cell_type": "code",
     "collapsed": false,
     "input": [
      "# Pull the 0th (i.e., Pythonic \"first\") element out of the list of feature classes\n",
      "roads = feature_classes[0]\n",
      "# Define an output path in the file geodatabase\n",
      "prj_roads = fgdb + '/prj_roads'\n",
      "# Everybody needs to project data\n",
      "arcpy.Project_management(roads,\n",
      "    prj_roads,\n",
      "    arcpy.SpatialReference(4326),\n",
      "    \"NAD_1983_HARN_To_WGS_1984_2\")\n",
      "print arcpy.Exists(prj_roads)"
     ],
     "language": "python",
     "metadata": {},
     "outputs": [
      {
       "output_type": "stream",
       "stream": "stdout",
       "text": [
        "True\n"
       ]
      }
     ],
     "prompt_number": 15
    },
    {
     "cell_type": "markdown",
     "metadata": {},
     "source": [
      "It works. Let's get fancy now. Let's say we're from Cross Plains. We were given this dataset of the Cross Plains area, but we only care about what goes on within the city limits. Let's clip all the data to the city limits. If we were going to do this in ArcGIS Desktop, we would intersect each dataset with the Cross Plains boundary, but first we would have to either export the Cross Plains feature from the MCDs feature class or simply select it before running the intersection."
     ]
    },
    {
     "cell_type": "code",
     "collapsed": false,
     "input": [
      "# First, select the Cross Plains boundary\n",
      "# To do this, we have to first create a 'layer'\n",
      "# Think of this as though you were \"adding data\" in ArcGIS\n",
      "arcpy.MakeFeatureLayer_management('MCDs', 'MCD_layer')\n",
      "\n",
      "# Then select the Cross Plains feature\n",
      "arcpy.SelectLayerByAttribute_management('MCD_layer', 'NEW_SELECTION', '\"CVT_TYPE\" = \\'V\\'')\n",
      "select_count = int(arcpy.GetCount_management('MCD_layer').getOutput(0))\n",
      "print select_count"
     ],
     "language": "python",
     "metadata": {},
     "outputs": [
      {
       "output_type": "stream",
       "stream": "stdout",
       "text": [
        "1\n"
       ]
      }
     ],
     "prompt_number": 16
    },
    {
     "cell_type": "markdown",
     "metadata": {},
     "source": [
      "Notice the third argument of the selection code. This is the expression that defines the attribute selection. ArcGIS attribute selections within text fields require that the field name is enclosed in double quotes and the value within single quotes."
     ]
    },
    {
     "cell_type": "code",
     "collapsed": false,
     "input": [
      " print '\"CVT_TYPE\" = \\'V\\''"
     ],
     "language": "python",
     "metadata": {},
     "outputs": [
      {
       "output_type": "stream",
       "stream": "stdout",
       "text": [
        "\"CVT_TYPE\" = 'V'\n"
       ]
      }
     ],
     "prompt_number": 17
    },
    {
     "cell_type": "markdown",
     "metadata": {},
     "source": [
      "Now that we have Cross Plains selected, we can start clipping. Let's put everything together to automate all the clipping."
     ]
    },
    {
     "cell_type": "code",
     "collapsed": false,
     "input": [
      "for dataset in datasets:\n",
      "    output = dataset + '_clip'\n",
      "    print output\n",
      "    arcpy.Intersect_analysis(['MCD_layer', dataset], output)"
     ],
     "language": "python",
     "metadata": {},
     "outputs": [
      {
       "output_type": "stream",
       "stream": "stdout",
       "text": [
        "Roads_Census2k_clip\n",
        "OpenWater_clip"
       ]
      },
      {
       "output_type": "stream",
       "stream": "stdout",
       "text": [
        "\n",
        "MCDs_clip"
       ]
      },
      {
       "output_type": "stream",
       "stream": "stdout",
       "text": [
        "\n",
        "Soils_clip"
       ]
      },
      {
       "output_type": "stream",
       "stream": "stdout",
       "text": [
        "\n",
        "Streams_clip"
       ]
      },
      {
       "output_type": "stream",
       "stream": "stdout",
       "text": [
        "\n",
        "DEM30m_clip"
       ]
      },
      {
       "output_type": "stream",
       "stream": "stdout",
       "text": [
        "\n"
       ]
      },
      {
       "ename": "ExecuteError",
       "evalue": "Failed to execute. Parameters are not valid.\nERROR 000732: Input Features: Dataset MCD_layer #;DEM30m # does not exist or is not supported\nFailed to execute (Intersect).\n",
       "output_type": "pyerr",
       "traceback": [
        "\u001b[1;31m---------------------------------------------------------------------------\u001b[0m\n\u001b[1;31mExecuteError\u001b[0m                              Traceback (most recent call last)",
        "\u001b[1;32m<ipython-input-18-2e0631522a47>\u001b[0m in \u001b[0;36m<module>\u001b[1;34m()\u001b[0m\n\u001b[0;32m      2\u001b[0m     \u001b[0moutput\u001b[0m \u001b[1;33m=\u001b[0m \u001b[0mdataset\u001b[0m \u001b[1;33m+\u001b[0m \u001b[1;34m'_clip'\u001b[0m\u001b[1;33m\u001b[0m\u001b[0m\n\u001b[0;32m      3\u001b[0m     \u001b[1;32mprint\u001b[0m \u001b[0moutput\u001b[0m\u001b[1;33m\u001b[0m\u001b[0m\n\u001b[1;32m----> 4\u001b[1;33m     \u001b[0marcpy\u001b[0m\u001b[1;33m.\u001b[0m\u001b[0mIntersect_analysis\u001b[0m\u001b[1;33m(\u001b[0m\u001b[1;33m[\u001b[0m\u001b[1;34m'MCD_layer'\u001b[0m\u001b[1;33m,\u001b[0m \u001b[0mdataset\u001b[0m\u001b[1;33m]\u001b[0m\u001b[1;33m,\u001b[0m \u001b[0moutput\u001b[0m\u001b[1;33m)\u001b[0m\u001b[1;33m\u001b[0m\u001b[0m\n\u001b[0m",
        "\u001b[1;32mC:\\Program Files (x86)\\ArcGIS\\Desktop10.1\\arcpy\\arcpy\\analysis.py\u001b[0m in \u001b[0;36mIntersect\u001b[1;34m(in_features, out_feature_class, join_attributes, cluster_tolerance, output_type)\u001b[0m\n\u001b[0;32m    310\u001b[0m         \u001b[1;32mreturn\u001b[0m \u001b[0mretval\u001b[0m\u001b[1;33m\u001b[0m\u001b[0m\n\u001b[0;32m    311\u001b[0m     \u001b[1;32mexcept\u001b[0m \u001b[0mException\u001b[0m\u001b[1;33m,\u001b[0m \u001b[0me\u001b[0m\u001b[1;33m:\u001b[0m\u001b[1;33m\u001b[0m\u001b[0m\n\u001b[1;32m--> 312\u001b[1;33m         \u001b[1;32mraise\u001b[0m \u001b[0me\u001b[0m\u001b[1;33m\u001b[0m\u001b[0m\n\u001b[0m\u001b[0;32m    313\u001b[0m \u001b[1;33m\u001b[0m\u001b[0m\n\u001b[0;32m    314\u001b[0m \u001b[1;33m@\u001b[0m\u001b[0mgptooldoc\u001b[0m\u001b[1;33m(\u001b[0m\u001b[1;34m'SpatialJoin_analysis'\u001b[0m\u001b[1;33m,\u001b[0m \u001b[0mNone\u001b[0m\u001b[1;33m)\u001b[0m\u001b[1;33m\u001b[0m\u001b[0m\n",
        "\u001b[1;31mExecuteError\u001b[0m: Failed to execute. Parameters are not valid.\nERROR 000732: Input Features: Dataset MCD_layer #;DEM30m # does not exist or is not supported\nFailed to execute (Intersect).\n"
       ]
      }
     ],
     "prompt_number": 18
    },
    {
     "cell_type": "markdown",
     "metadata": {},
     "source": [
      "Oops! We tried to use the intersect tool to clip a raster. Well, it almost worked. You'll find most of the datasets to be clipped properly, except for the raster. One way to fix it so the whole thing runs, raster or feature class, is to run the raster clip tool for rasters and intersect for feature classes. To do this, we'll have to query each dataset's properties, create an `if/else` statement, and run the raster clip tool for the DEM30m dataset, all of which we will cover in the next submodule."
     ]
    },
    {
     "cell_type": "markdown",
     "metadata": {},
     "source": [
      "####<a name=\"Exercise_4E\">4.E. Exercise</a>\n",
      "\n",
      "* The purpose of this exercise will be to convert feature classes in the example file geodatabase to shapefiles. Use [this code](#loopingExample) as a starting point.\n",
      "    * Open ArcMap and create a new map document.  Add all of the layers  in the file geodatabase for this class.\n",
      "    * Open the Python Window \n",
      "    * Set the workspace environment \n",
      "    * Create a list of feature classes\n",
      "    * Write a for loop to iterate through the feature classes\n",
      "    * Use the ArcGIS online help to look up `FeatureClasstoShapefile_conversion`. Save the output in the working directory, variable `wd`:\n",
      "\n",
      "```python\n",
      "for fc in feature_classes:\n",
      "    arcpy.FeatureClassToShapefile_conversion(fc, out_filename)\n",
      "```\n",
      "\n",
      "* Copy shapefiles back into a file geodatabase\n",
      "    * In ArcCatalog, create a new file geodatabase in the working directory.  Name it **\"output.gdb\"**\n",
      "    * Try out the code below to copy the shapefile created in step 6 back into output.gdb\n",
      "    \n",
      "\n",
      "##### Answer:\n",
      "\n",
      "This script copies all feature classes from a workspace into a file geodatabase. For more info, see <http://resources.arcgis.com/en/help/main/10.1/index.html#//001700000035000000>\n"
     ]
    },
    {
     "cell_type": "code",
     "collapsed": false,
     "input": [
      "import arcpy\n",
      "import os\n",
      "\n",
      "#set the workspace\n",
      "from arcpy import env\n",
      "env.workspace = fgdb\n",
      "\n",
      "# Create a list of feature classes in the current workspace\n",
      "fclist = arcpy.ListFeatureClasses()\n",
      "print fclist\n",
      "# Copy each feature class to a file geodatabase \u2013 keep the same name, but use the \n",
      "# basename property to remove any file extensions including .shp\n",
      "out_gdb = wd + '/output.gdb'\n",
      "for fc in fclist:\n",
      "    fcdesc = arcpy.Describe(fc)\n",
      "    if arcpy.Exists(out_gdb):\n",
      "        arcpy.CopyFeatures_management(fc, os.path.join(out_gdb, fcdesc.basename))\n",
      "    else:\n",
      "        \"You didn't follow directions. Please create output.gdb in your working directory\""
     ],
     "language": "python",
     "metadata": {},
     "outputs": [
      {
       "output_type": "stream",
       "stream": "stdout",
       "text": [
        "[u'Roads_Census2k', u'OpenWater', u'MCDs', u'Soils', u'Streams']\n"
       ]
      }
     ],
     "prompt_number": 7
    },
    {
     "cell_type": "markdown",
     "metadata": {},
     "source": [
      "###<a name=\"Exploring_arcpy_objects\">5. Exploring `arcpy` \"objects\"</a>\n",
      "#Objects\n",
      " * You don't need to fully understand what is meant by \"object-oriented\" programming to use Python effectively. \n",
      " * Think of an **object** as a generic **container** for data and functionality. The data and functionality contained within an object can be accessed using dot notation.  The notation follows the hierarchy of the embedded content. For example, given a variable `var`, you can access an embedded object using a dot followed by the object name, `var.object`. These hierarchies can have any number of nested objects (e.g., `var.object1.object2.object3`).\n",
      "```python\n",
      "myint = 34\n",
      "myint.real\t#the \"real\" portion of the number is 34 \n",
      "#Try typing out \u201cmyint\u201d, then hitting the \u201c.\u201d key to show objects.\n",
      "print(myint.imag)\t#There is no imaginary portion of the number\n",
      "```\n",
      "* Let's compare them to some Methods you've already seen.  Remember, unlike objects, methods are followed by parentheses ().  \n",
      "```python\n",
      "cntyname=\"Dane County\"\n",
      "cntyname.replace(\" County\",\"\") #\"replace\" operates on string objects.\n",
      "#Hint: hit the Tab key after typing the dot to see a list of methods\n",
      "mylist=[4,2,1,7]\n",
      "mylist.sort()\n",
      "print(mylist)\n",
      "```\n",
      "\n",
      "The best way to do to explore an object is to first assign the object to a variable. To illustrate these concepts, we're going to look at arcpy's `Describe` object (<http://resources.arcgis.com/en/help/main/10.1/index.html#//018v00000066000000>), which is where you'll most frequently use nested objects when using python for geoprocessing."
     ]
    },
    {
     "cell_type": "code",
     "collapsed": false,
     "input": [
      "import arcpy\n",
      "import workshopEnv\n",
      "reload(workshopEnv)\n",
      "\n",
      "home=os.path.expanduser(\"~\")\n",
      "fgdb = home + \"/pythonWorkshopWLIA2014/WLIA_pythonclass_data.gdb\"\n",
      "arcpy.env.workspace =  fgdb\n",
      "roads=\"Roads_Census2k\"\n",
      "desc = arcpy.Describe(roads)\n",
      "print desc.name\n",
      "print desc.dataType\n",
      "print desc.shapeType"
     ],
     "language": "python",
     "metadata": {},
     "outputs": [
      {
       "output_type": "stream",
       "stream": "stdout",
       "text": [
        "Roads_Census2k\n",
        "FeatureClass\n",
        "Polyline\n"
       ]
      }
     ],
     "prompt_number": 2
    },
    {
     "cell_type": "markdown",
     "metadata": {},
     "source": [
      "Given the second piece of information above, the **dataType**, we can apply geoprocessing based on data types"
     ]
    },
    {
     "cell_type": "code",
     "collapsed": false,
     "input": [
      "# Let's take a look at the dataType of each set of data\n",
      "alldata = arcpy.ListFeatureClasses(\"*Stream*\")+arcpy.ListFeatureClasses(\"*Water*\")+arcpy.ListRasters()\n",
      "#We used the asterisk (*) to search for anything containing Stream or Water anywhere in the name.\n",
      "print(alldata)\n",
      "#We'll make this list a little smaller\n",
      "for fc in alldata:\n",
      "    desc = arcpy.Describe(fc)\n",
      "    print desc.dataType"
     ],
     "language": "python",
     "metadata": {},
     "outputs": [
      {
       "output_type": "stream",
       "stream": "stdout",
       "text": [
        "[u'Streams', u'OpenWater', u'DEM30m']\n",
        "FeatureClass"
       ]
      },
      {
       "output_type": "stream",
       "stream": "stdout",
       "text": [
        "\n",
        "FeatureClass"
       ]
      },
      {
       "output_type": "stream",
       "stream": "stdout",
       "text": [
        "\n",
        "RasterDataset"
       ]
      },
      {
       "output_type": "stream",
       "stream": "stdout",
       "text": [
        "\n"
       ]
      }
     ],
     "prompt_number": 3
    },
    {
     "cell_type": "code",
     "collapsed": false,
     "input": [
      "# And using conditional statements...\n",
      "for fc in alldata:\n",
      "    desc = arcpy.Describe(fc)\n",
      "    if desc.dataType == 'FeatureClass':\n",
      "        print 'Run the buffer tool'\n",
      "    elif desc.dataType == 'RasterDataset':\n",
      "        print 'Do not run the buffer tool'\n",
      "    else:\n",
      "        print 'Throw hands in air, take a walk, and/or get a cup of coffee'"
     ],
     "language": "python",
     "metadata": {},
     "outputs": [
      {
       "output_type": "stream",
       "stream": "stdout",
       "text": [
        "Run the buffer tool\n",
        "Run the buffer tool"
       ]
      },
      {
       "output_type": "stream",
       "stream": "stdout",
       "text": [
        "\n",
        "Do not run the buffer tool"
       ]
      },
      {
       "output_type": "stream",
       "stream": "stdout",
       "text": [
        "\n"
       ]
      }
     ],
     "prompt_number": 4
    },
    {
     "cell_type": "markdown",
     "metadata": {},
     "source": [
      "####<a name=\"Using_the_arcpy_Describe_object_to_inform_geoprocessing\">5.B. Using the `arcpy.Describe` object to inform geoprocessing</a>\n",
      "Now, we'll combine these tools for exploring data properties with tools for automation"
     ]
    },
    {
     "cell_type": "code",
     "collapsed": false,
     "input": [
      "d = '100 meters'\n",
      "for fc in alldata:\n",
      "    desc = arcpy.Describe(fc)\n",
      "    output = fc + '_buffer_only_features'\n",
      "    print output\n",
      "    print desc.dataType\n",
      "    if desc.dataType == 'FeatureClass':\n",
      "        arcpy.Buffer_analysis(fc, output, d)\n",
      "        print(\"Buffered\")\n",
      "    elif desc.dataType == 'RasterDataset':\n",
      "        continue\n",
      "    else:\n",
      "        print ('Throw hands in air, take a walk, and/or get a cup of coffee')"
     ],
     "language": "python",
     "metadata": {},
     "outputs": [
      {
       "output_type": "stream",
       "stream": "stdout",
       "text": [
        "Streams_buffer_only_features\n",
        "FeatureClass\n",
        "Buffered"
       ]
      },
      {
       "output_type": "stream",
       "stream": "stdout",
       "text": [
        "\n",
        "OpenWater_buffer_only_features"
       ]
      },
      {
       "output_type": "stream",
       "stream": "stdout",
       "text": [
        "\n",
        "FeatureClass\n",
        "Buffered"
       ]
      },
      {
       "output_type": "stream",
       "stream": "stdout",
       "text": [
        "\n",
        "DEM30m_buffer_only_features"
       ]
      },
      {
       "output_type": "stream",
       "stream": "stdout",
       "text": [
        "\n",
        "RasterDataset\n"
       ]
      }
     ],
     "prompt_number": 5
    },
    {
     "cell_type": "markdown",
     "metadata": {},
     "source": [
      "In addition to describing general properties about the data (e.g., name, filepath, type, etc.), the `Describe` object also contains useful geographic information for spatial types such as feature classes and rasters."
     ]
    },
    {
     "cell_type": "code",
     "collapsed": false,
     "input": [
      "for fc in alldata:\n",
      "    desc = arcpy.Describe(fc)\n",
      "    print (\"\\n\"+fc) #\\n adds a new line before the feature class.\n",
      "    print (desc.extent)\n",
      "    print (desc.spatialReference.name)"
     ],
     "language": "python",
     "metadata": {},
     "outputs": [
      {
       "output_type": "stream",
       "stream": "stdout",
       "text": [
        "\n",
        "Streams\n",
        "537856.5761 283594.687100001 555706.9187 304129.066299999 NaN NaN 0 8933.8008\n",
        "NAD_1983_HARN_Wisconsin_TM\n",
        "\n",
        "OpenWater"
       ]
      },
      {
       "output_type": "stream",
       "stream": "stdout",
       "text": [
        "\n",
        "542770.7085 284850.314999999 552391.5138 303750.180199999 NaN NaN NaN NaN\n",
        "NAD_1983_HARN_Wisconsin_TM\n",
        "\n",
        "DEM30m"
       ]
      },
      {
       "output_type": "stream",
       "stream": "stdout",
       "text": [
        "\n",
        "542757.803 284338.454 552507.803 303748.454 NaN NaN NaN NaN\n",
        "NAD_1983_HARN_Wisconsin_TM\n"
       ]
      }
     ],
     "prompt_number": 6
    },
    {
     "cell_type": "markdown",
     "metadata": {},
     "source": [
      "The `Describe` object is dynamically defined, meaning that the structure of the object is different depending on what you're describing, whether that be a dataset, workspace, or geodatabase."
     ]
    },
    {
     "cell_type": "code",
     "collapsed": false,
     "input": [
      "for fc in alldata:\n",
      "    desc = arcpy.Describe(fc)\n",
      "    print fc\n",
      "    print desc.shapeType\n",
      "    print '' #Adds a new line (alternative to using \"\\n\")"
     ],
     "language": "python",
     "metadata": {},
     "outputs": [
      {
       "output_type": "stream",
       "stream": "stdout",
       "text": [
        "Streams\n",
        "Polyline\n",
        "\n",
        "OpenWater"
       ]
      },
      {
       "output_type": "stream",
       "stream": "stdout",
       "text": [
        "\n",
        "Polygon\n",
        "\n",
        "DEM30m"
       ]
      },
      {
       "output_type": "stream",
       "stream": "stdout",
       "text": [
        "\n"
       ]
      },
      {
       "ename": "AttributeError",
       "evalue": "DescribeData: Method shapeType does not exist",
       "output_type": "pyerr",
       "traceback": [
        "\u001b[1;31m---------------------------------------------------------------------------\u001b[0m\n\u001b[1;31mAttributeError\u001b[0m                            Traceback (most recent call last)",
        "\u001b[1;32m<ipython-input-7-099a9741872e>\u001b[0m in \u001b[0;36m<module>\u001b[1;34m()\u001b[0m\n\u001b[0;32m      2\u001b[0m     \u001b[0mdesc\u001b[0m \u001b[1;33m=\u001b[0m \u001b[0marcpy\u001b[0m\u001b[1;33m.\u001b[0m\u001b[0mDescribe\u001b[0m\u001b[1;33m(\u001b[0m\u001b[0mfc\u001b[0m\u001b[1;33m)\u001b[0m\u001b[1;33m\u001b[0m\u001b[0m\n\u001b[0;32m      3\u001b[0m     \u001b[1;32mprint\u001b[0m \u001b[0mfc\u001b[0m\u001b[1;33m\u001b[0m\u001b[0m\n\u001b[1;32m----> 4\u001b[1;33m     \u001b[1;32mprint\u001b[0m \u001b[0mdesc\u001b[0m\u001b[1;33m.\u001b[0m\u001b[0mshapeType\u001b[0m\u001b[1;33m\u001b[0m\u001b[0m\n\u001b[0m\u001b[0;32m      5\u001b[0m     \u001b[1;32mprint\u001b[0m \u001b[1;34m''\u001b[0m \u001b[1;31m#Adds a new line (alternative to using \"\\n\")\u001b[0m\u001b[1;33m\u001b[0m\u001b[0m\n",
        "\u001b[1;31mAttributeError\u001b[0m: DescribeData: Method shapeType does not exist"
       ]
      }
     ],
     "prompt_number": 7
    },
    {
     "cell_type": "markdown",
     "metadata": {},
     "source": [
      "For obvious reasons, the script failed when we tried to describe the shapeType of the raster dataset. [ESRI has good documentation](http://resources.arcgis.com/en/help/main/10.1/index.html#//018v00000066000000) on what attributes are contained within the different `Describe` objects. The documentation reflects the complexity of the `Describe` object itself, but after going through it a few times, you'll start to understand the structure, and more importantly, the depth of what you can do in terms of automation for geoprocessing."
     ]
    },
    {
     "cell_type": "markdown",
     "metadata": {},
     "source": [
      "In addition to embedded data, the `Describe` object also contains \"methods.\" For instance, the `spatialReference` object contains a method called `exportToString` which could, for example, be used to export .prj files associated with each dataset."
     ]
    },
    {
     "cell_type": "code",
     "collapsed": false,
     "input": [
      "import os\n",
      "wd = os.path.dirname(fgdb)\n",
      "for fc in alldata:\n",
      "    desc = arcpy.Describe(fc)\n",
      "    prjFile = wd + '/' + fc + '.prj'\n",
      "    print prjFile\n",
      "    ###############################\n",
      "    # Write prj string to text file\n",
      "    f = open(prjFile, 'w+')\n",
      "    f.write(desc.spatialReference.exportToString())\n",
      "    f.close()\n",
      "    ###############################"
     ],
     "language": "python",
     "metadata": {},
     "outputs": [
      {
       "output_type": "stream",
       "stream": "stdout",
       "text": [
        "C:\\Users\\ruesca/pythonWorkshopWLIA2014/Streams.prj\n",
        "C:\\Users\\ruesca/pythonWorkshopWLIA2014/OpenWater.prj"
       ]
      },
      {
       "output_type": "stream",
       "stream": "stdout",
       "text": [
        "\n",
        "C:\\Users\\ruesca/pythonWorkshopWLIA2014/DEM30m.prj"
       ]
      },
      {
       "output_type": "stream",
       "stream": "stdout",
       "text": [
        "\n"
       ]
      }
     ],
     "prompt_number": 8
    },
    {
     "cell_type": "markdown",
     "metadata": {},
     "source": [
      "####<a name=\"Exercise_5C\">5.C. Exercise</a>\n",
      "\n",
      "Use your new skills to generate a report about the workshop geodatabase. Print out useful metadata to a text file using the above code snippet (i.e., `open`, `write`, `close`):\n",
      "\n",
      "1. The name of the file geodatabase and the number of datasets contained within it.\n",
      "1. Iteratively list the name of each dataset with some useful information about it.\n",
      "    1. The name of the dataset\n",
      "    1. The projection name\n",
      "    1. The extent\n",
      "\n",
      "Make sure it looks pretty so that people will enjoy reading it. Label each piece of information using the `+` operator to concatenate strings. To add a new line to your text file, use the special carriage return string, `\\n`.\n"
     ]
    },
    {
     "cell_type": "markdown",
     "metadata": {},
     "source": [
      "#####Answer"
     ]
    },
    {
     "cell_type": "code",
     "collapsed": false,
     "input": [
      "# Answer to the exercise\n",
      "wd = home\n",
      "# Open the text file outside the loop\n",
      "prjFile = wd + '/metadata.txt'\n",
      "arcpy.env.workspace=wd+\"/WLIA_pythonclass_data.gdb\"\n",
      "f = open(prjFile, 'w+')\n",
      "for fc:\n",
      "    desc = arcpy.Describe(fc)\n",
      "    ###############################\n",
      "    # Write metadata to text file\n",
      "    f.write(fc)\n",
      "    f.write('\\n-------------\\n')\n",
      "    f.write(desc.spatialReference.name)\n",
      "    f.write('\\n')\n",
      "    f.write(str(desc.extent))\n",
      "    f.write('\\n\\n\\n')\n",
      "    ###############################\n",
      "# Close text file after all lines are written\n",
      "f.close()"
     ],
     "language": "python",
     "metadata": {},
     "outputs": []
    },
    {
     "cell_type": "markdown",
     "metadata": {},
     "source": [
      "###<a name=\"Python_mapping_and_graphics_examples\">6. Python for mapping and graphics: examples</a>\n",
      "When you're ready to compose a map, Python still comes in handy for\n",
      "* alternative to Visual Basic in labeling\n",
      "* alternative to Visual Basic in the field calculator for simple edits\n",
      "* find/replace layers\n",
      "* find/replace data sources for layers or graphics\n",
      "* editing symbology\n",
      "* editing definition queries\n",
      "* exporting maps to PDF\n",
      "* creating map books (with or without data-driven pages)\n",
      "\n",
      "####<a name=\"Daily_ArcMap_Python\">6.A Everyday uses of Python in ArcMap</a>\n",
      "There are many functions useful for labeling in ArcMap"
     ]
    },
    {
     "cell_type": "code",
     "collapsed": false,
     "input": [
      "Acreage=234.5234\n",
      "Label=\"Total area is approximately \"+ str(round(Acreage,1)) + \" acres.\"\n",
      "print(Label)"
     ],
     "language": "python",
     "metadata": {},
     "outputs": [
      {
       "output_type": "stream",
       "stream": "stdout",
       "text": [
        "Total area is approximately 234.5 acres.\n"
       ]
      }
     ],
     "prompt_number": 9
    },
    {
     "cell_type": "code",
     "collapsed": false,
     "input": [
      "#If Label is character, convert it first:\n",
      "Acreage=\"234.5234\"\n",
      "str(round(float(Acreage),0)) #will still have .0 afterwards.  "
     ],
     "language": "python",
     "metadata": {},
     "outputs": [
      {
       "metadata": {},
       "output_type": "pyout",
       "prompt_number": 10,
       "text": [
        "'235.0'"
       ]
      }
     ],
     "prompt_number": 10
    },
    {
     "cell_type": "code",
     "collapsed": false,
     "input": [
      "#Say we want an integer value.\n",
      "#  using \"int\" directly doesn't work (it won't take a decimal in the text value)\n",
      "int(Acreage)"
     ],
     "language": "python",
     "metadata": {},
     "outputs": [
      {
       "ename": "ValueError",
       "evalue": "invalid literal for int() with base 10: '234.5234'",
       "output_type": "pyerr",
       "traceback": [
        "\u001b[1;31m---------------------------------------------------------------------------\u001b[0m\n\u001b[1;31mValueError\u001b[0m                                Traceback (most recent call last)",
        "\u001b[1;32m<ipython-input-11-dd2601d60fb5>\u001b[0m in \u001b[0;36m<module>\u001b[1;34m()\u001b[0m\n\u001b[0;32m      1\u001b[0m \u001b[1;31m#Say we want an integer value.\u001b[0m\u001b[1;33m\u001b[0m\u001b[1;33m\u001b[0m\u001b[0m\n\u001b[0;32m      2\u001b[0m \u001b[1;31m#  using \"int\" directly doesn't work (it won't take a decimal in the text value)\u001b[0m\u001b[1;33m\u001b[0m\u001b[1;33m\u001b[0m\u001b[0m\n\u001b[1;32m----> 3\u001b[1;33m \u001b[0mint\u001b[0m\u001b[1;33m(\u001b[0m\u001b[0mAcreage\u001b[0m\u001b[1;33m)\u001b[0m\u001b[1;33m\u001b[0m\u001b[0m\n\u001b[0m",
        "\u001b[1;31mValueError\u001b[0m: invalid literal for int() with base 10: '234.5234'"
       ]
      }
     ],
     "prompt_number": 11
    },
    {
     "cell_type": "code",
     "collapsed": false,
     "input": [
      "#  \"int\" will truncate a float value\n",
      "print(str(int(float(Acreage))))\n",
      "#We want to round instead.\n",
      "str(int(round(float(Acreage),0)))"
     ],
     "language": "python",
     "metadata": {},
     "outputs": [
      {
       "output_type": "stream",
       "stream": "stdout",
       "text": [
        "234\n"
       ]
      },
      {
       "metadata": {},
       "output_type": "pyout",
       "prompt_number": 12,
       "text": [
        "'235'"
       ]
      }
     ],
     "prompt_number": 12
    },
    {
     "cell_type": "markdown",
     "metadata": {},
     "source": [
      "Other expressions apply to labels or field calculations:\n",
      "\n",
      "    !CVT_LOWERCASE_NAME!.upper()"
     ]
    },
    {
     "cell_type": "markdown",
     "metadata": {},
     "source": [
      "* In Field Calculator expressions, use exclamation points around field names"
     ]
    },
    {
     "cell_type": "code",
     "collapsed": false,
     "input": [
      "fc=arcpy.ListFeatureClasses(\"*Water*\")[0]#Pick the first feature class with \"Water\" in the name\n",
      "print(fc)\n",
      "fieldlist=arcpy.ListFields(fc)\n",
      "print([f.name for f in fieldlist])"
     ],
     "language": "python",
     "metadata": {},
     "outputs": [
      {
       "output_type": "stream",
       "stream": "stdout",
       "text": [
        "OpenWater\n",
        "[u'OBJECTID', u'Shape', u'AREA', u'PERIMETER', u'SHAID_', u'SHAID_ID', u'SHAID_NO', u'SHAIDNAME', u'SHAIDWBIC', u'RIVSYSNAME', u'RIVSYSWBIC', u'SHAID_TYP', u'DURATION', u'LANDLOCKED', u'HYD_VER', u'GEOM_CHFLG', u'NAT_CHFLG', u'GNIS_CHFLG', u'WBIC_CHFLG', u'NEW', u'Shape_Length', u'Shape_Area']"
       ]
      },
      {
       "output_type": "stream",
       "stream": "stdout",
       "text": [
        "\n"
       ]
      }
     ],
     "prompt_number": 13
    },
    {
     "cell_type": "code",
     "collapsed": false,
     "input": [
      "arcpy.AddField_management(fc,\"AREA_SQMI\",\"DOUBLE\",\"\",\"\",\"\",\"Area (Sq. Mi.)\")"
     ],
     "language": "python",
     "metadata": {},
     "outputs": [
      {
       "metadata": {},
       "output_type": "pyout",
       "prompt_number": 14,
       "text": [
        "<Result 'C:\\\\Users\\\\ruesca/pythonWorkshopWLIA2014/WLIA_pythonclass_data.gdb\\\\OpenWater'>"
       ]
      }
     ],
     "prompt_number": 14
    },
    {
     "cell_type": "code",
     "collapsed": false,
     "input": [
      "print(\"Try !Shape.Area@SQUAREMILES! in Field Calculator or in Python\")\n",
      "#arcpy.CalculateField_management(fc, \"AREA_SQMI\",\"!Shape.Area@SQUAREMILES!\",\"PYTHON\")\n",
      "#Lots of units are available"
     ],
     "language": "python",
     "metadata": {},
     "outputs": [
      {
       "output_type": "stream",
       "stream": "stdout",
       "text": [
        "Try !Shape.Area@SQUAREMILES! in Field Calculator or in Python\n"
       ]
      }
     ],
     "prompt_number": 15
    },
    {
     "cell_type": "markdown",
     "metadata": {},
     "source": [
      "####<a name=\"Using_the_arcpy_mapping_module\">6.B Using the `arcpy.mapping` module</a>\n",
      "\n",
      "`arcpy.mapping` is a Python scripting module that is part of the `arcpy` site-package. You will need to import this module with the statement:  \n",
      "\n",
      "```python\n",
      "import arcpy.mapping\n",
      "```\n",
      "\n",
      "Uses for `arcpy.mapping`:\n",
      "\n",
      "* Automate and customize map production\n",
      "* Extend the capabilities of Data Driven pages\n",
      "* Update symbology across multiple map documents\n",
      "* Set the characteristics of exported PDF documents (and other formats).\n",
      "\n",
      "A few syntax and usage tips for `arcpy.mapping`:\n",
      "\n",
      "* Syntax for identifying the mapdoc. Example:\n",
      "\n",
      "```python\n",
      "mapdoc = arcpy.mapping.MapDocument('C:/temp/wi_parcels.mxd')\n",
      "```\n",
      "\n",
      "* Using an open mapdoc (from python window in ArcMap):\n",
      "\n",
      "```python\n",
      "mymap = arcpy.mapping.MapDocument('CURRENT')\n",
      "```"
     ]
    },
    {
     "cell_type": "code",
     "collapsed": false,
     "input": [
      "##Open map.mxd, then run this in ArcMap's python window\n",
      "import os\n",
      "mapdoc = arcpy.mapping.MapDocument(\"CURRENT\")\n",
      "home=os.path.expanduser(\"~\")\n",
      "map_dir = home + \"/pythonWorkshopWLIA2014\"\n",
      "#Note: let's not save any changes!\n",
      "\n",
      "# Set the scale and view the spatial reference of the data frame\n",
      "for df in arcpy.mapping.ListDataFrames(mapdoc):\n",
      "    #Map documents may contain one or more data frames. \n",
      "    #A data frame object contains properties for map extent, scale, and spatial reference.\n",
      "    print(df.spatialReference.name)\n",
      "    print(df.scale)\n",
      "    df.scale = 24000\n",
      "    print(df.scale)\n",
      "    #Show your changes\n",
      "    arcpy.RefreshActiveView()"
     ],
     "language": "python",
     "metadata": {},
     "outputs": []
    },
    {
     "cell_type": "markdown",
     "metadata": {},
     "source": [
      "* Layers\n",
      "\n",
      "(see http://resources.arcgis.com/en/help/main/10.1/index.html#//00s300000008000000 for more details)"
     ]
    },
    {
     "cell_type": "code",
     "collapsed": false,
     "input": [
      "#List layers in a map doc:\n",
      "mapLayers = arcpy.mapping.ListLayers(mapdoc)\n",
      "\n",
      "#Refer to a specific data frame by list index:\n",
      "\n",
      "dflist = arcpy.mapping.ListDataFrames(mapdoc)\n",
      "lyrlist = arcpy.mapping.ListLayers(mapdoc, '', dflist[0])  # first data frame in TOC\n",
      "print(lyrlist)\n",
      "lyrnames = [lyr.name for lyr in lyrlist]\n",
      "print(lyrnames)"
     ],
     "language": "python",
     "metadata": {},
     "outputs": []
    },
    {
     "cell_type": "code",
     "collapsed": false,
     "input": [
      "#You may need to convert feature classes to layers to access `arcpy.mapping` methods. \n",
      "#   If you need to create a layer, here is the syntax:\n",
      "arcpy.MakeFeatureLayer_management(map_dir+os.sep+'Point_Samples.shp','samples_lyr')\n",
      "\n",
      "#   Use supports to check whether a layer supports a property. For example:\n",
      "doesnt_support=[]\n",
      "for lyr in lyrlist:\n",
      "    if lyr.supports('definitionquery') == True:\n",
      "        print lyr.name\n",
      "    else:\n",
      "        doesnt_support.append(lyr.name)\n",
      "del lyrlist\n",
      "print(\"Doesn't support definition queries:\")\n",
      "print(doesnt_support)"
     ],
     "language": "python",
     "metadata": {},
     "outputs": []
    },
    {
     "cell_type": "code",
     "collapsed": false,
     "input": [
      "#Symbolize Streams layer\n",
      "\n",
      "#Use .index() method to find the \"index\" for the item \"Streams\" in lyrnames\n",
      "listind=lyrnames.index(\"Streams\")\n",
      "print(listind)\n",
      "#  & use that index to find the correct Map Layer object in lyrlist\n",
      "streamlyr=lyrlist[listind]\n",
      "\n",
      "# Check to see if symbology is supported by the layer\n",
      "print(streamlyr.supports(\"Symbology\"))\n",
      "\n",
      "#Since no symbology is supported, we have to update the layer\n",
      "arcpy.mapping.UpdateLayer(dflist[0],streamlyr,\n",
      "        #Sometimes you must reference a layer object, not just the file - so we use arcpy.mapping.Layer\n",
      "        arcpy.mapping.Layer(map_dir+os.sep+\"Streams.lyr\"),\n",
      "        \"True\") #Update only the symbology - not other details from Streams.lyr\n",
      "arcpy.RefreshActiveView()\n",
      "\n",
      "#If symbology is supported, print out the labels for the symbol classes\n",
      "if streamlyr.supports(\"Symbology\"):\n",
      "    print(streamlyr.symbologyType)\n",
      "    print(streamlyr.symbology.classLabels)\n",
      "#Note the object dot notation for the \"classLabels\" property of \"symbology\"."
     ],
     "language": "python",
     "metadata": {},
     "outputs": []
    },
    {
     "cell_type": "markdown",
     "metadata": {},
     "source": [
      "* Map Elements"
     ]
    },
    {
     "cell_type": "code",
     "collapsed": false,
     "input": [
      "# Map elements such as title, north arrow, and scale bar may be defined and updated using Python code. Example:\n",
      "\n",
      "txtitem = arcpy.mapping.ListLayoutElements(mapdoc, 'TEXT_ELEMENT', '')[0]\n",
      "txtitem.text = 'TestingTextElements'\n",
      "txtitem.fontSize = 30"
     ],
     "language": "python",
     "metadata": {},
     "outputs": []
    },
    {
     "cell_type": "markdown",
     "metadata": {},
     "source": [
      "* Exporting maps"
     ]
    },
    {
     "cell_type": "code",
     "collapsed": false,
     "input": [
      "arcpy.mapping.ExportToPDF(mapdoc, home+'/TestEdits.pdf')\n",
      "# You can also export data-driven pages, but you will need to enable the extension in your map document first."
     ],
     "language": "python",
     "metadata": {},
     "outputs": []
    },
    {
     "cell_type": "markdown",
     "metadata": {},
     "source": [
      "* File locking"
     ]
    },
    {
     "cell_type": "code",
     "collapsed": false,
     "input": [
      "#When a MapDocument is referenced in a script, the .mxd is locked.  \n",
      "#   It is good practice to remove the lock in code. For example:\n",
      "del mapdoc\n",
      "\n",
      "\n",
      "#Close ArcMap, but don't save the changes!!"
     ],
     "language": "python",
     "metadata": {},
     "outputs": []
    },
    {
     "cell_type": "markdown",
     "metadata": {},
     "source": [
      "####<a name=\"The_arcpy_mapping_module_in_context\">6.C. The `arcpy.mapping` module in context</a>\n",
      "\n",
      "ESRI provides a module for automating the production of maps. Generally, the module presumes that you have already created an .mxd template and associated layers. We have provided both for this workshop, **map.mxd** and **Streams.lyr**.\n",
      "\n",
      "First, let's explore the map.  Open **map.mxd** in ArcMap.  (Note that this will differ from the PDF we made, as we didn't save those changes!)\n",
      "\n",
      "In the space where we have the title, there's something called **Unnamed Text Element**.  If we check the properties, we note that this element hasn't been assigned a name. If we review the map text at the bottom, we can find that this element has been named **authorname**. The legend, north arrow, and scale bar have default names.\n",
      "\n",
      "Now, let's explore the data.  Open the attributes for the Streams layer.  The **CARTO_USE_FLAG** field is a coded value domain, as we can see if we change the table settings in Appearance. Note that **HYDROCODE** also just has a few values.  This field will be useful for symbology, and we'll come back to it again when we get to data management."
     ]
    },
    {
     "cell_type": "markdown",
     "metadata": {},
     "source": [
      "**Example**\n",
      "\n",
      "Say you've been asked to create maps of streams and sampling points in their watersheds.  You could use data-driven pages by stream name, but some points might be outside of the map extent.  You could try data-driven pages by sampling points, but then the streams might get cut off.  You could manually edit the extents, but what if you refresh the map?\n",
      "\n",
      "With arcpy, we can \n",
      "* loop through unique streams\n",
      "* select the stream & sampling points for that stream\n",
      "* zoom to selection\n",
      "* print to PDF"
     ]
    },
    {
     "cell_type": "code",
     "collapsed": false,
     "input": [
      "import os, arcpy\n",
      "home=os.path.expanduser(\"~\")\n",
      "map_dir = home + \"/pythonWorkshopWLIA2014\"\n",
      "from arcpy import mapping as m\n",
      "\n",
      "mxd = arcpy.mapping.MapDocument(map_dir + '/map.mxd')\n",
      "mxd.author = os.environ['USERNAME']\n",
      "df = m.ListDataFrames(mxd)[0]\n",
      "\n",
      "# Add Point_Samples.shp to the map\n",
      "m.AddLayer(df,arcpy.mapping.Layer(map_dir+os.sep+\"Point_Samples.shp\"))\n",
      "sample_lyr=m.ListLayers(mxd,'*Sampl*')[0]\n",
      "\n",
      "authoritem = m.ListLayoutElements(mxd, 'TEXT_ELEMENT', 'author')[0]\n",
      "authoritem.text = authoritem.text.replace(\"AUTHORNAME\",mxd.author)\n",
      "\n",
      "#For now, we'll write out the streams.  Later, you can use Search Cursors to make the list.\n",
      "streams=[\"Sugar River\",\"Halfway Prairie Creek\",\"Black Earth Creek\"]\n",
      "for i in streams:\n",
      "    print i\n",
      "    arcpy.SelectLayerByAttribute_management(sample_lyr, 'NEW_SELECTION', '\"WATERBODY\" = ' + \"'\" + i + \"'\")\n",
      "    arcpy.SelectLayerByAttribute_management(m.ListLayers(mxd,'Streams')[0], 'NEW_SELECTION', '\"RIVER_SYS_NAME\" = ' + \"'\" + i + \"'\")\n",
      "    df.zoomToSelectedFeatures()\n",
      "    for lyr in m.ListLayers(mxd):\n",
      "        arcpy.SelectLayerByAttribute_management(sample_lyr, 'CLEAR_SELECTION')\n",
      "    m.ExportToPDF(mxd, map_dir + os.sep + str(i) + '.pdf')\n",
      "mxd.saveACopy(map_dir+os.sep+\"mapcopy.mxd\")"
     ],
     "language": "python",
     "metadata": {},
     "outputs": [
      {
       "output_type": "stream",
       "stream": "stdout",
       "text": [
        "Sugar River\n",
        "Halfway Prairie Creek"
       ]
      },
      {
       "output_type": "stream",
       "stream": "stdout",
       "text": [
        "\n",
        "Black Earth Creek"
       ]
      },
      {
       "output_type": "stream",
       "stream": "stdout",
       "text": [
        "\n"
       ]
      }
     ],
     "prompt_number": 3
    },
    {
     "cell_type": "markdown",
     "metadata": {},
     "source": [
      "###<a name=\"Database_management\">Database Management</a>\n",
      "\n",
      "Python can really come in handy for managing complex file geodatabases or ArcSDE geodatabases.\n",
      "\n",
      "* Editing\n",
      "\n",
      "```python\n",
      "arcpy.RegisterAsVersioned_management(fc, \"EDITS_TO_BASE\")\n",
      "desc = arcpy.Describe(fc)\n",
      "desc.IsVersioned #True or False\n",
      "```"
     ]
    },
    {
     "cell_type": "markdown",
     "metadata": {},
     "source": [
      "* Permissions\n",
      "\n",
      "```python\n",
      "arcpy.ChangePrivileges_management(fc, \"EVERYBODY\", \"GRANT\", \"AS_IS\")#fc, user/group, view, edit\n",
      "```"
     ]
    },
    {
     "cell_type": "code",
     "collapsed": false,
     "input": [
      "for obj in arcpy.da.Walk(map_dir,followlinks=True):\n",
      "    #Set followlinks=True to \"walk\" through .sde connection files\n",
      "    #returns [workspace path, subdirectories/other workspaces, files]\n",
      "    print(obj[2])  #We'll just list the filenames\n",
      " \n",
      "for osobj in os.walk(map_dir):\n",
      "    #returns list [root directory, subdirectories, files]\n",
      "    if not os.path.splitext(osobj[0])[1] in [\".gdb\"]:\n",
      "        print(osobj[2])  #Lists files outside of geodatabases"
     ],
     "language": "python",
     "metadata": {},
     "outputs": []
    },
    {
     "cell_type": "markdown",
     "metadata": {},
     "source": [
      "* Data Domains"
     ]
    },
    {
     "cell_type": "code",
     "collapsed": false,
     "input": [
      "#Let's review the existing data domains\n",
      "doms=arcpy.da.ListDomains(map_dir+\"/WLIA_pythonclass_data.gdb\")\n",
      "for d in doms:\n",
      "    print d.name\n",
      "#This could also be written as follows:\n",
      "#print([d.name for d in arcpy.da.ListDomains(arcpy.env.workspace)])\n",
      "\n",
      "#Now, review the table CodedDomain.csv\n",
      "\n",
      "#Then add it to the geodatabase\n",
      "arcpy.TableToTable_conversion(map_dir+\"/CodedDomain.csv\",map_dir+os.sep+\"WLIA_pythonclass_data.gdb\",\"temptable\")\n",
      "#Use the table to create a domain\n",
      "arcpy.TableToDomain_management(\"temptable\",\"Code\",\"Value\",\n",
      "            map_dir+\"/WLIA_pythonclass_data.gdb\", \"Hydrocode\", \"Flowline Codes\",\"REPLACE\")\n",
      "#Sort the description\n",
      "arcpy.SortCodedValueDomain_management(map_dir+os.sep+\"WLIA_pythonclass_data.gdb\",\n",
      "            \"Hydrocode\", \"DESCRIPTION\", \"ASCENDING\")#Could sort by code instead\n",
      "#And delete the table\n",
      "arcpy.Delete_management(\"temptable\")"
     ],
     "language": "python",
     "metadata": {},
     "outputs": [
      {
       "output_type": "stream",
       "stream": "stdout",
       "text": [
        "Hydrocode\n",
        "CVT_Type\n",
        "WD_HYDRO Carto\n"
       ]
      },
      {
       "metadata": {},
       "output_type": "pyout",
       "prompt_number": 28,
       "text": [
        "<Result 'true'>"
       ]
      }
     ],
     "prompt_number": 28
    },
    {
     "cell_type": "code",
     "collapsed": false,
     "input": [
      "arcpy.env.workspace=map_dir+\"/WLIA_pythonclass_data.gdb\"\n",
      "fcs = arcpy.ListFeatureClasses(\"*Stream*\")\n",
      "for fc in fcs:\n",
      "    arcpy.AssignDomainToField_management (fc, \"HYDROCODE\", \"Hydrocode\")\n",
      "    print(\"Assigned domain to field in \"+fc)\n",
      "#View the table\n"
     ],
     "language": "python",
     "metadata": {},
     "outputs": [
      {
       "output_type": "stream",
       "stream": "stdout",
       "text": [
        "Assigned domain to field in Streams\n",
        "Assigned domain to field in Streams_buffer_only_features"
       ]
      },
      {
       "output_type": "stream",
       "stream": "stdout",
       "text": [
        "\n"
       ]
      }
     ],
     "prompt_number": 31
    },
    {
     "cell_type": "markdown",
     "metadata": {},
     "source": [
      "* Metadata"
     ]
    },
    {
     "cell_type": "markdown",
     "metadata": {},
     "source": [
      "**Run this in ArcCatalog or ArcMap's python window\n",
      "```python\n",
      "\n",
      "\n",
      "#First, review \"Streams.lyr\" to review the metadata\n",
      "import arcpy, os\n",
      "templates=[map_dir+\"/WLIA_pythonclass_data.gdb/Streams\"]\n",
      "targets=[map_dir+\"/Streams.lyr\"]\n",
      "#For each object in the \"templates\" list\n",
      "for ind in range(len(templates)):\n",
      "        #Create a copy of the metadata that doesn't include the geoprocessing history\n",
      "        #(The .xslt is a standard template provided by ESRI; others may also be useful for your work)\n",
      "        arcpy.XSLTransform_conversion(templates[ind],\n",
      "                str(arcpy.GetInstallInfo()[\"InstallDir\"])+\"Metadata\\\\Stylesheets\\\\gpTools\\\\remove geoprocessing history.xslt\",\n",
      "                map_dir+os.sep+\"metadata_copy.xml\", \"\")\n",
      "        arcpy.AddMessage(\"Geoprocessing history cleared.\")\n",
      "        #Then import that copy into the corresponding object in the \"targets\" list\n",
      "        arcpy.MetadataImporter_conversion(map_dir+os.sep+\"metadata_copy.xml\",\n",
      "                targets[ind])\n",
      "        arcpy.Delete_management(map_dir+os.sep+\"metadata_copy.xml\")\n",
      "```"
     ]
    },
    {
     "cell_type": "markdown",
     "metadata": {},
     "source": [
      "####<a name=\"Exercise_8C\">6.D. Exercise</a>\n",
      "Clean up the map series from 6C.  Name the Point_Samples layer and set the title to the stream name in each map.\n",
      "\n",
      "**Hints:**\n",
      "Use sample_lyr.name=\"Samples\" (or other desired name).\n",
      "Set the symbology using the Streams.lyr file.\n",
      "Assign a name to the Unnamed text object, or delete that object and insert the title\n",
      "\n",
      "If you're doing this dynamically, don't forget\n",
      "_arcpy.RefreshActiveView()_"
     ]
    },
    {
     "cell_type": "markdown",
     "metadata": {},
     "source": [
      "###<a name=\"Cursors\">6. Cursors</a>\n",
      "\n",
      "DO A MEDIAN.\n",
      "\n",
      "DO A UNIQUE LIST OF VALUES.\n",
      "\n",
      "Cursors are used to iterate through records in a table or feature class and can be a serious workhorse for many workflows. Cursors are commonly used to read and update attributes and have three forms: `search`, `insert`, or `update`.  In ArcGIS 10.1, ESRI introduced the \"Data Access\" module which significantly improved the performance from the traditional cursor that was present pre-ArcGIS 10.1.  For this workshop, we will work with cursors within the `arcpy.da` module.\n",
      "\n",
      "Cursors take in a minimum of 2 arguments:\n",
      "\n",
      "* Feature class, layer, table or table view\n",
      "* A list of field names; If it is a single field, you can use a sting instead of a list of strings.\n",
      "\n",
      "####<a name=\"Search_cursors\">6.A. Search cursors</a>\n",
      "\n",
      "The `SearchCursor` establishes read-only access to the records from a table or feature class.  Once established, the cursor will return values that you can iterate through.\n",
      "\n",
      "Search cursors can be iterated using a `for` loop.  Search cursors also support the `with` statement which will guarantee proper closure and release of database locks and reset the iteration.\n",
      "\n",
      "A \"data access\" search cursor is denoted as `arcpy.da.SearchCursor` and should not be confused with `arcpy.SearchCursor` as the properties and usage are different.\n",
      "\n",
      "Let\u2019s establish a simple `SearchCursor` to step through the MCDs feature class and print the city type and name.\n"
     ]
    },
    {
     "cell_type": "code",
     "collapsed": false,
     "input": [
      "import arcpy\n",
      "from arcpy import env\n",
      " \n",
      "# Set Workspace environment\n",
      "fgdb = home + '/pythonWorkshopWLIA2014/WLIA_pythonclass_data.gdb'\n",
      "env.workspace = fgdb\n",
      " \n",
      "# SearchCursor arguments\n",
      "fc = \"MCDs\"\n",
      "fields = [\"CVT_TYPE\",\"CVT_NAME\"]\n",
      " \n",
      "# Establish SearchCursor using a 'with' statement to print type and name\n",
      "with arcpy.da.SearchCursor(fc, fields) as cursor:\n",
      "    for row in cursor:\n",
      "        if row[0] == \"T\":\n",
      "            print \"Town of \" + row[1]\n",
      "        else:\n",
      "            print \"Village of \" + row[1]"
     ],
     "language": "python",
     "metadata": {},
     "outputs": [
      {
       "output_type": "stream",
       "stream": "stdout",
       "text": [
        "Town of BERRY\n",
        "Town of CROSS PLAINS\n",
        "Village of Cross Plains\n"
       ]
      }
     ],
     "prompt_number": 7
    },
    {
     "cell_type": "markdown",
     "metadata": {},
     "source": [
      "You'll notice above that the data access cursor is pulling data from `row[0]` and `row[1]`. The `row` variable pulls all data for a given row for a given iteration---that is, the first iteration will pull all data from the first row, and so on. The `[0]` and `[1]` refer to the index of the column to pull from in `row`. Since we specified that only `CVT_TYPE` and `CVT_NAME` fields should be pulled from the attribute table when we instantiated the `arcpy.da.SearchCursor`, only two fields are returned. Thus, the only two column indeces available are `[0]` and `[1]`. \n",
      "\n",
      "Let\u2019s establish a `SearchCursor` using an expression that limits the records to only those that are Towns and not Villages:"
     ]
    },
    {
     "cell_type": "code",
     "collapsed": false,
     "input": [
      "# SQL expression that will be passed into searchCursor\n",
      "expression = arcpy.AddFieldDelimiters(\"MCDs\", \"CVT_TYPE\") + \" = 'T'\"\n",
      " \n",
      "# Establish SearchCursor using a filter expression\n",
      "with arcpy.da.SearchCursor(\"MCDs\", \"CVT_NAME\", where_clause=expression) as cursor:\n",
      "    for row in cursor:\n",
      "        print \"Town of \" + row[0]"
     ],
     "language": "python",
     "metadata": {},
     "outputs": [
      {
       "output_type": "stream",
       "stream": "stdout",
       "text": [
        "Town of BERRY\n",
        "Town of CROSS PLAINS\n"
       ]
      }
     ],
     "prompt_number": 9
    },
    {
     "cell_type": "markdown",
     "metadata": {},
     "source": [
      "So why are cursors so important? You may say, \"well I could just use the Field Calculator and Calculate Statistics tools to do all the same work.\" That may be true, but using only ArcGIS tools limits the user in terms of both performance and functionality. To illustrate the limitations in functionality, let's calculate a median, which I will never understand why ArcGIS does not include in their statistics calculations. Let's use the `Roads_Census2k` to do some of this work."
     ]
    },
    {
     "cell_type": "code",
     "collapsed": false,
     "input": [
      "# A very handy and powerful module for doing in math in Python is the numpy module\n",
      "import numpy\n",
      "\n",
      "fc = \"Roads_Census2k\"\n",
      "fields = [\"LENGTH\"]\n",
      "\n",
      "# First, let's create a dummy list that we will fill with all values\n",
      "# in the LENGTH column.\n",
      "n_features = int(arcpy.GetCount_management(fc).getOutput(0)) \n",
      "all_lengths = [0] * n_features\n",
      "\n",
      "# Now let's grab all the data in Shape_Length and fill in our dummy list\n",
      "with arcpy.da.SearchCursor(fc, fields) as cursor:\n",
      "    i = 0\n",
      "    for row in cursor:\n",
      "        all_lengths[i] = row[0]\n",
      "        i += 1\n",
      "\n",
      "med = numpy.median(numpy.array(all_lengths))\n",
      "\n",
      "print med"
     ],
     "language": "python",
     "metadata": {},
     "outputs": [
      {
       "output_type": "stream",
       "stream": "stdout",
       "text": [
        "171.083749534\n"
       ]
      }
     ],
     "prompt_number": 9
    },
    {
     "cell_type": "markdown",
     "metadata": {},
     "source": [
      "Woah, that was fast!"
     ]
    },
    {
     "cell_type": "markdown",
     "metadata": {},
     "source": [
      "####<a name=\"Update_cursors\">6.B. Update cursors</a>\n",
      "\n",
      "The `UpdateCursor` establishes read-write access to records returned from a table or feature class.  It allows you the ability to delete records or update the attributes of a record.  However, you cannot add new records to the table.  With the exception of deleting records, the Calculate Field tool can provide another approach for updating values.\n",
      "\n",
      "Update cursors can be iterated using a `for` loop and will also support the `with` statement, which will guarantee proper closure and release of database locks and reset the iteration.\n",
      "\n",
      "A data access search cursor is denoted as `arcpy.da.SearchCursor` and should not be confused with `arcpy.SearchCursor` as the properties and usage are different.\n",
      "\n",
      "Let\u2019s add a new field called `Map_Label` to the `MCDs` featureclass and establish an `UpdateCursor` to populate the new field.  The new field will contain the unabbreviated `CVT_TYPE` and the `CVT_NAME`."
     ]
    },
    {
     "cell_type": "code",
     "collapsed": false,
     "input": [
      "# Set Workspace environment\n",
      "env.workspace = fgdb\n",
      " \n",
      "# Variables\n",
      "fc = \"MCDs\"\n",
      "cvtType = \"CVT_TYPE\"\n",
      "cvtName = \"CVT_NAME\"\n",
      "mapLabelField = \"Map_Label\"\n",
      " \n",
      "# If new field doesn't exist add it\n",
      "if not len(arcpy.ListFields(fc,mapLabelField)) > 0:\n",
      "    # determine the length of the 'CVT_NAME' field\n",
      "    for field in arcpy.ListFields(fc,cvtName):\n",
      "        mapLabelLength = field.length \n",
      "    # Add 'Map_Label' field as a TEXT and width identical to 'CVT_NAME'\n",
      "    arcpy.AddField_management(fc,mapLabelField,\"TEXT\", \"#\", \"#\", mapLabelLength)\n",
      "\n",
      "# Establish UpdateCursor to update 'Map_Label' field\n",
      "with arcpy.da.UpdateCursor(fc, (cvtType, cvtName, mapLabelField)) as cursor:\n",
      "    for row in cursor:\n",
      "        if row[0] == \"T\":\n",
      "            row[2] = \"Town of \" + row[1]\n",
      "        else:\n",
      "            row[2] = \"Village of \" + row[1]\n",
      "        cursor.updateRow(row)\n",
      "    del row, cursor"
     ],
     "language": "python",
     "metadata": {},
     "outputs": [],
     "prompt_number": 10
    },
    {
     "cell_type": "markdown",
     "metadata": {},
     "source": [
      "Update cursors are analogous to the Field Calculator tool in ArcGIS. However, using update cursors, performance is greatly enhanced and using Python we can do more sophisticated calculations with logical expressions and Python math modules. Let's take a look at the difference in performance between the Field Calculator and update cursors again using the `Roads_Census2k` dataset."
     ]
    },
    {
     "cell_type": "code",
     "collapsed": false,
     "input": [
      "# Python comes with a time module that is helpful for testing runtime\n",
      "import time\n",
      "\n",
      "fc = \"Roads_Census2k\"\n",
      "fields = [\"LENGTH\"]\n",
      "\n",
      "# Let's start the timer!\n",
      "start_time = time.time()\n",
      "arcpy.CalculateField_management(fc, \"LENGTH\", \"[LENGTH] * 1\")\n",
      "# How long did it take?\n",
      "run_time1 = time.time() - start_time\n",
      "print str(run_time1) + \" seconds\"\n",
      "\n",
      "# Now let's try it with a data access cursor\n",
      "start_time = time.time()\n",
      "with arcpy.da.UpdateCursor(fc, fields) as cursor:\n",
      "    for row in cursor:\n",
      "        row[0] = row[0] * 1\n",
      "        cursor.updateRow(row)\n",
      "    del row, cursor\n",
      "run_time2 = time.time() - start_time\n",
      "print str(run_time2) + \" seconds\"\n",
      "\n",
      "# How much faster are data cursors?\n",
      "print str(run_time1 / run_time2) + \" times faster\""
     ],
     "language": "python",
     "metadata": {},
     "outputs": [
      {
       "output_type": "stream",
       "stream": "stdout",
       "text": [
        "0.475000143051 seconds\n",
        "0.077999830246 seconds"
       ]
      },
      {
       "output_type": "stream",
       "stream": "stdout",
       "text": [
        "\n",
        "6.08975867708 times faster\n"
       ]
      }
     ],
     "prompt_number": 16
    },
    {
     "cell_type": "markdown",
     "metadata": {},
     "source": [
      "Geez, 8X faster! That's a pretty good improvement. At this scale, it doesn't really matter, but consider a process that takes all day to run with Field Calculator could finish in just one hour!\n",
      "\n",
      "In addition to the performance improvements, we can also add more complex functionality, such as logical statements. Field Calculator allows you to do some of this type of work, but it's much clunkier and slow."
     ]
    },
    {
     "cell_type": "code",
     "collapsed": false,
     "input": [
      "# Let's say we don't want lengths less than 1 km,\n",
      "# so we want to round up to one in cases where lengths are less than zero\n",
      "# We'll enlist the \"math\" module to help with some of this work\n",
      "import math\n",
      "\n",
      "fc = \"Roads_Census2k\"\n",
      "fields = [\"LENGTH\"]\n",
      "\n",
      "with arcpy.da.UpdateCursor(fc, fields) as cursor:\n",
      "    for row in cursor:\n",
      "        if row[0]\n",
      "        row[0] = row[0] * 1\n",
      "        cursor.updateRow(row)\n",
      "    del row, cursor"
     ],
     "language": "python",
     "metadata": {},
     "outputs": []
    },
    {
     "cell_type": "markdown",
     "metadata": {},
     "source": [
      "####<a name=\"Insert_cursors\">6.C. Insert cursors</a>\n",
      "\n",
      "The `InsertCursor` establishes write access on a table or feature class so that new records can be added.  Insert cursors, in their simplest form, are best used with independent tables to add records that are not tied to geometry.  When used with feature class tables, geometry information can be accessed using the `SHAPE@` token, which returns information such as a feature\u2019s X,Y or Z coordinates.\n",
      " \n",
      "A data access search cursor is denoted as `arcpy.da.InsertCursor` and should not be confused with `arcpy.InsertCursor` as the properties and usage are different.\n",
      "\n",
      "Let\u2019s populate the `WaterBody_location` table with the centroids of water bodies from the soils feature class.  We will use a `SearchCursor` to iterate through a tuple of water bodies and their centroids.  An `InsertCursor` will then be used to insert this data into the `WaterBody_location` table.\n",
      "\n",
      "The `SHAPE@XY` token will be used to get simple geometry information.  Keep in mind that the `SHAPE@XY` returns a tuple and the `insertRow` method only takes one argument.\n"
     ]
    },
    {
     "cell_type": "code",
     "collapsed": false,
     "input": [],
     "language": "python",
     "metadata": {},
     "outputs": []
    },
    {
     "cell_type": "code",
     "collapsed": false,
     "input": [
      "import arcpy\n",
      "\n",
      "# Set Workspace environment\n",
      "env.workspace = fgdb\n",
      "\n",
      "# SQL expression to select all \"W\" polygons\n",
      "expression = arcpy.AddFieldDelimiters('Soils', \"MUSYM\") + \" = 'W'\"\n",
      " \n",
      "# create an InsertCursor to add the OID from the soils fc and the X and Y coordinates from its centroid\n",
      "ic = arcpy.da.InsertCursor('WaterBody_location', ('soils_OID', 'X', 'Y'))\n",
      " \n",
      "# use a searchCursor to get OID and centroid coordinates from 'W' polygons from soils fc\n",
      "with arcpy.da.SearchCursor('Soils', ('OID@','SHAPE@XY'), where_clause=expression) as cursor:\n",
      "    for row in cursor: \n",
      "        # insert a new record into the table.\n",
      "        ic.insertRow((row[0], row[1][0], row[1][1]))\n",
      "# Delete the cursor object\n",
      "del ic"
     ],
     "language": "python",
     "metadata": {},
     "outputs": [
      {
       "ename": "RuntimeError",
       "evalue": "cannot open 'WaterBody_location'",
       "output_type": "pyerr",
       "traceback": [
        "\u001b[1;31m---------------------------------------------------------------------------\u001b[0m\n\u001b[1;31mRuntimeError\u001b[0m                              Traceback (most recent call last)",
        "\u001b[1;32m<ipython-input-11-751da133c256>\u001b[0m in \u001b[0;36m<module>\u001b[1;34m()\u001b[0m\n\u001b[0;32m      8\u001b[0m \u001b[1;33m\u001b[0m\u001b[0m\n\u001b[0;32m      9\u001b[0m \u001b[1;31m# create an InsertCursor to add the OID from the soils fc and the X and Y coordinates from its centroid\u001b[0m\u001b[1;33m\u001b[0m\u001b[1;33m\u001b[0m\u001b[0m\n\u001b[1;32m---> 10\u001b[1;33m \u001b[0mic\u001b[0m \u001b[1;33m=\u001b[0m \u001b[0marcpy\u001b[0m\u001b[1;33m.\u001b[0m\u001b[0mda\u001b[0m\u001b[1;33m.\u001b[0m\u001b[0mInsertCursor\u001b[0m\u001b[1;33m(\u001b[0m\u001b[1;34m'WaterBody_location'\u001b[0m\u001b[1;33m,\u001b[0m \u001b[1;33m(\u001b[0m\u001b[1;34m'soils_OID'\u001b[0m\u001b[1;33m,\u001b[0m \u001b[1;34m'X'\u001b[0m\u001b[1;33m,\u001b[0m \u001b[1;34m'Y'\u001b[0m\u001b[1;33m)\u001b[0m\u001b[1;33m)\u001b[0m\u001b[1;33m\u001b[0m\u001b[0m\n\u001b[0m\u001b[0;32m     11\u001b[0m \u001b[1;33m\u001b[0m\u001b[0m\n\u001b[0;32m     12\u001b[0m \u001b[1;31m# use a searchCursor to get OID and centroid coordinates from 'W' polygons from soils fc\u001b[0m\u001b[1;33m\u001b[0m\u001b[1;33m\u001b[0m\u001b[0m\n",
        "\u001b[1;31mRuntimeError\u001b[0m: cannot open 'WaterBody_location'"
       ]
      }
     ],
     "prompt_number": 11
    },
    {
     "cell_type": "markdown",
     "metadata": {},
     "source": [
      "####<a name=\"Exercise_6D\">6.D. Exercise</a>\n",
      "\n",
      "Now that we are experts in the subject of Cursors, let\u2019s complete a simple exercise.  In your file geodatabase you will find a table named `Cursor_Exercise`, which represents the output of the spatial analyst tool Tabulate Area.  The Tabulate Area tool calculates cross-tabulated areas between 2 datasets and outputs a table.  In this case, the tool was executed using the Soils layer and a slope raster that was reclassified into 20 slope groups.  In essence, this table represents the slope composition breakdown of a soils mapunit.\n",
      "\n",
      "Given that the results are the sum of the area of the pixels, analyzing these values is not that intuitive.  In this exercise you will help make the results more user-friendly by converting the values into percentages.  Here are some helpful tips to get you started:\n",
      "\n",
      "* Determine what cursor is best suited for this exercise\n",
      "* Keep in mind that the table contains over 20 fields so creating a list of fields to pass to your cursor would be ideal.  Also, the fields that begin with `Value_` are the fields of interest.\n",
      "* In order to calculate percentage values you will first have to tally up the values from the fields in your table.\n",
      "* Be careful with \u201c0\u201d values.  You don\u2019t want to divide those!"
     ]
    },
    {
     "cell_type": "markdown",
     "metadata": {},
     "source": [
      "####<a name=\"Creating_custom_geoprocessing_tools\">7. Creating custom geoprocessing tools</a>\n",
      "Creating a script tool that you can access from ArcToolbox will allow you to turn your own Python scripts and functionality into your own geoprocessing tools.  These tools will look and act like system geoprocessing tools and once created can have many benefits such as:\n",
      "\n",
      "* You can open it from the Search or Catalog window, use it in Model Builder and the Python window or call it from another script.\n",
      "* You can write messages to the Results window and progress dialog box\n",
      "* You can provide documentation about the tool\u2019s functionality and arguments using the built-in documentation tools.\n",
      "* Your tool will have a familiar and easy to use interface which will make your tool easy to transfer\n",
      "\n",
      "The script tool framework was introduced in ArcGIS 9.0 and was geared toward creating custom Python-based tools.  However, this framework is actually segregated into many parts which make it somewhat inefficient.  That is, in the script tool framework:\n",
      "\n",
      "* You create a toolbox made up of parameters using the Add Script wizard.\n",
      "* You can create validation code that lives in the toolbox to implement a certain behavior for your script tool dialog box.\n",
      "* The source python script is created and maintained separately.\n",
      "\n",
      "In ArcGIS 10.1, there are two ways of creating your own geoprocessing tools with Python: script tools in custom toolboxes <img src=\"https://dl.dropboxusercontent.com/u/17521862/etc/arctoolbox.png\"> and script tools in Python toolboxes <img src=\"https://dl.dropboxusercontent.com/u/17521862/etc/arctoolboxScript.png\">.  For this workshop, we will work with custom toolboxes.  For more information on the differences between custom toolboxes and Python toolboxes visit the ArcGIS Resource <http://resources.arcgis.com/en/help/main/10.1/index.html#//00150000002r000000>.\n",
      "\n",
      "You can only create a script tool within a custom toolbox and not a system toolbox.  In order to create a custom toolbox, rt-click in the white-space of your ArcToolbox and click **Add Toolbox**.  Select location to store your new toolbox in the form of a .tbx file and click on the **New Toolbox** icon <img src=\"https://dl.dropboxusercontent.com/u/17521862/etc/arctoolbox.png\"> and give your new toolbox and intuitive name.  Now that you have your new Toolbox you can create a script tool by rt-clicking your new toolbox, and click **Add > Script**.  This will open the Add Script wizard which takes you step by step through the process of creating a script tool.  You can always modify the properties names and data types of this script tool by right-clicking the script tool and choosing **Properties**.\n",
      "\n",
      "####<a name=\"Exercise_7A\">7.A. Exercise</a>\n",
      "\n",
      "In your home directory is a custom tool that needs an interface completed before you can distribute it to your field users.  This tool is designed to buffer feature classes that are within a given workspace at a user-specified distance.  The user can also specify whether to apply a buffer only to feature classes of a given geometry.  Add the CustomBufferTool.py script to your python environment and study the script to determine what types of arguments should be passed to the script."
     ]
    },
    {
     "cell_type": "markdown",
     "metadata": {},
     "source": [
      "####<a name=\"Automated_analytical_graphics\">8.D. Automated analytical graphics</a>\n",
      "\n",
      "ESRI is making a very good decision by moving boldly forward with Python. As a data scientist, I have often lamented that ESRI had poor integration with other analytical tools. While ESRI has been building better bindings with Python, Python has been building better analytical tools such as [numpy](http://www.numpy.org/), [scipy](http://www.scipy.org/), [matplotlib](http://matplotlib.org/), and my personal favorite although it's not included in the ArcGIS distribution of Python, [pandas](http://pandas.pydata.org/). Although I don't expect many of you to fully understand the following code completely, I thought I'd add it to the end of the module to give you a simple example of how you can combine ArcGIS with Python's emerging analytical tools."
     ]
    },
    {
     "cell_type": "code",
     "collapsed": false,
     "input": [
      "%matplotlib inline\n",
      "import matplotlib.pyplot as plt\n",
      "from matplotlib.backends.backend_pdf import PdfPages\n",
      "outPdf = wd + '/elevationHistograms.pdf'\n",
      "pp = PdfPages(outPdf)\n",
      "\n",
      "# First, create the Sections layer\n",
      "if not arcpy.Exists('Sections_layer'):\n",
      "    arcpy.MakeFeatureLayer_management('Sections', 'Sections_layer')\n",
      "for i in range(25,28):\n",
      "    # Select a Section\n",
      "    arcpy.SelectLayerByAttribute_management('Sections_layer', 'NEW_SELECTION', '\"OBJECTID\" = ' + str(i))\n",
      "    # Define an output for the clipped raster, then clip\n",
      "    clip_raster = fgdb + '/DEM30m_' + str(i)\n",
      "    arcpy.Clip_management('DEM30m', '', clip_raster, 'Sections_layer', '', 'ClippingGeometry')\n",
      "    # Pull out all data values as an array and clipped raster\n",
      "    raster_vals = arcpy.RasterToNumPyArray(clip_raster).reshape(-1)\n",
      "    arcpy.Delete_management(clip_raster)\n",
      "    # Toss out any NoData values\n",
      "    raster_vals = raster_vals[np.where(raster_vals > 0)]\n",
      "    # Plot a histogram\n",
      "    plt.figure()\n",
      "    plt.hist(raster_vals, color = '#fdbf6f')\n",
      "    plt.xlabel('Elevation (m)')\n",
      "    plt.ylabel('# of pixels')\n",
      "    plt.title('Elevation histogram within OBJECTID = ' + str(i))\n",
      "    plt.savefig(pp, format='pdf')\n",
      "pp.close()"
     ],
     "language": "python",
     "metadata": {},
     "outputs": []
    },
    {
     "cell_type": "markdown",
     "metadata": {},
     "source": [
      "###<a name=\"Conclusion\">Conclusion</a>\n",
      "\n",
      "The whole idea with combining Python and ArcGIS is to make you more efficient and expand your GIS capacity. Python is a tool--like any other tool, it only helps you if the tool is appropriate for the job. Sometimes it makes sense to do something by hand, and other times it makes sense to create a script. For instance, if you'll be doing generally the same task many times over the course of your lifetime. Here's a handy graphic from the fantastic comic, [xkcd.com](http://xkcd.com), to remind you of this concept: \n",
      "</br>\n",
      "</br>\n",
      "</br>\n",
      "![](http://imgs.xkcd.com/comics/is_it_worth_the_time.png)"
     ]
    },
    {
     "cell_type": "markdown",
     "metadata": {},
     "source": [
      "###<a name=\"Resources\">Resources</a>\n",
      "\n",
      "####Online:\n",
      "\n",
      "ESRI Python Resources: <http://resources.arcgis.com/en/communities/python/>\n",
      "\n",
      "Python Documentation: <http://python.org>\n",
      "\n",
      "Penn State Class: <https://www.e-education.psu.edu/geog485/book/export>\n",
      "\n",
      "GIS Stack Exchange: <http://gis.stackexchange.com/>\n",
      "\n",
      "Blog: <http://pythongisandstuff.wordpress.com/category/arcgis/arcpy/>\n",
      "\n",
      "####Books:\n",
      "\n",
      "*Recommended:* Zandbergen, Paul A. 2013.  Python Scripting for ArcGIS.  ESRI Press.\n",
      "\n",
      "Pimpler, Eric.  2013. Programming ArcGIS 10.1 with Python Cookbook.  PacktPublishing.\n",
      "\n",
      "Free Book: Think Python.  <http://www.greenteapress.com/thinkpython/>\n"
     ]
    }
   ],
   "metadata": {}
  }
 ]
}